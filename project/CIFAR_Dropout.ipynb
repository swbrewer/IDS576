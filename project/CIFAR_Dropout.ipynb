{
 "cells": [
  {
   "cell_type": "markdown",
   "metadata": {},
   "source": [
    "## IDS576 - Team 3\n",
    "#### Training CIFAR with Dropout as common approach to combat adversary samples"
   ]
  },
  {
   "cell_type": "code",
   "execution_count": 2,
   "metadata": {},
   "outputs": [],
   "source": [
    "import torch\n",
    "import torch.nn as nn\n",
    "import torch.optim as optim\n",
    "from torch.optim import lr_scheduler\n",
    "from torch.utils.data import SubsetRandomSampler, TensorDataset, DataLoader\n",
    "import torch.nn.functional as F\n",
    "from torchvision import datasets, models, transforms\n",
    "import numpy as np\n",
    "import matplotlib.pyplot as plt\n",
    "import time"
   ]
  },
  {
   "cell_type": "code",
   "execution_count": 3,
   "metadata": {},
   "outputs": [
    {
     "data": {
      "text/plain": [
       "device(type='cuda', index=0)"
      ]
     },
     "execution_count": 3,
     "metadata": {},
     "output_type": "execute_result"
    }
   ],
   "source": [
    "%config IPCompleter.greedy = True\n",
    "random_seed = 0\n",
    "device = torch.device(\"cuda:0\" if torch.cuda.is_available() else \"cpu\")\n",
    "device"
   ]
  },
  {
   "cell_type": "code",
   "execution_count": 4,
   "metadata": {},
   "outputs": [],
   "source": [
    "import numpy as np\n",
    "def get_train_data_stats(train_data):\n",
    "    # use np.concatenate to stick all the images together to form a 1600000 X 32 X 3 array\\\n",
    "    x = np.concatenate([np.asarray(train_data[i][0]) for i in range(len(train_data))])\n",
    "    print(x.shape)\n",
    "    # calculate the mean and std along the (0, 1) axes\n",
    "    train_mean = np.mean(x, axis=(0, 1))\n",
    "    train_std = np.std(x, axis=(0, 1))\n",
    "    print(train_mean, train_std)\n",
    "    return train_mean, train_std"
   ]
  },
  {
   "cell_type": "code",
   "execution_count": 5,
   "metadata": {},
   "outputs": [
    {
     "name": "stdout",
     "output_type": "stream",
     "text": [
      "Files already downloaded and verified\n",
      "(1600000, 32, 3)\n",
      "[125.30691805 122.95039414 113.86538318] [62.99321928 62.08870764 66.70489964]\n",
      "[0.49139968 0.48215841 0.44653091] [0.24703223 0.24348513 0.26158784]\n"
     ]
    }
   ],
   "source": [
    "# load the training data for determination of mean and std\n",
    "data_path = '~/IDS576/data'\n",
    "train_data = datasets.CIFAR10(root=data_path, train=True, download=True)\n",
    "train_mean, train_std = get_train_data_stats(train_data)\n",
    "print(train_mean/255, train_std/255)"
   ]
  },
  {
   "cell_type": "code",
   "execution_count": 6,
   "metadata": {},
   "outputs": [],
   "source": [
    "normalize = transforms.Normalize(\n",
    "    mean=train_mean/255,\n",
    "    std=train_std/255)\n",
    "\n",
    "train_transform = transforms.Compose([\n",
    "        transforms.ToTensor(),\n",
    "        normalize])\n",
    "    \n",
    "val_transform = transforms.Compose([\n",
    "        transforms.ToTensor(),\n",
    "        normalize])"
   ]
  },
  {
   "cell_type": "code",
   "execution_count": 7,
   "metadata": {},
   "outputs": [
    {
     "name": "stdout",
     "output_type": "stream",
     "text": [
      "Files already downloaded and verified\n",
      "Files already downloaded and verified\n",
      "Files already downloaded and verified\n"
     ]
    }
   ],
   "source": [
    "# Download train and test data\n",
    "data_path = '~/IDS576/data'\n",
    "trainset = datasets.CIFAR10(root=data_path, train=True, download=True, transform=train_transform)\n",
    "valset = datasets.CIFAR10(root=data_path, train=True, download=True, transform=val_transform)\n",
    "testset = datasets.CIFAR10(root=data_path, train=False, download=True, transform=val_transform)"
   ]
  },
  {
   "cell_type": "code",
   "execution_count": 8,
   "metadata": {},
   "outputs": [],
   "source": [
    "# Split train data in to train and validation data using torch dataset and utils.data modules\n",
    "\n",
    "val_size = .2\n",
    "n_train = len(trainset)\n",
    "\n",
    "# get train set indices and split point based on val size\n",
    "indices = list(range(n_train))\n",
    "split = int(np.floor(val_size * n_train))\n",
    "\n",
    "# shuffle trainset indices\n",
    "np.random.seed(random_seed)\n",
    "np.random.shuffle(indices)\n",
    "\n",
    "# split train into train and val with shuffled indices at split point. \n",
    "train_idx, val_idx = indices[split:], indices[:split]\n",
    "\n",
    "# Create train and val samplers based in split indices for use with DataLoader batch sampling\n",
    "train_sampler = SubsetRandomSampler(train_idx)\n",
    "val_sampler = SubsetRandomSampler(val_idx)\n",
    "\n",
    "batch_size = 128 # per paper\n",
    "n_trn = n_train*(1-val_size)\n",
    "batches = n_trn/batch_size\n",
    "\n",
    "# CUDA settings\n",
    "num_workers = 0 # allows preload of next batch, but greater than zero isn't recommended for cuda ops\n",
    "pin_memory = True\n",
    "\n",
    "train_dl = DataLoader(\n",
    "    trainset, batch_size=batch_size, sampler=train_sampler,\n",
    "    num_workers=num_workers, pin_memory=pin_memory)\n",
    "\n",
    "val_dl = DataLoader(\n",
    "    valset, batch_size=batch_size, sampler=val_sampler,\n",
    "    num_workers=num_workers, pin_memory=pin_memory)\n",
    "\n",
    "test_dl = DataLoader(\n",
    "    testset, batch_size=batch_size,\n",
    "    num_workers=num_workers, pin_memory=pin_memory)\n",
    "\n",
    "def single_dl(xy, batch_size=1):\n",
    "    return DataLoader(xy, batch_size=batch_size, num_workers=1, pin_memory=pin_memory)"
   ]
  },
  {
   "cell_type": "code",
   "execution_count": 9,
   "metadata": {},
   "outputs": [
    {
     "name": "stdout",
     "output_type": "stream",
     "text": [
      "['airplane', 'automobile', 'bird', 'cat', 'deer', 'dog', 'frog', 'horse', 'ship', 'truck']\n"
     ]
    }
   ],
   "source": [
    "classes = trainset.classes\n",
    "classdict = {label: name for label, name in enumerate(classes)}\n",
    "print(classes)"
   ]
  },
  {
   "cell_type": "code",
   "execution_count": 10,
   "metadata": {},
   "outputs": [],
   "source": [
    "def loss_batch(model, loss_func, xb, yb, opt=None):\n",
    "    xb = xb.to(device)\n",
    "    yb = yb.to(device)\n",
    "    correct = 0\n",
    "    output = model(xb)\n",
    "    _, preds = torch.max(output, 1)\n",
    "    correct = torch.sum(preds == yb)\n",
    "    acc = correct.double()/len(yb)\n",
    "    loss = loss_func(output, yb)\n",
    "    if opt is not None:\n",
    "        loss.backward()\n",
    "        opt.step()\n",
    "        opt.zero_grad()\n",
    "    return loss.item(), len(xb), acc   \n",
    "\n",
    "def fit(epochs, model, loss_func, opt, train_dl, val_dl):\n",
    "    mod = n_trn/(batch_size*20)\n",
    "    running_corrects = 0\n",
    "    val_accs = []\n",
    "    val_losses = []\n",
    "    for epoch in range(epochs):\n",
    "        since = time.time()\n",
    "        model.train()\n",
    "        #i=0\n",
    "        print(f'Epoch {epoch+1}/{epochs}: [', end='')\n",
    "        for i, (xb, yb) in enumerate(train_dl):\n",
    "            if not i % mod:\n",
    "                print('*', end='')\n",
    "            loss_batch(model, loss_func, xb, yb, opt)\n",
    "            #i+=1\n",
    "        print(']', end='')\n",
    "        model.eval()\n",
    "        print(' Val Loss: ', end='')\n",
    "        with torch.no_grad():\n",
    "            losses, nums, acc = zip(*[loss_batch(model, loss_func, xb, yb) for xb, yb in val_dl])\n",
    "        val_loss = np.sum(np.multiply(losses, nums)) / np.sum(nums)\n",
    "        val_acc = np.sum(np.multiply(acc, nums)) / np.sum(nums)\n",
    "        \n",
    "        # Save history\n",
    "        val_losses.append(val_loss)\n",
    "        val_accs.append(val_acc)\n",
    "\n",
    "        print(f'{val_loss:6.4f}, Val Acc: {val_acc:6.4f} ', end='')\n",
    "        until = time.time()\n",
    "        print(f'Elapsed (sec): {until-since:<5.1f}')\n",
    "    return val_accs, val_losses"
   ]
  },
  {
   "cell_type": "code",
   "execution_count": null,
   "metadata": {},
   "outputs": [],
   "source": [
    "class CIFAR_Standard(nn.Module):\n",
    "    \n",
    "    def __init__(self):\n",
    "        super(CIFAR_Standard, self).__init__()\n",
    "        self.conv1a = nn.Conv2d(3, 64, 3, padding=2)\n",
    "        self.conv1b = nn.Conv2d(64, 64, 3, padding=1)\n",
    "        self.conv2a = nn.Conv2d(64, 72, 3, padding=1)\n",
    "        self.conv2b = nn.Conv2d(72, 72, 3, padding=1)\n",
    "        self.fc1 = nn.Linear(72 * 8 * 8, 512)\n",
    "        self.fc2 = nn.Linear(512, 10)\n",
    "        self.pool = nn.MaxPool2d(2, 2)\n",
    "                             \n",
    "    def forward(self, x):\n",
    "        x = self.conv1a(x)\n",
    "        x = self.conv1b(x)\n",
    "        x = self.pool(F.relu(x))\n",
    "        \n",
    "        x = self.conv2a(x)\n",
    "        x = self.conv2b(x)\n",
    "        \n",
    "        x = self.pool(F.relu(x))\n",
    "        \n",
    "        x = x.view(-1, 72 * 8 * 8) \n",
    "        x = F.relu(self.fc1(x)) \n",
    "        x = F.relu(self.fc2(x))\n",
    "        return x"
   ]
  },
  {
   "cell_type": "code",
   "execution_count": 15,
   "metadata": {},
   "outputs": [],
   "source": [
    "class CIFAR_Dropout(nn.Module):\n",
    "    \n",
    "    def __init__(self):\n",
    "        super(CIFAR_Dropout, self).__init__()\n",
    "        self.conv1a = nn.Conv2d(3, 64, 3, padding=2)\n",
    "        self.conv1b = nn.Conv2d(64, 64, 3, padding=1)\n",
    "        self.conv2a = nn.Conv2d(64, 72, 3, padding=1)\n",
    "        self.conv2b = nn.Conv2d(72, 72, 3, padding=1)\n",
    "        self.fc1 = nn.Linear(72 * 8 * 8, 512)\n",
    "        self.dropout = nn.Dropout(p=.5)\n",
    "        self.fc2 = nn.Linear(512, 10)\n",
    "        self.pool = nn.MaxPool2d(2, 2)\n",
    "        \n",
    "                             \n",
    "    def forward(self, x):\n",
    "        x = self.conv1a(x)\n",
    "        x = self.conv1b(x)\n",
    "        x = self.pool(F.relu(x))\n",
    "        \n",
    "        x = self.conv2a(x)\n",
    "        x = self.conv2b(x)\n",
    "        \n",
    "        x = self.pool(F.relu(x))\n",
    "        \n",
    "        x = x.view(-1, 72 * 8 * 8) \n",
    "        x = F.relu(self.fc1(x))\n",
    "        x = self.dropout(x)\n",
    "        x = F.relu(self.fc2(x))\n",
    "        return x\n"
   ]
  },
  {
   "cell_type": "code",
   "execution_count": 16,
   "metadata": {},
   "outputs": [],
   "source": [
    "import torch.nn as nn\n",
    "import torch\n",
    "import numpy as np\n",
    "\n",
    "class RFN(nn.Module):\n",
    "    '''Wrapper class that takes any nn.Module based model and adds an RFN layer prior to all other layers.'''\n",
    "    \n",
    "    \n",
    "    def __init__(self, model, mu=.1, sigma=.05, rfn_flag=True):\n",
    "        super(RFN, self).__init__()\n",
    "        self.model = model\n",
    "        self.mu = mu\n",
    "        self.sigma = sigma\n",
    "        self.rfn_flag = rfn_flag\n",
    "        self.shape_vals = None\n",
    "\n",
    "    def forward(self, x):\n",
    "        if self.rfn_flag:\n",
    "            x = self.random_masks(x) * x\n",
    "            x = self.model(x)\n",
    "        else:\n",
    "            x = self.model(x)\n",
    "        return x\n",
    "    \n",
    "    \n",
    "    def random_masks(self, x):\n",
    "        # Calculate shape values for x\n",
    "        self.shape_vals = x.size(), x[0].size(), x[0].nelement()\n",
    "\n",
    "        # Create ones array of size (batch,channel,horiz,vert)\n",
    "        masks = np.ones(self.shape_vals[0])\n",
    "\n",
    "        # Create random masks for each sample in the batch\n",
    "        for mask in masks:\n",
    "            zero_cnt = np.absolute(int(np.ceil((self.sigma * np.random.randn() + self.mu) * self.shape_vals[2])))\n",
    "            zero_idx = np.random.choice(self.shape_vals[2], zero_cnt, replace=False)\n",
    "            mask.reshape(self.shape_vals[2])[zero_idx] = 0\n",
    "            mask.reshape(self.shape_vals[1])\n",
    "        return torch.tensor(masks, dtype=torch.float, device=device)"
   ]
  },
  {
   "cell_type": "code",
   "execution_count": 17,
   "metadata": {},
   "outputs": [],
   "source": [
    "from collections import defaultdict\n",
    "# Create history dict for all models with validation accuracy and loss per epoch\n",
    "history = defaultdict(list)"
   ]
  },
  {
   "cell_type": "code",
   "execution_count": 18,
   "metadata": {},
   "outputs": [
    {
     "name": "stdout",
     "output_type": "stream",
     "text": [
      "Training RFN: False, mu=0:\n",
      "Epoch 1/50: [***] Val Loss: 1.5133, Val Acc: 0.5071 Elapsed (sec): 19.6 \n",
      "Epoch 2/50: [***] Val Loss: 1.2509, Val Acc: 0.5894 Elapsed (sec): 12.6 \n",
      "Epoch 3/50: [***] Val Loss: 1.1558, Val Acc: 0.6250 Elapsed (sec): 11.8 \n",
      "Epoch 4/50: [***] Val Loss: 1.1076, Val Acc: 0.6334 Elapsed (sec): 11.7 \n",
      "Epoch 5/50: [***] Val Loss: 1.0798, Val Acc: 0.6418 Elapsed (sec): 11.6 \n",
      "Epoch 6/50: [***] Val Loss: 1.0752, Val Acc: 0.6506 Elapsed (sec): 11.8 \n",
      "Epoch 7/50: [***] Val Loss: 1.0784, Val Acc: 0.6485 Elapsed (sec): 11.7 \n",
      "Epoch 8/50: [***] Val Loss: 0.9714, Val Acc: 0.6783 Elapsed (sec): 11.9 \n",
      "Epoch 9/50: [***] Val Loss: 0.9603, Val Acc: 0.6867 Elapsed (sec): 11.7 \n",
      "Epoch 10/50: [***] Val Loss: 0.7637, Val Acc: 0.7632 Elapsed (sec): 11.7 \n",
      "Epoch 11/50: [***] Val Loss: 0.7818, Val Acc: 0.7534 Elapsed (sec): 11.7 \n",
      "Epoch 12/50: [***] Val Loss: 0.8401, Val Acc: 0.7616 Elapsed (sec): 11.8 \n",
      "Epoch 13/50: [***] Val Loss: 0.8745, Val Acc: 0.7546 Elapsed (sec): 11.7 \n",
      "Epoch 14/50: [***] Val Loss: 0.8698, Val Acc: 0.7593 Elapsed (sec): 11.8 \n",
      "Epoch 15/50: [***] Val Loss: 0.8570, Val Acc: 0.7637 Elapsed (sec): 11.7 \n",
      "Epoch 16/50: [***] Val Loss: 0.9971, Val Acc: 0.7584 Elapsed (sec): 11.8 \n",
      "Epoch 17/50: [***] Val Loss: 0.9340, Val Acc: 0.7591 Elapsed (sec): 11.7 \n",
      "Epoch 18/50: [***] Val Loss: 0.9446, Val Acc: 0.7499 Elapsed (sec): 12.3 \n",
      "Epoch 19/50: [***] Val Loss: 0.9925, Val Acc: 0.7558 Elapsed (sec): 12.1 \n",
      "Epoch 20/50: [***] Val Loss: 1.0810, Val Acc: 0.7619 Elapsed (sec): 11.7 \n",
      "Epoch 21/50: [***] Val Loss: 1.0314, Val Acc: 0.7552 Elapsed (sec): 11.8 \n",
      "Epoch 22/50: [***] Val Loss: 1.1009, Val Acc: 0.7599 Elapsed (sec): 11.7 \n",
      "Epoch 23/50: [***] Val Loss: 1.0463, Val Acc: 0.7662 Elapsed (sec): 11.7 \n",
      "Epoch 24/50: [***] Val Loss: 1.0454, Val Acc: 0.7649 Elapsed (sec): 11.7 \n",
      "Epoch 25/50: [***] Val Loss: 1.2492, Val Acc: 0.7496 Elapsed (sec): 11.7 \n",
      "Epoch 26/50: [***] Val Loss: 1.1723, Val Acc: 0.7638 Elapsed (sec): 11.8 \n",
      "Epoch 27/50: [***] Val Loss: 1.2507, Val Acc: 0.7630 Elapsed (sec): 12.1 \n",
      "Epoch 28/50: [***] Val Loss: 1.2887, Val Acc: 0.7658 Elapsed (sec): 12.1 \n",
      "Epoch 29/50: [***] Val Loss: 1.1413, Val Acc: 0.7656 Elapsed (sec): 11.7 \n",
      "Epoch 30/50: [***] Val Loss: 1.1829, Val Acc: 0.7586 Elapsed (sec): 11.7 \n",
      "Epoch 31/50: [***] Val Loss: 1.2389, Val Acc: 0.7646 Elapsed (sec): 11.7 \n",
      "Epoch 32/50: [***] Val Loss: 1.2730, Val Acc: 0.7577 Elapsed (sec): 11.7 \n",
      "Epoch 33/50: [***] Val Loss: 1.2621, Val Acc: 0.7652 Elapsed (sec): 11.7 \n",
      "Epoch 34/50: [***] Val Loss: 1.2180, Val Acc: 0.7572 Elapsed (sec): 12.1 \n",
      "Epoch 35/50: [***] Val Loss: 1.2805, Val Acc: 0.7603 Elapsed (sec): 20.9 \n",
      "Epoch 36/50: [***] Val Loss: 1.2200, Val Acc: 0.7664 Elapsed (sec): 21.3 \n",
      "Epoch 37/50: [***] Val Loss: 1.2850, Val Acc: 0.7513 Elapsed (sec): 20.9 \n",
      "Epoch 38/50: [***] Val Loss: 1.2445, Val Acc: 0.7619 Elapsed (sec): 21.2 \n",
      "Epoch 39/50: [***] Val Loss: 1.3148, Val Acc: 0.7640 Elapsed (sec): 21.1 \n",
      "Epoch 40/50: [***] Val Loss: 1.3824, Val Acc: 0.7565 Elapsed (sec): 23.5 \n",
      "Epoch 41/50: [***] Val Loss: 1.3060, Val Acc: 0.7617 Elapsed (sec): 23.6 \n",
      "Epoch 42/50: [***] Val Loss: 1.3869, Val Acc: 0.7632 Elapsed (sec): 23.6 \n",
      "Epoch 43/50: [***] Val Loss: 1.3764, Val Acc: 0.7581 Elapsed (sec): 23.6 \n",
      "Epoch 44/50: [***] Val Loss: 1.3869, Val Acc: 0.7600 Elapsed (sec): 23.8 \n",
      "Epoch 45/50: [***] Val Loss: 1.4261, Val Acc: 0.7613 Elapsed (sec): 23.8 \n",
      "Epoch 46/50: [***] Val Loss: 1.4301, Val Acc: 0.7585 Elapsed (sec): 23.8 \n",
      "Epoch 47/50: [***] Val Loss: 1.4489, Val Acc: 0.7580 Elapsed (sec): 22.2 \n",
      "Epoch 48/50: [***] Val Loss: 1.4718, Val Acc: 0.7627 Elapsed (sec): 21.1 \n",
      "Epoch 49/50: [***] Val Loss: 1.4113, Val Acc: 0.7617 Elapsed (sec): 21.3 \n",
      "Epoch 50/50: [***] Val Loss: 1.3351, Val Acc: 0.7691 Elapsed (sec): 21.1 \n"
     ]
    }
   ],
   "source": [
    "# Train Standard CIFAR model using paper hyperparams\n",
    "\n",
    "#rfn_mu_vals = [0,.1, 0, .2, .3, .4, .5]\n",
    "rfn_mu_vals = [0]\n",
    "epochs = 50\n",
    "\n",
    "for mu in rfn_mu_vals:    \n",
    "    # Set whether RFN will be used in training\n",
    "    if mu == 0:\n",
    "        rfn_flag = False\n",
    "    else:\n",
    "        rfn_flag = True\n",
    "        \n",
    "    print(f'Training RFN: {rfn_flag}, mu={mu}:')     \n",
    "    cifar_rfn = CIFAR_Dropout()\n",
    "    cifar_rfn.to(device)\n",
    "    rfn_wrapper = RFN(cifar_rfn, mu=mu, sigma=.05, rfn_flag=rfn_flag)\n",
    "    rfn_wrapper.to(device)\n",
    "    \n",
    "    loss_func = nn.CrossEntropyLoss()\n",
    "    opt = optim.Adam(cifar_rfn.parameters(), lr=0.001)\n",
    "    \n",
    "    history[mu] = fit(epochs, rfn_wrapper, loss_func, opt, train_dl, val_dl)\n",
    "    \n",
    "    # Save model\n",
    "    PATH = f'./models/CIFAR_Dropout.pth'\n",
    "    torch.save(cifar_rfn.state_dict(), PATH)"
   ]
  },
  {
   "cell_type": "code",
   "execution_count": 34,
   "metadata": {},
   "outputs": [],
   "source": [
    "import pickle\n",
    "with open('./models/cifar_history_dropout.pkl', 'wb') as f:\n",
    "    pickle.dump(history, f)"
   ]
  },
  {
   "cell_type": "code",
   "execution_count": 35,
   "metadata": {},
   "outputs": [],
   "source": [
    "with open('./models/cifar_history_dropout.pkl', 'rb') as f:\n",
    "    history = pickle.load(f)"
   ]
  },
  {
   "cell_type": "code",
   "execution_count": 36,
   "metadata": {},
   "outputs": [
    {
     "data": {
      "text/plain": [
       "<matplotlib.legend.Legend at 0x7efca0585d68>"
      ]
     },
     "execution_count": 36,
     "metadata": {},
     "output_type": "execute_result"
    },
    {
     "data": {
      "image/png": "[encoded data removed]",
      "text/plain": [
       "<Figure size 936x360 with 2 Axes>"
      ]
     },
     "metadata": {
      "needs_background": "light"
     },
     "output_type": "display_data"
    }
   ],
   "source": [
    "import matplotlib.pyplot as plt\n",
    "\n",
    "colors = ['k', 'r', 'b', 'g', 'm', 'c']\n",
    "\n",
    "fig, ax = plt.subplots(nrows=1, ncols=2, figsize=(13,5))\n",
    "fig.suptitle('CIFAR-10 Training History')\n",
    "ax[0].set_title('Validation Accuracy')\n",
    "ax[1].set_title('Validation Loss')\n",
    "for c, (k, v) in zip(colors, history.items()):\n",
    "    ax[0].plot(range(len(v[0])), v[0], c+'--', label=str(k))\n",
    "    ax[1].plot(range(len(v[1])), v[1], c+'--', label=str(k))\n",
    "ax[0].legend(title='RFN Rate')\n",
    "ax[1].legend(title='RFN Rate')"
   ]
  },
  {
   "cell_type": "code",
   "execution_count": 27,
   "metadata": {},
   "outputs": [],
   "source": [
    "def fgsm_batch(net, orig, eps=15):\n",
    "    '''Given a pytorch CNN model, original image as tensor, and value for epsilon, create adversarial sample\n",
    "    using fast gradient sign method (FGSM) described in arXiv:1412.6572v3'''\n",
    "    # Create input tensor from original image, unsqeezing by a dim to account for model expected batch dim\n",
    "    # float cast is likely not needed after normalization, but as float is required for cuda execution,\n",
    "    # it's best to ensure float data\n",
    "    inp = orig.float().clone().detach().to(device).requires_grad_(True)\n",
    "    \n",
    "    # Make prediction prior to attack to use in calulating gradients\n",
    "    prior_out = net(inp)\n",
    "    prior_pred = torch.argmax(prior_out)\n",
    "    \n",
    "    # Use prediction vector to compute loss and then compute gradients from loss to use in attack\n",
    "    loss = criterion(prior_out, prior_pred.unsqueeze(0))\n",
    "    loss.backward()\n",
    "    \n",
    "    # Actual FSGM method\n",
    "    #print(orig.min(), orig.max())\n",
    "    inp.data = inp.data + ((eps/255.0) * torch.sign(inp.grad.data))\n",
    "    inp.data = inp.data.clamp(min=orig.min(), max=orig.max())\n",
    "    #print(inp.min(), inp.max())\n",
    "    '''\n",
    "    # Predict on attack sample\n",
    "    post_pred = torch.argmax(net(inp).data)\n",
    "    \n",
    "    # Create perturbation mask\n",
    "    perturbation = torch.empty_like(orig)\n",
    "    adv = inp.data.cpu()[0]\n",
    "    perturbation = adv - orig'''\n",
    "    \n",
    "    return inp"
   ]
  },
  {
   "cell_type": "code",
   "execution_count": 28,
   "metadata": {},
   "outputs": [],
   "source": [
    "def evaluate(net, dataloader, eps=15, adv=False):\n",
    "    correct = 0\n",
    "    count = 0\n",
    "    for i, data in enumerate(dataloader, 0):\n",
    "        # get the inputs; data is a list of [inputs, labels]\n",
    "        inputs, labels = data\n",
    "        inputs = inputs.to(device)\n",
    "        labels = labels.to(device)\n",
    "        if adv:\n",
    "            inputs = fgsm_batch(net, inputs, eps = eps)\n",
    "        preds = net(inputs)\n",
    "        if torch.argmax(preds) == labels:\n",
    "            correct += 1.0\n",
    "        count += 1.0\n",
    "        if not i % 5000:\n",
    "            print(f'Sample: {i}, Running Accuracy: {(correct/count):5.3f}')\n",
    "    acc = correct/count\n",
    "    print(f'Accuracy over {int(count)} samples: {acc:5.3f}')\n",
    "    return acc"
   ]
  },
  {
   "cell_type": "code",
   "execution_count": 37,
   "metadata": {},
   "outputs": [],
   "source": [
    "# Create accuracy dictionary\n",
    "from collections import defaultdict\n",
    "accs_no_fsgm = defaultdict(list)\n",
    "accs_fsgm = defaultdict(list)\n",
    "\n",
    "models = ['Standard', 'Dropout', 'RFN']\n",
    "rfn_mu_vals = [0]\n",
    "epsilons = [0, 40, 60, 90]\n",
    "\n",
    "analysis = {}\n",
    "for model in models:\n",
    "    analysis[model] = {}\n",
    "    for adv in [True, False]:\n",
    "        analysis[model][adv] = {}\n",
    "        for mu in rfn_mu_vals:\n",
    "            analysis[model][adv][mu] = {}\n",
    "            for eps in epsilons:\n",
    "                analysis[model][adv][mu][eps] = []"
   ]
  },
  {
   "cell_type": "code",
   "execution_count": 42,
   "metadata": {},
   "outputs": [
    {
     "name": "stdout",
     "output_type": "stream",
     "text": [
      "Evaluate CIFAR Dropout without FSGM, mu=0:\n",
      "Sample: 0, Running Accuracy: 1.000\n",
      "Sample: 5000, Running Accuracy: 0.768\n",
      "Accuracy over 10000 samples: 0.769\n",
      "Evaluate CIFAR Dropout at epsilon=0, mu=0:\n",
      "Sample: 0, Running Accuracy: 0.000\n",
      "Sample: 5000, Running Accuracy: 0.770\n",
      "Accuracy over 10000 samples: 0.769\n",
      "Evaluate CIFAR Dropout without FSGM, mu=0:\n",
      "Sample: 0, Running Accuracy: 1.000\n",
      "Sample: 5000, Running Accuracy: 0.774\n",
      "Accuracy over 10000 samples: 0.769\n",
      "Evaluate CIFAR Dropout at epsilon=40, mu=0:\n",
      "Sample: 0, Running Accuracy: 0.000\n",
      "Sample: 5000, Running Accuracy: 0.319\n",
      "Accuracy over 10000 samples: 0.316\n",
      "Evaluate CIFAR Dropout without FSGM, mu=0:\n",
      "Sample: 0, Running Accuracy: 0.000\n",
      "Sample: 5000, Running Accuracy: 0.766\n",
      "Accuracy over 10000 samples: 0.769\n",
      "Evaluate CIFAR Dropout at epsilon=60, mu=0:\n",
      "Sample: 0, Running Accuracy: 1.000\n",
      "Sample: 5000, Running Accuracy: 0.277\n",
      "Accuracy over 10000 samples: 0.269\n",
      "Evaluate CIFAR Dropout without FSGM, mu=0:\n",
      "Sample: 0, Running Accuracy: 1.000\n",
      "Sample: 5000, Running Accuracy: 0.769\n",
      "Accuracy over 10000 samples: 0.769\n",
      "Evaluate CIFAR Dropout at epsilon=90, mu=0:\n",
      "Sample: 0, Running Accuracy: 0.000\n",
      "Sample: 5000, Running Accuracy: 0.214\n",
      "Accuracy over 10000 samples: 0.217\n"
     ]
    }
   ],
   "source": [
    "# load CIFAR models\n",
    "val_dl = DataLoader(\n",
    "    valset, batch_size=1, sampler=val_sampler,\n",
    "    num_workers=num_workers, pin_memory=pin_memory)\n",
    "\n",
    "rfn_mu_vals = [0]\n",
    "epsilons = [40, 60, 90]\n",
    "models = ['Standard': CIFAR_Standard(), 'Dropout': CIFAR_Dropout()]\n",
    "\n",
    "# Evaluate pretrained CIFAR CNNs with and without FSGM attack, set sigma on RFN = 0 \n",
    "for model_name, model_instance in models.items():\n",
    "    for eps in epsilons:\n",
    "        for adv in [False, True]:\n",
    "            for i, mu in enumerate(rfn_mu_vals):\n",
    "                model = CIFAR_Dropout()\n",
    "                rfn_wrapper = RFN(model, mu=mu, sigma=0, rfn_flag=True)\n",
    "                model.load_state_dict(torch.load(f'./models/CIFAR_{model}.pth'))\n",
    "                model.to(device)\n",
    "                model.eval()\n",
    "                criterion = nn.CrossEntropyLoss()\n",
    "                if adv:\n",
    "                    print(f'Evaluate CIFAR {model} at epsilon={eps}, mu={mu}:')\n",
    "                    analysis[model][adv][mu][eps] = evaluate(rfn_wrapper, val_dl, eps=eps, adv=adv)\n",
    "                else:\n",
    "                    print(f'Evaluate CIFAR {model} without FSGM, mu={mu}:')\n",
    "                    analysis[model][adv][mu][0] = evaluate(rfn_wrapper, val_dl, eps=eps, adv=adv)"
   ]
  },
  {
   "cell_type": "code",
   "execution_count": 79,
   "metadata": {},
   "outputs": [
    {
     "name": "stdout",
     "output_type": "stream",
     "text": [
      "\t\tFSGM Epsilons:\n",
      "MU\tModel\t        0        40        60        90\n",
      "0\tDropout    0.7691    0.3162    0.2687    0.2172\n"
     ]
    }
   ],
   "source": [
    "print('\\t\\tFSGM Epsilons:')\n",
    "print(f'MU\\tModel\\t{0:>9}{40:>10}{60:>10}{90:>10}')\n",
    "for mu in rfn_mu_vals:\n",
    "    print(f'{mu}\\t{model}\\\n",
    "    {analysis[model][False][mu][0]:.4}\\\n",
    "    {analysis[model][True][mu][40]:.4}\\\n",
    "    {analysis[model][True][mu][60]:.4}\\\n",
    "    {analysis[model][True][mu][90]:.4}')"
   ]
  },
  {
   "cell_type": "code",
   "execution_count": 41,
   "metadata": {},
   "outputs": [
    {
     "data": {
      "text/plain": [
       "dict_keys([0, 40, 60, 90])"
      ]
     },
     "execution_count": 41,
     "metadata": {},
     "output_type": "execute_result"
    }
   ],
   "source": [
    "analysis[model][False][mu].keys()"
   ]
  },
  {
   "cell_type": "code",
   "execution_count": null,
   "metadata": {},
   "outputs": [],
   "source": []
  }
 ],
 "metadata": {
  "kernelspec": {
   "display_name": "Python 3",
   "language": "python",
   "name": "python3"
  },
  "language_info": {
   "codemirror_mode": {
    "name": "ipython",
    "version": 3
   },
   "file_extension": ".py",
   "mimetype": "text/x-python",
   "name": "python",
   "nbconvert_exporter": "python",
   "pygments_lexer": "ipython3",
   "version": "3.7.3"
  }
 },
 "nbformat": 4,
 "nbformat_minor": 2
}
