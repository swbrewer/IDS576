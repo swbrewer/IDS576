{
 "cells": [
  {
   "cell_type": "code",
   "execution_count": 19,
   "metadata": {},
   "outputs": [],
   "source": [
    "import torch\n",
    "#from torch.autograd import Variable\n",
    "from torchvision import models, datasets, transforms\n",
    "from torch.utils.data import SubsetRandomSampler, TensorDataset, DataLoader\n",
    "import torch.nn.functional as F\n",
    "import torch.nn as nn\n",
    "import numpy as np\n",
    "import random\n",
    "#import cv2\n",
    "import matplotlib.pyplot as plt\n",
    "#import argparse\n",
    "from PIL import Image\n",
    "#from model_mnist import Basic_CNN"
   ]
  },
  {
   "cell_type": "code",
   "execution_count": 3,
   "metadata": {},
   "outputs": [
    {
     "data": {
      "text/plain": [
       "device(type='cuda', index=0)"
      ]
     },
     "execution_count": 3,
     "metadata": {},
     "output_type": "execute_result"
    }
   ],
   "source": [
    "%config IPCompleter.greedy = True\n",
    "#random_seed = 0 #As randomness is a key part of this method, we don't want a seed\n",
    "device = torch.device(\"cuda:0\" if torch.cuda.is_available() else \"cpu\")\n",
    "device"
   ]
  },
  {
   "cell_type": "code",
   "execution_count": 4,
   "metadata": {},
   "outputs": [],
   "source": [
    "import numpy as np\n",
    "def get_train_data_stats(train_data):\n",
    "    # use np.concatenate to stick all the images together to form a 1600000 X 32 X 3 array\\\n",
    "    x = np.concatenate([np.asarray(train_data[i][0]) for i in range(len(train_data))])\n",
    "    print(x.shape)\n",
    "    # calculate the mean and std along the (0, 1) axes\n",
    "    train_mean = np.mean(x, axis=(0, 1))\n",
    "    train_std = np.std(x, axis=(0, 1))\n",
    "    print(train_mean, train_std)\n",
    "    return train_mean, train_std"
   ]
  },
  {
   "cell_type": "code",
   "execution_count": 5,
   "metadata": {},
   "outputs": [
    {
     "name": "stdout",
     "output_type": "stream",
     "text": [
      "(1680000, 28)\n",
      "33.318421449829934 78.56748998339798\n"
     ]
    }
   ],
   "source": [
    "# load the training data\n",
    "data_path = '~/IDS576/data'\n",
    "train_data = datasets.MNIST(root=data_path, train=True, download=True)\n",
    "train_mean, train_std = get_train_data_stats(train_data)"
   ]
  },
  {
   "cell_type": "code",
   "execution_count": 6,
   "metadata": {},
   "outputs": [
    {
     "name": "stdout",
     "output_type": "stream",
     "text": [
      "0.1306604762738429 0.30810780385646264\n"
     ]
    }
   ],
   "source": [
    "print(train_mean/255, train_std/255)"
   ]
  },
  {
   "cell_type": "code",
   "execution_count": 7,
   "metadata": {},
   "outputs": [],
   "source": [
    "'''normalize = transforms.Normalize(\n",
    "    mean = train_mean/255, \n",
    "    std = train_std/255)'''\n",
    "\n",
    "train_transform = transforms.Compose([\n",
    "    transforms.ToTensor()\n",
    "    ])\n",
    "    \n",
    "val_transform = transforms.Compose([   \n",
    "    transforms.ToTensor()\n",
    "    ])\n"
   ]
  },
  {
   "cell_type": "code",
   "execution_count": 8,
   "metadata": {},
   "outputs": [],
   "source": [
    "# Download train and test data\n",
    "data_path = '~/IDS576/data'\n",
    "trainset = datasets.MNIST(root=data_path, train=True, download=True, transform=train_transform)\n",
    "valset = datasets.MNIST(root=data_path, train=True, download=True, transform=val_transform)\n",
    "testset = datasets.MNIST(root=data_path, train=False, download=True, transform=val_transform)"
   ]
  },
  {
   "cell_type": "code",
   "execution_count": 9,
   "metadata": {},
   "outputs": [],
   "source": [
    "class MNIST(nn.Module):\n",
    "    \n",
    "    def __init__(self):\n",
    "        super(MNIST, self).__init__()\n",
    "        self.conv1 = nn.Conv2d(1, 28, 3) #1 in channel, 28 filters, 3x3 filter size\n",
    "        self.pool = nn.MaxPool2d(2, 2)\n",
    "        self.fc1 = nn.Linear(28 * 13 * 13, 128)\n",
    "        self.dropout = nn.Dropout(p=.2)\n",
    "        self.fc2 = nn.Linear(128, 10)\n",
    "                             \n",
    "    def forward(self, x):\n",
    "        x = self.pool(F.relu(self.conv1(x)))\n",
    "        x = x.view(-1, 28 * 13 * 13) # Flattens from 28 13*13 (post pool, no pad) 1d 28*13*13 tensor\n",
    "        x = F.relu(self.fc1(x)) # 28*13*13 inputs, 128 outputs\n",
    "        x = self.dropout(x)\n",
    "        x = F.relu(self.fc2(x)) # 128 inputs, 10 outputs to match num classes\n",
    "        return x"
   ]
  },
  {
   "cell_type": "code",
   "execution_count": 434,
   "metadata": {},
   "outputs": [
    {
     "name": "stdout",
     "output_type": "stream",
     "text": [
      "1\n"
     ]
    },
    {
     "data": {
      "text/plain": [
       "<matplotlib.image.AxesImage at 0x7fde46046128>"
      ]
     },
     "execution_count": 434,
     "metadata": {},
     "output_type": "execute_result"
    },
    {
     "data": {
      "image/png": "[encoded data removed]",
      "text/plain": [
       "<Figure size 432x288 with 1 Axes>"
      ]
     },
     "metadata": {
      "needs_background": "light"
     },
     "output_type": "display_data"
    }
   ],
   "source": [
    "orig = trainset[4][0] #3x32x32\n",
    "label = trainset[4][1]\n",
    "img = denormalize(orig)\n",
    "print(label)\n",
    "plt.imshow(img.numpy().transpose(1,2,0))"
   ]
  },
  {
   "cell_type": "code",
   "execution_count": 22,
   "metadata": {},
   "outputs": [],
   "source": [
    "def fgsm_batch(net, orig, eps=15):\n",
    "    '''Given a pytorch CNN model, original image as tensor, and value for epsilon, create adversarial sample\n",
    "    using fast gradient sign method (FGSM) described in arXiv:1412.6572v3'''\n",
    "    # Create input tensor from original image, unsqeezing by a dim to account for model expected batch dim\n",
    "    # float cast is likely not needed after normalization, but as float is required for cuda execution,\n",
    "    # it's best to ensure float data\n",
    "    inp = orig.float().clone().detach().to(device).requires_grad_(True)\n",
    "    \n",
    "    # Make prediction prior to attack to use in calulating gradients\n",
    "    prior_out = net(inp)\n",
    "    prior_pred = torch.argmax(prior_out)\n",
    "    \n",
    "    # Use prediction vector to compute loss and then compute gradients from loss to use in attack\n",
    "    loss = criterion(prior_out, prior_pred.unsqueeze(0))\n",
    "    loss.backward()\n",
    "    \n",
    "    # Actual FSGM method\n",
    "    #print(orig.min(), orig.max())\n",
    "    inp.data = inp.data + ((eps/255.0) * torch.sign(inp.grad.data))\n",
    "    inp.data = inp.data.clamp(min=orig.min(), max=orig.max())\n",
    "    #print(inp.min(), inp.max())\n",
    "    '''\n",
    "    # Predict on attack sample\n",
    "    post_pred = torch.argmax(net(inp).data)\n",
    "    \n",
    "    # Create perturbation mask\n",
    "    perturbation = torch.empty_like(orig)\n",
    "    adv = inp.data.cpu()[0]\n",
    "    perturbation = adv - orig'''\n",
    "    \n",
    "    return inp"
   ]
  },
  {
   "cell_type": "code",
   "execution_count": 61,
   "metadata": {},
   "outputs": [],
   "source": [
    "def fgsm_sample(net, orig, eps=10):\n",
    "    '''Given a pytorch CNN model, original image as tensor, and value for epsilon, create adversarial sample\n",
    "    using fast gradient sign method (FGSM) described in arXiv:1412.6572v3'''\n",
    "    # Create input tensor from original image, unsqeezing by a dim to account for model expected batch dim\n",
    "    # float cast is likely not needed after normalization, but as float is required for cuda execution,\n",
    "    # it's best to ensure float data\n",
    "    inp = orig.unsqueeze(0).float().clone().detach().to(device).requires_grad_(True)\n",
    "    \n",
    "    # Make prediction prior to attack to use in calulating gradients\n",
    "    prior_out = net(inp)\n",
    "    prior_pred = torch.argmax(prior_out)\n",
    "    \n",
    "    # Use prediction vector to compute loss and then compute gradients from loss to use in attack\n",
    "    loss = criterion(prior_out, prior_pred.unsqueeze(0))\n",
    "    loss.backward()\n",
    "    \n",
    "    # Actual FSGM method\n",
    "    #print(orig.min(), orig.max())\n",
    "    inp.data = inp.data + ((eps/255.0) * torch.sign(inp.grad.data))\n",
    "    inp.data = inp.data.clamp(min=orig.min(), max=orig.max())\n",
    "    #print(inp.min(), inp.max())\n",
    "    \n",
    "    # Predict on attack sample\n",
    "    post_pred = torch.argmax(net(inp).data)\n",
    "    \n",
    "    # Create perturbation mask\n",
    "    perturbation = torch.empty_like(orig)\n",
    "    adv = inp.data.cpu()[0]\n",
    "    perturbation = adv - orig\n",
    "    \n",
    "    return inp, perturbation, prior_pred, post_pred"
   ]
  },
  {
   "cell_type": "code",
   "execution_count": 79,
   "metadata": {},
   "outputs": [],
   "source": [
    "def denormalize(tensor):\n",
    "    denorm_tensor = tensor.clone().detach()\n",
    "    for t, mean, std in zip(denorm_tensor, train_mean, train_std):\n",
    "        t.mul_(std).add_(mean)\n",
    "    return denorm_tensor.int().clamp(min=0, max=255)\n",
    "\n",
    "def visualize_attack(orig, inp, perturbation, prior_pred, post_pred, label):\n",
    "    fig, ax = plt.subplots(nrows=1, ncols=3)\n",
    "    fig.suptitle(f'FGSM sample with epsilon = {eps}', y=.8)\n",
    "    ax[0].set_title(f'True: {label}, Pred {prior_pred}')\n",
    "    #ax[0].imshow(denormalize(orig).numpy().transpose(1,2,0))\n",
    "    ax[0].imshow(orig.numpy().squeeze(0), cmap='gray')\n",
    "    ax[1].set_title(f'Perturbation')\n",
    "    #ax[1].imshow(denormalize(perturbation).numpy().transpose(1,2,0))\n",
    "    ax[1].imshow(perturbation.numpy().squeeze(0), cmap='gray')\n",
    "    ax[2].set_title(f'Adv Pred: {post_pred}')\n",
    "    #ax[2].imshow(denormalize(inp.cpu().squeeze()).numpy().transpose(1,2,0))\n",
    "    ax[2].imshow(inp.cpu().squeeze().detach().numpy(), cmap='gray')"
   ]
  },
  {
   "cell_type": "code",
   "execution_count": 80,
   "metadata": {},
   "outputs": [],
   "source": [
    "sample_idx = 100"
   ]
  },
  {
   "cell_type": "code",
   "execution_count": 83,
   "metadata": {},
   "outputs": [
    {
     "data": {
      "image/png": "[encoded data removed]",
      "text/plain": [
       "<Figure size 432x288 with 3 Axes>"
      ]
     },
     "metadata": {
      "needs_background": "light"
     },
     "output_type": "display_data"
    },
    {
     "data": {
      "image/png": "[encoded data removed]",
      "text/plain": [
       "<Figure size 432x288 with 3 Axes>"
      ]
     },
     "metadata": {
      "needs_background": "light"
     },
     "output_type": "display_data"
    },
    {
     "data": {
      "image/png": "[encoded data removed]",
      "text/plain": [
       "<Figure size 432x288 with 3 Axes>"
      ]
     },
     "metadata": {
      "needs_background": "light"
     },
     "output_type": "display_data"
    },
    {
     "data": {
      "image/png": "[encoded data removed]",
      "text/plain": [
       "<Figure size 432x288 with 3 Axes>"
      ]
     },
     "metadata": {
      "needs_background": "light"
     },
     "output_type": "display_data"
    },
    {
     "data": {
      "image/png": "[encoded data removed]",
      "text/plain": [
       "<Figure size 432x288 with 3 Axes>"
      ]
     },
     "metadata": {
      "needs_background": "light"
     },
     "output_type": "display_data"
    },
    {
     "data": {
      "image/png": "[encoded data removed]",
      "text/plain": [
       "<Figure size 432x288 with 3 Axes>"
      ]
     },
     "metadata": {
      "needs_background": "light"
     },
     "output_type": "display_data"
    }
   ],
   "source": [
    "# FGSM vs MNIST with no RFN\n",
    "num_samples = 1\n",
    "trainlen = len(trainset)\n",
    "eps_list = [10,20,30,40,50,60]\n",
    "\n",
    "mnist_ref = MNIST()\n",
    "mnist_ref.to(device)\n",
    "mnist_ref.load_state_dict(torch.load(f'./models/MNIST_rfn_0.pth'))\n",
    "mnist_ref.eval()\n",
    "\n",
    "for i in range(num_samples):\n",
    "    #sample_idx = int(random.random()*trainlen)\n",
    "    for eps in eps_list:\n",
    "        orig = trainset[sample_idx][0] #3x32x32\n",
    "        label = trainset[sample_idx][1]\n",
    "        inp, perturbation, prior_pred, post_pred = fgsm_sample(mnist_ref, orig, eps=eps)\n",
    "        visualize_attack(orig, inp, perturbation, prior_pred, post_pred, label)\n"
   ]
  },
  {
   "cell_type": "code",
   "execution_count": 87,
   "metadata": {},
   "outputs": [
    {
     "data": {
      "image/png": "[encoded data removed]",
      "text/plain": [
       "<Figure size 432x288 with 3 Axes>"
      ]
     },
     "metadata": {
      "needs_background": "light"
     },
     "output_type": "display_data"
    },
    {
     "data": {
      "image/png": "[encoded data removed]",
      "text/plain": [
       "<Figure size 432x288 with 3 Axes>"
      ]
     },
     "metadata": {
      "needs_background": "light"
     },
     "output_type": "display_data"
    },
    {
     "data": {
      "image/png": "[encoded data removed]",
      "text/plain": [
       "<Figure size 432x288 with 3 Axes>"
      ]
     },
     "metadata": {
      "needs_background": "light"
     },
     "output_type": "display_data"
    },
    {
     "data": {
      "image/png": "[encoded data removed]",
      "text/plain": [
       "<Figure size 432x288 with 3 Axes>"
      ]
     },
     "metadata": {
      "needs_background": "light"
     },
     "output_type": "display_data"
    },
    {
     "data": {
      "image/png": "[encoded data removed]",
      "text/plain": [
       "<Figure size 432x288 with 3 Axes>"
      ]
     },
     "metadata": {
      "needs_background": "light"
     },
     "output_type": "display_data"
    },
    {
     "data": {
      "image/png": "[encoded data removed]",
      "text/plain": [
       "<Figure size 432x288 with 3 Axes>"
      ]
     },
     "metadata": {
      "needs_background": "light"
     },
     "output_type": "display_data"
    }
   ],
   "source": [
    "# FGSM vs MNIST with RFN\n",
    "num_samples = 1\n",
    "trainlen = len(trainset)\n",
    "eps_list = [10,20,30,40,50,60]\n",
    "mu = 0.3\n",
    "\n",
    "mnist_ref = MNIST()\n",
    "mnist_ref.to(device)\n",
    "mnist_ref.load_state_dict(torch.load(f'./models/MNIST_rfn_{mu}.pth'))\n",
    "mnist_ref.eval()\n",
    "rfn_wrapper = RFN(mnist_ref, mu=mu, sigma=0, rfn_flag=True)\n",
    "rfn_wrapper.to(device)\n",
    "\n",
    "for i in range(num_samples):\n",
    "    #sample_idx = int(random.random()*trainlen)\n",
    "    \n",
    "    for eps in eps_list:\n",
    "        orig = trainset[sample_idx][0] #3x32x32\n",
    "        label = trainset[sample_idx][1]\n",
    "        inp, perturbation, prior_pred, post_pred = fgsm_sample(rfn_wrapper, orig, eps=eps)\n",
    "        visualize_attack(orig, inp, perturbation, prior_pred, post_pred, label)"
   ]
  },
  {
   "cell_type": "code",
   "execution_count": 29,
   "metadata": {},
   "outputs": [],
   "source": [
    "def evaluate(net, dataloader, eps=15, adv=False):\n",
    "    correct = 0\n",
    "    count = 0\n",
    "    for i, data in enumerate(dataloader, 0):\n",
    "        # get the inputs; data is a list of [inputs, labels]\n",
    "        inputs, labels = data\n",
    "        inputs = inputs.to(device)\n",
    "        labels = labels.to(device)\n",
    "        if adv:\n",
    "            inputs = fgsm_batch(net, inputs, eps = eps)\n",
    "        preds = net(inputs)\n",
    "        if torch.argmax(preds) == labels:\n",
    "            correct += 1.0\n",
    "        count += 1.0\n",
    "        if not i % 5000:\n",
    "            print(f'Sample: {i}, Running Accuracy: {(correct/count):5.3f}')\n",
    "    acc = correct/count\n",
    "    print(f'Accuracy over {int(count)} samples: {acc:5.3f}')\n",
    "    return acc\n",
    "        "
   ]
  },
  {
   "cell_type": "code",
   "execution_count": 36,
   "metadata": {},
   "outputs": [],
   "source": [
    "# Create accuracy dictionary\n",
    "from collections import defaultdict\n",
    "accs_no_fsgm = defaultdict(list)\n",
    "accs_fsgm = defaultdict(list)"
   ]
  },
  {
   "cell_type": "code",
   "execution_count": 37,
   "metadata": {},
   "outputs": [
    {
     "data": {
      "text/plain": [
       "array([0.03921569, 0.07843137, 0.11764706, 0.15686275])"
      ]
     },
     "execution_count": 37,
     "metadata": {},
     "output_type": "execute_result"
    }
   ],
   "source": [
    "epsilons = np.array([10, 20, 30, 40])\n",
    "epsilons/255"
   ]
  },
  {
   "cell_type": "code",
   "execution_count": 39,
   "metadata": {},
   "outputs": [
    {
     "name": "stdout",
     "output_type": "stream",
     "text": [
      "Evaluate MNIST RFN without FSGM, mu=0:\n",
      "Sample: 0, Running Accuracy: 1.000\n",
      "Sample: 5000, Running Accuracy: 0.985\n",
      "Sample: 10000, Running Accuracy: 0.985\n",
      "Sample: 15000, Running Accuracy: 0.984\n",
      "Sample: 20000, Running Accuracy: 0.985\n",
      "Sample: 25000, Running Accuracy: 0.984\n",
      "Sample: 30000, Running Accuracy: 0.984\n",
      "Sample: 35000, Running Accuracy: 0.983\n",
      "Sample: 40000, Running Accuracy: 0.984\n",
      "Sample: 45000, Running Accuracy: 0.983\n",
      "Sample: 50000, Running Accuracy: 0.983\n",
      "Sample: 55000, Running Accuracy: 0.983\n",
      "Accuracy over 60000 samples: 0.983\n",
      "Evaluate MNIST RFN without FSGM, mu=0.1:\n",
      "Sample: 0, Running Accuracy: 1.000\n",
      "Sample: 5000, Running Accuracy: 0.979\n",
      "Sample: 10000, Running Accuracy: 0.977\n",
      "Sample: 15000, Running Accuracy: 0.977\n",
      "Sample: 20000, Running Accuracy: 0.978\n",
      "Sample: 25000, Running Accuracy: 0.977\n",
      "Sample: 30000, Running Accuracy: 0.977\n",
      "Sample: 35000, Running Accuracy: 0.977\n",
      "Sample: 40000, Running Accuracy: 0.977\n",
      "Sample: 45000, Running Accuracy: 0.977\n",
      "Sample: 50000, Running Accuracy: 0.976\n",
      "Sample: 55000, Running Accuracy: 0.976\n",
      "Accuracy over 60000 samples: 0.976\n",
      "Evaluate MNIST RFN without FSGM, mu=0.2:\n",
      "Sample: 0, Running Accuracy: 1.000\n",
      "Sample: 5000, Running Accuracy: 0.971\n",
      "Sample: 10000, Running Accuracy: 0.968\n",
      "Sample: 15000, Running Accuracy: 0.968\n",
      "Sample: 20000, Running Accuracy: 0.969\n",
      "Sample: 25000, Running Accuracy: 0.968\n",
      "Sample: 30000, Running Accuracy: 0.968\n",
      "Sample: 35000, Running Accuracy: 0.968\n",
      "Sample: 40000, Running Accuracy: 0.968\n",
      "Sample: 45000, Running Accuracy: 0.968\n",
      "Sample: 50000, Running Accuracy: 0.968\n",
      "Sample: 55000, Running Accuracy: 0.968\n",
      "Accuracy over 60000 samples: 0.968\n",
      "Evaluate MNIST RFN without FSGM, mu=0.3:\n",
      "Sample: 0, Running Accuracy: 1.000\n",
      "Sample: 5000, Running Accuracy: 0.957\n",
      "Sample: 10000, Running Accuracy: 0.954\n",
      "Sample: 15000, Running Accuracy: 0.952\n",
      "Sample: 20000, Running Accuracy: 0.955\n",
      "Sample: 25000, Running Accuracy: 0.955\n",
      "Sample: 30000, Running Accuracy: 0.955\n",
      "Sample: 35000, Running Accuracy: 0.955\n",
      "Sample: 40000, Running Accuracy: 0.954\n",
      "Sample: 45000, Running Accuracy: 0.954\n",
      "Sample: 50000, Running Accuracy: 0.955\n",
      "Sample: 55000, Running Accuracy: 0.955\n",
      "Accuracy over 60000 samples: 0.955\n",
      "Evaluate MNIST RFN without FSGM, mu=0.4:\n",
      "Sample: 0, Running Accuracy: 1.000\n",
      "Sample: 5000, Running Accuracy: 0.940\n",
      "Sample: 10000, Running Accuracy: 0.935\n",
      "Sample: 15000, Running Accuracy: 0.934\n",
      "Sample: 20000, Running Accuracy: 0.936\n",
      "Sample: 25000, Running Accuracy: 0.936\n",
      "Sample: 30000, Running Accuracy: 0.936\n",
      "Sample: 35000, Running Accuracy: 0.936\n",
      "Sample: 40000, Running Accuracy: 0.935\n",
      "Sample: 45000, Running Accuracy: 0.935\n",
      "Sample: 50000, Running Accuracy: 0.935\n",
      "Sample: 55000, Running Accuracy: 0.935\n",
      "Accuracy over 60000 samples: 0.936\n",
      "Evaluate MNIST RFN without FSGM, mu=0.5:\n",
      "Sample: 0, Running Accuracy: 1.000\n",
      "Sample: 5000, Running Accuracy: 0.910\n",
      "Sample: 10000, Running Accuracy: 0.907\n",
      "Sample: 15000, Running Accuracy: 0.905\n",
      "Sample: 20000, Running Accuracy: 0.906\n",
      "Sample: 25000, Running Accuracy: 0.907\n",
      "Sample: 30000, Running Accuracy: 0.908\n",
      "Sample: 35000, Running Accuracy: 0.908\n",
      "Sample: 40000, Running Accuracy: 0.907\n",
      "Sample: 45000, Running Accuracy: 0.908\n",
      "Sample: 50000, Running Accuracy: 0.908\n",
      "Sample: 55000, Running Accuracy: 0.908\n",
      "Accuracy over 60000 samples: 0.909\n",
      "Evaluate MNIST RFN at epsilon=40, mu=0:\n",
      "Sample: 0, Running Accuracy: 0.000\n",
      "Sample: 5000, Running Accuracy: 0.577\n",
      "Sample: 10000, Running Accuracy: 0.572\n",
      "Sample: 15000, Running Accuracy: 0.561\n",
      "Sample: 20000, Running Accuracy: 0.561\n",
      "Sample: 25000, Running Accuracy: 0.562\n",
      "Sample: 30000, Running Accuracy: 0.561\n",
      "Sample: 35000, Running Accuracy: 0.559\n",
      "Sample: 40000, Running Accuracy: 0.556\n",
      "Sample: 45000, Running Accuracy: 0.556\n",
      "Sample: 50000, Running Accuracy: 0.556\n",
      "Sample: 55000, Running Accuracy: 0.556\n",
      "Accuracy over 60000 samples: 0.559\n",
      "Evaluate MNIST RFN at epsilon=40, mu=0.1:\n",
      "Sample: 0, Running Accuracy: 0.000\n",
      "Sample: 5000, Running Accuracy: 0.636\n",
      "Sample: 10000, Running Accuracy: 0.634\n",
      "Sample: 15000, Running Accuracy: 0.625\n",
      "Sample: 20000, Running Accuracy: 0.626\n",
      "Sample: 25000, Running Accuracy: 0.628\n",
      "Sample: 30000, Running Accuracy: 0.628\n",
      "Sample: 35000, Running Accuracy: 0.627\n",
      "Sample: 40000, Running Accuracy: 0.625\n",
      "Sample: 45000, Running Accuracy: 0.625\n",
      "Sample: 50000, Running Accuracy: 0.625\n",
      "Sample: 55000, Running Accuracy: 0.625\n",
      "Accuracy over 60000 samples: 0.629\n",
      "Evaluate MNIST RFN at epsilon=40, mu=0.2:\n",
      "Sample: 0, Running Accuracy: 0.000\n",
      "Sample: 5000, Running Accuracy: 0.697\n",
      "Sample: 10000, Running Accuracy: 0.693\n",
      "Sample: 15000, Running Accuracy: 0.687\n",
      "Sample: 20000, Running Accuracy: 0.688\n",
      "Sample: 25000, Running Accuracy: 0.687\n",
      "Sample: 30000, Running Accuracy: 0.687\n",
      "Sample: 35000, Running Accuracy: 0.685\n",
      "Sample: 40000, Running Accuracy: 0.684\n",
      "Sample: 45000, Running Accuracy: 0.684\n",
      "Sample: 50000, Running Accuracy: 0.684\n",
      "Sample: 55000, Running Accuracy: 0.684\n",
      "Accuracy over 60000 samples: 0.687\n",
      "Evaluate MNIST RFN at epsilon=40, mu=0.3:\n",
      "Sample: 0, Running Accuracy: 0.000\n",
      "Sample: 5000, Running Accuracy: 0.734\n",
      "Sample: 10000, Running Accuracy: 0.731\n",
      "Sample: 15000, Running Accuracy: 0.729\n",
      "Sample: 20000, Running Accuracy: 0.728\n",
      "Sample: 25000, Running Accuracy: 0.731\n",
      "Sample: 30000, Running Accuracy: 0.730\n",
      "Sample: 35000, Running Accuracy: 0.729\n",
      "Sample: 40000, Running Accuracy: 0.728\n",
      "Sample: 45000, Running Accuracy: 0.729\n",
      "Sample: 50000, Running Accuracy: 0.729\n",
      "Sample: 55000, Running Accuracy: 0.729\n",
      "Accuracy over 60000 samples: 0.731\n",
      "Evaluate MNIST RFN at epsilon=40, mu=0.4:\n",
      "Sample: 0, Running Accuracy: 0.000\n",
      "Sample: 5000, Running Accuracy: 0.760\n",
      "Sample: 10000, Running Accuracy: 0.761\n",
      "Sample: 15000, Running Accuracy: 0.755\n",
      "Sample: 20000, Running Accuracy: 0.757\n",
      "Sample: 25000, Running Accuracy: 0.758\n",
      "Sample: 30000, Running Accuracy: 0.759\n",
      "Sample: 35000, Running Accuracy: 0.758\n",
      "Sample: 40000, Running Accuracy: 0.757\n",
      "Sample: 45000, Running Accuracy: 0.756\n",
      "Sample: 50000, Running Accuracy: 0.756\n",
      "Sample: 55000, Running Accuracy: 0.756\n",
      "Accuracy over 60000 samples: 0.758\n",
      "Evaluate MNIST RFN at epsilon=40, mu=0.5:\n",
      "Sample: 0, Running Accuracy: 1.000\n",
      "Sample: 5000, Running Accuracy: 0.774\n",
      "Sample: 10000, Running Accuracy: 0.766\n",
      "Sample: 15000, Running Accuracy: 0.765\n",
      "Sample: 20000, Running Accuracy: 0.764\n",
      "Sample: 25000, Running Accuracy: 0.766\n",
      "Sample: 30000, Running Accuracy: 0.766\n",
      "Sample: 35000, Running Accuracy: 0.765\n",
      "Sample: 40000, Running Accuracy: 0.764\n",
      "Sample: 45000, Running Accuracy: 0.763\n",
      "Sample: 50000, Running Accuracy: 0.763\n",
      "Sample: 55000, Running Accuracy: 0.762\n",
      "Accuracy over 60000 samples: 0.765\n"
     ]
    }
   ],
   "source": [
    "# load MNIST models\n",
    "train_dl = DataLoader(trainset, batch_size=1)\n",
    "\n",
    "rfn_mu_vals = [0, .1, .2, .3, .4, .5]\n",
    "\n",
    "#epsilons = [10, 20, 30, 40]\n",
    "epsilons = [40]\n",
    "\n",
    "for eps in epsilons:\n",
    "    for adv in [False, True]:\n",
    "        for i, mu in enumerate(rfn_mu_vals):\n",
    "            mnist_rfn = MNIST()\n",
    "            rfn_wrapper = RFN(mnist_rfn, mu=mu, sigma=0, rfn_flag=True)\n",
    "            mnist_rfn.load_state_dict(torch.load(f'./models/MNIST_rfn_{mu}.pth'))\n",
    "            mnist_rfn.to(device)\n",
    "            mnist_rfn.eval()\n",
    "            criterion = nn.CrossEntropyLoss()\n",
    "            if adv:\n",
    "                print(f'Evaluate MNIST RFN at epsilon={eps}, mu={mu}:')\n",
    "                accs_fsgm[mu] = evaluate(rfn_wrapper, train_dl, eps=eps, adv=adv)\n",
    "            else:\n",
    "                print(f'Evaluate MNIST RFN without FSGM, mu={mu}:')\n",
    "                accs_no_fsgm[mu] = evaluate(rfn_wrapper, train_dl, eps=eps, adv=adv)"
   ]
  },
  {
   "cell_type": "code",
   "execution_count": 58,
   "metadata": {},
   "outputs": [
    {
     "name": "stdout",
     "output_type": "stream",
     "text": [
      "MU\tMNIST\tFSGM eps=40\n",
      "0\t0.983\t0.559\n",
      "0.1\t0.976\t0.629\n",
      "0.2\t0.968\t0.687\n",
      "0.3\t0.955\t0.731\n",
      "0.4\t0.936\t0.758\n",
      "0.5\t0.909\t0.765\n"
     ]
    }
   ],
   "source": [
    "print(f'MU\\tMNIST\\tFSGM eps=40')\n",
    "\n",
    "for mu in rfn_mu_vals:\n",
    "    print(f'{mu}\\t{accs_no_fsgm[int(10*mu)]:5.3}\\t{accs_fsgm[int(10*mu)]:5.3}')\n",
    "    "
   ]
  },
  {
   "cell_type": "code",
   "execution_count": 54,
   "metadata": {},
   "outputs": [
    {
     "name": "stdout",
     "output_type": "stream",
     "text": [
      "0 0.983\n",
      "1 0.9764833333333334\n",
      "2 0.96845\n",
      "3 0.95525\n",
      "4 0.9361666666666667\n",
      "5 0.9090666666666667\n",
      "0.1 []\n",
      "0.2 []\n",
      "0.3 []\n",
      "0.4 []\n",
      "0.5 []\n",
      "0 []\n",
      "0.1 []\n",
      "0.2 []\n",
      "0.3 []\n",
      "0.4 []\n",
      "0.5 []\n",
      "0 0.5592666666666667\n",
      "1 0.6287833333333334\n",
      "2 0.6867833333333333\n",
      "3 0.7313333333333333\n",
      "4 0.7579\n",
      "5 0.7648666666666667\n",
      "0.1 []\n",
      "0.2 []\n",
      "0.3 []\n",
      "0.4 []\n",
      "0.5 []\n"
     ]
    }
   ],
   "source": [
    "for k,v in accs_no_fsgm.items():\n",
    "    print(k,v)\n",
    "for k,v in accs_fsgm.items():\n",
    "    print(k,v)"
   ]
  },
  {
   "cell_type": "code",
   "execution_count": 805,
   "metadata": {},
   "outputs": [
    {
     "name": "stdout",
     "output_type": "stream",
     "text": [
      "Sample: 0, Running Accuracy: 1.000\n",
      "Sample: 5000, Running Accuracy: 0.509\n",
      "Sample: 10000, Running Accuracy: 0.505\n",
      "Sample: 15000, Running Accuracy: 0.505\n",
      "Sample: 20000, Running Accuracy: 0.501\n",
      "Sample: 25000, Running Accuracy: 0.503\n",
      "Sample: 30000, Running Accuracy: 0.506\n",
      "Sample: 35000, Running Accuracy: 0.504\n",
      "Sample: 40000, Running Accuracy: 0.504\n",
      "Sample: 45000, Running Accuracy: 0.504\n",
      "Accuracy over 50000 samples: 0.505\n"
     ]
    }
   ],
   "source": [
    "\n",
    "eval(basicnet, train_dl, adv=False)"
   ]
  },
  {
   "cell_type": "code",
   "execution_count": 812,
   "metadata": {},
   "outputs": [
    {
     "name": "stdout",
     "output_type": "stream",
     "text": [
      "Sample: 0, Running Accuracy: 0.000\n",
      "Sample: 5000, Running Accuracy: 0.366\n",
      "Sample: 10000, Running Accuracy: 0.371\n",
      "Sample: 15000, Running Accuracy: 0.371\n",
      "Sample: 20000, Running Accuracy: 0.373\n",
      "Sample: 25000, Running Accuracy: 0.374\n",
      "Sample: 30000, Running Accuracy: 0.376\n",
      "Sample: 35000, Running Accuracy: 0.374\n",
      "Sample: 40000, Running Accuracy: 0.374\n",
      "Sample: 45000, Running Accuracy: 0.375\n",
      "Accuracy over 50000 samples: 0.375\n"
     ]
    }
   ],
   "source": [
    "eval(basicnet, train_dl, adv=True)"
   ]
  },
  {
   "cell_type": "code",
   "execution_count": 813,
   "metadata": {},
   "outputs": [
    {
     "name": "stdout",
     "output_type": "stream",
     "text": [
      "Sample: 0, Running Accuracy: 0.000\n",
      "Sample: 5000, Running Accuracy: 0.558\n",
      "Sample: 10000, Running Accuracy: 0.558\n",
      "Sample: 15000, Running Accuracy: 0.553\n",
      "Sample: 20000, Running Accuracy: 0.552\n",
      "Sample: 25000, Running Accuracy: 0.553\n",
      "Sample: 30000, Running Accuracy: 0.554\n",
      "Sample: 35000, Running Accuracy: 0.551\n",
      "Sample: 40000, Running Accuracy: 0.550\n",
      "Sample: 45000, Running Accuracy: 0.551\n",
      "Accuracy over 50000 samples: 0.552\n"
     ]
    }
   ],
   "source": [
    "eval(rfnnet, train_dl, adv=False)"
   ]
  },
  {
   "cell_type": "code",
   "execution_count": 814,
   "metadata": {},
   "outputs": [
    {
     "name": "stdout",
     "output_type": "stream",
     "text": [
      "Sample: 0, Running Accuracy: 0.000\n",
      "Sample: 5000, Running Accuracy: 0.465\n",
      "Sample: 10000, Running Accuracy: 0.475\n",
      "Sample: 15000, Running Accuracy: 0.476\n",
      "Sample: 20000, Running Accuracy: 0.475\n",
      "Sample: 25000, Running Accuracy: 0.478\n",
      "Sample: 30000, Running Accuracy: 0.477\n",
      "Sample: 35000, Running Accuracy: 0.476\n",
      "Sample: 40000, Running Accuracy: 0.474\n",
      "Sample: 45000, Running Accuracy: 0.474\n",
      "Accuracy over 50000 samples: 0.474\n"
     ]
    }
   ],
   "source": [
    "eval(rfnnet, train_dl, adv=True)"
   ]
  },
  {
   "cell_type": "code",
   "execution_count": null,
   "metadata": {},
   "outputs": [],
   "source": []
  },
  {
   "cell_type": "code",
   "execution_count": null,
   "metadata": {},
   "outputs": [],
   "source": []
  }
 ],
 "metadata": {
  "kernelspec": {
   "display_name": "Python 3",
   "language": "python",
   "name": "python3"
  },
  "language_info": {
   "codemirror_mode": {
    "name": "ipython",
    "version": 3
   },
   "file_extension": ".py",
   "mimetype": "text/x-python",
   "name": "python",
   "nbconvert_exporter": "python",
   "pygments_lexer": "ipython3",
   "version": "3.7.3"
  }
 },
 "nbformat": 4,
 "nbformat_minor": 2
}
