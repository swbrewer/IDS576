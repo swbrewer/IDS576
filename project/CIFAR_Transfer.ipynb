{
 "cells": [
  {
   "cell_type": "markdown",
   "metadata": {},
   "source": [
    "## IDS 576 Project - Random Feature Nullification as Defense vs Adversarial Samples\n",
    "### Transfer learning - Resnet18 with RFN layer and finetuning\n",
    "\n",
    "### Team 3\n",
    "\n",
    " - Scott Brewer (sbrewe5@uic.edu)\n",
    " - Rahul Shukla (rshukl4@uic.edu)\n"
   ]
  },
  {
   "cell_type": "code",
   "execution_count": 2,
   "metadata": {},
   "outputs": [],
   "source": [
    "import torch\n",
    "import torch.nn as nn\n",
    "import torch.optim as optim\n",
    "from torch.optim import lr_scheduler\n",
    "from torch.utils.data import SubsetRandomSampler, TensorDataset, DataLoader\n",
    "import torch.nn.functional as F\n",
    "from torchvision import datasets, models, transforms\n",
    "import numpy as np\n",
    "import matplotlib.pyplot as plt\n",
    "import time"
   ]
  },
  {
   "cell_type": "code",
   "execution_count": 3,
   "metadata": {},
   "outputs": [
    {
     "data": {
      "text/plain": [
       "device(type='cuda', index=0)"
      ]
     },
     "execution_count": 3,
     "metadata": {},
     "output_type": "execute_result"
    }
   ],
   "source": [
    "%config IPCompleter.greedy = True\n",
    "random_seed = 0\n",
    "device = torch.device(\"cuda:0\" if torch.cuda.is_available() else \"cpu\")\n",
    "device"
   ]
  },
  {
   "cell_type": "code",
   "execution_count": 4,
   "metadata": {},
   "outputs": [],
   "source": [
    "import numpy as np\n",
    "def get_train_data_stats(train_data):\n",
    "    # use np.concatenate to stick all the images together to form a 1600000 X 32 X 3 array\\\n",
    "    x = np.concatenate([np.asarray(train_data[i][0]) for i in range(len(train_data))])\n",
    "    print(x.shape)\n",
    "    # calculate the mean and std along the (0, 1) axes\n",
    "    train_mean = np.mean(x, axis=(0, 1))\n",
    "    train_std = np.std(x, axis=(0, 1))\n",
    "    print(train_mean, train_std)\n",
    "    return train_mean, train_std"
   ]
  },
  {
   "cell_type": "code",
   "execution_count": 5,
   "metadata": {},
   "outputs": [
    {
     "name": "stdout",
     "output_type": "stream",
     "text": [
      "Files already downloaded and verified\n",
      "(1600000, 32, 3)\n",
      "[125.30691805 122.95039414 113.86538318] [62.99321928 62.08870764 66.70489964]\n",
      "[0.49139968 0.48215841 0.44653091] [0.24703223 0.24348513 0.26158784]\n"
     ]
    }
   ],
   "source": [
    "# load the training data for determination of mean and std\n",
    "data_path = '~/IDS576/data'\n",
    "train_data = datasets.CIFAR10(root=data_path, train=True, download=True)\n",
    "train_mean, train_std = get_train_data_stats(train_data)\n",
    "print(train_mean/255, train_std/255)"
   ]
  },
  {
   "cell_type": "code",
   "execution_count": 6,
   "metadata": {},
   "outputs": [],
   "source": [
    "normalize = transforms.Normalize(\n",
    "    mean=train_mean/255,\n",
    "    std=train_std/255)\n",
    "\n",
    "train_transform = transforms.Compose([\n",
    "        transforms.Resize(224),\n",
    "        transforms.ToTensor(),\n",
    "        normalize])\n",
    "    \n",
    "val_transform = transforms.Compose([\n",
    "        transforms.Resize(224),\n",
    "        transforms.ToTensor(),\n",
    "        normalize])"
   ]
  },
  {
   "cell_type": "code",
   "execution_count": 7,
   "metadata": {},
   "outputs": [
    {
     "name": "stdout",
     "output_type": "stream",
     "text": [
      "Files already downloaded and verified\n",
      "Files already downloaded and verified\n",
      "Files already downloaded and verified\n"
     ]
    }
   ],
   "source": [
    "# Download train and test data\n",
    "data_path = '~/IDS576/data'\n",
    "trainset = datasets.CIFAR10(root=data_path, train=True, download=True, transform=train_transform)\n",
    "valset = datasets.CIFAR10(root=data_path, train=True, download=True, transform=val_transform)\n",
    "testset = datasets.CIFAR10(root=data_path, train=False, download=True, transform=val_transform)"
   ]
  },
  {
   "cell_type": "code",
   "execution_count": 8,
   "metadata": {},
   "outputs": [],
   "source": [
    "# Split train data in to train and validation data using torch dataset and utils.data modules\n",
    "\n",
    "val_size = .2\n",
    "n_train = len(trainset)\n",
    "\n",
    "# get train set indices and split point based on val size\n",
    "indices = list(range(n_train))\n",
    "split = int(np.floor(val_size * n_train))\n",
    "\n",
    "# shuffle trainset indices\n",
    "np.random.seed(random_seed)\n",
    "np.random.shuffle(indices)\n",
    "\n",
    "# split train into train and val with shuffled indices at split point. \n",
    "train_idx, val_idx = indices[split:], indices[:split]\n",
    "\n",
    "# Create train and val samplers based in split indices for use with DataLoader batch sampling\n",
    "train_sampler = SubsetRandomSampler(train_idx)\n",
    "val_sampler = SubsetRandomSampler(val_idx)\n",
    "\n",
    "batch_size = 100\n",
    "n_trn = n_train*(1-val_size)\n",
    "batches = n_trn/batch_size\n",
    "\n",
    "# CUDA settings\n",
    "num_workers = 0 # allows preload of next batch, but greater than zero isn't recommended for cuda ops\n",
    "pin_memory = True\n",
    "\n",
    "train_dl = DataLoader(\n",
    "    trainset, batch_size=batch_size, sampler=train_sampler,\n",
    "    num_workers=num_workers, pin_memory=pin_memory)\n",
    "\n",
    "val_dl = DataLoader(\n",
    "    valset, batch_size=batch_size, sampler=val_sampler,\n",
    "    num_workers=num_workers, pin_memory=pin_memory)\n",
    "\n",
    "def single_dl(xy, batch_size=1):\n",
    "    return DataLoader(xy, batch_size=batch_size, num_workers=1, pin_memory=pin_memory)"
   ]
  },
  {
   "cell_type": "code",
   "execution_count": 9,
   "metadata": {},
   "outputs": [
    {
     "name": "stdout",
     "output_type": "stream",
     "text": [
      "{0: 'airplane', 1: 'automobile', 2: 'bird', 3: 'cat', 4: 'deer', 5: 'dog', 6: 'frog', 7: 'horse', 8: 'ship', 9: 'truck'}\n"
     ]
    }
   ],
   "source": [
    "classes = trainset.classes\n",
    "classdict = {label: name for label, name in enumerate(classes)}\n",
    "print(classdict)"
   ]
  },
  {
   "cell_type": "code",
   "execution_count": 10,
   "metadata": {},
   "outputs": [],
   "source": [
    "# %load my_train_helper.py\n",
    "def get_trainable(model_params):\n",
    "    return (p for p in model_params if p.requires_grad)\n",
    "\n",
    "\n",
    "def get_frozen(model_params):\n",
    "    return (p for p in model_params if not p.requires_grad)\n",
    "\n",
    "\n",
    "def all_trainable(model_params):\n",
    "    return all(p.requires_grad for p in model_params)\n",
    "\n",
    "\n",
    "def all_frozen(model_params):\n",
    "    return all(not p.requires_grad for p in model_params)\n",
    "\n",
    "\n",
    "def freeze_all(model_params):\n",
    "    for param in model_params:\n",
    "        param.requires_grad = False\n",
    "        \n",
    "def set_trainable(model, layers):\n",
    "    for child in model.named_children():\n",
    "        if child[0] in layers:\n",
    "            for param in child[1].parameters():\n",
    "                param.requires_grad = True\n",
    "        \n",
    "def model_summary(model):\n",
    "    print('{:20}Trainable'.format(model.__class__.__name__))\n",
    "    for child in model_ft.children():\n",
    "        try:\n",
    "            print('{:20}{}'.format(child.__class__.__name__, child.weight.requires_grad))\n",
    "        except:\n",
    "            print('{:20}'.format(child.__class__.__name__))\n",
    "\n",
    "        if type(child) == nn.Sequential:\n",
    "            for child_seq in child.children():\n",
    "                print('  {:18}'.format(child_seq.__class__.__name__))\n",
    "                for child_blk in child_seq.children():\n",
    "                    try:\n",
    "                        print('    {:16}{}'.format(child_blk.__class__.__name__, child_blk.weight.requires_grad))\n",
    "                    except:\n",
    "                        print('    {:16}'.format(child_blk.__class__.__name__))"
   ]
  },
  {
   "cell_type": "code",
   "execution_count": 11,
   "metadata": {},
   "outputs": [],
   "source": [
    "def loss_batch(model, loss_func, xb, yb, opt=None):\n",
    "    xb = xb.to(device)\n",
    "    yb = yb.to(device)\n",
    "    correct = 0\n",
    "    output = model(xb)\n",
    "    _, preds = torch.max(output, 1)\n",
    "    correct = torch.sum(preds == yb)\n",
    "    acc = correct.double()/len(yb)\n",
    "    loss = loss_func(output, yb)\n",
    "    if opt is not None:\n",
    "        loss.backward()\n",
    "        opt.step()\n",
    "        opt.zero_grad()\n",
    "    return loss.item(), len(xb), acc   \n",
    "\n",
    "def fit(epochs, model, loss_func, opt, train_dl, val_dl):\n",
    "    mod = n_trn/(batch_size*20)\n",
    "    running_corrects = 0\n",
    "    for epoch in range(epochs):\n",
    "        since = time.time()\n",
    "        model.train()\n",
    "        i=0\n",
    "        print('Epoch {}/{}: ['.format(epoch+1, epochs), end='')\n",
    "        for xb, yb in train_dl:\n",
    "            if i%mod == 0: print('*', end='')\n",
    "            loss_batch(model, loss_func, xb, yb, opt)\n",
    "            i+=1\n",
    "        print(']', end='')\n",
    "        model.eval()\n",
    "        print(' Val Loss: ', end='')\n",
    "        with torch.no_grad():\n",
    "            losses, nums, acc = zip(*[loss_batch(model, loss_func, xb, yb) for xb, yb in val_dl])\n",
    "        val_loss = np.sum(np.multiply(losses, nums)) / np.sum(nums)\n",
    "        val_acc = np.sum(np.multiply(acc, nums)) / np.sum(nums)\n",
    "        #val_corr = np.sum(preds[1].item() == yb.item())\n",
    "        #val_acc = val_corr.double() / len(yb)\n",
    "\n",
    "        print('{:6.4f}, Val Acc: {:6.4f} '.format(val_loss, val_acc), end='')\n",
    "        until = time.time()\n",
    "        print('Elapsed (sec): {:<5.1f}'.format(until-since))\n",
    "\n",
    "class Identity(nn.Module):\n",
    "    \"\"\"Identity class designed to 'delete' a layer in a pretrained net\"\"\"\n",
    "    def __init__(self):\n",
    "        super(Identity, self).__init__()\n",
    "        \n",
    "    def forward(self, x):\n",
    "        return x\n",
    "    \n",
    "def extract_features(model, dl, sample_count):\n",
    "    \"\"\"Extracts features from convbase. Must 'delete' final fc layer first\"\"\"\n",
    "    input_size = [c for c in model.children()][0].in_features\n",
    "    features = np.zeros(shape=(sample_count, input_size))\n",
    "    labels = np.zeros(shape=(sample_count))\n",
    "    i=0\n",
    "    model.to(device)\n",
    "    for xb, yb in dl:\n",
    "        if i%20==0: print('Batch:',i)\n",
    "        xb = xb.to(device)\n",
    "        out_b = model(xb)\n",
    "        out_b = out_b.to('cpu')\n",
    "        features[i * batch_size : (i + 1) * batch_size] = out_b\n",
    "        labels[i * batch_size : (i + 1) * batch_size] = yb\n",
    "        i += 1\n",
    "    return features, labels\n",
    "\n",
    "class ExtractNet(nn.Module):\n",
    "    \"\"\"Simple Dense layer to make use of convnet extracted features\"\"\"\n",
    "    def __init__(self):\n",
    "        super(ExtractNet, self).__init__()\n",
    "        self.fc = nn.Linear(512, 10)\n",
    "\n",
    "    def forward(self, x):\n",
    "        return self.fc(x)"
   ]
  },
  {
   "cell_type": "code",
   "execution_count": 21,
   "metadata": {},
   "outputs": [],
   "source": [
    "import torch.nn as nn\n",
    "import torch\n",
    "import numpy as np\n",
    "\n",
    "class RFN(nn.Module):\n",
    "    '''Wrapper class that takes any nn.Module based model and adds an RFN layer prior to all other layers.'''\n",
    "    \n",
    "    \n",
    "    def __init__(self, model, mu=.1, sigma=.05, rfn_flag=True):\n",
    "        super(RFN, self).__init__()\n",
    "        self.model = model\n",
    "        self.mu = mu\n",
    "        self.sigma = sigma\n",
    "        self.rfn_flag = rfn_flag\n",
    "        self.shape_vals = None\n",
    "\n",
    "    def forward(self, x):\n",
    "        if self.rfn_flag:\n",
    "            x = self.random_masks(x) * x\n",
    "            x = self.model(x)\n",
    "        else:\n",
    "            x = self.model(x)\n",
    "        return x\n",
    "    \n",
    "    \n",
    "    def random_masks(self, x):\n",
    "        # Set various shape values once to speed processing\n",
    "        if self.shape_vals is None:\n",
    "            self.shape_vals = x.size(), x[0].size(), x[0].nelement()\n",
    "            #print(self.shape_vals)\n",
    "\n",
    "        # Create ones array of size (batch,channel,horiz,vert)\n",
    "        masks = np.ones(self.shape_vals[0])\n",
    "\n",
    "        # Create random masks for each sample in the batch\n",
    "        for mask in masks:\n",
    "            zero_cnt = np.absolute(int(np.ceil((self.sigma * np.random.randn() + self.mu) * self.shape_vals[2])))\n",
    "            zero_idx = np.random.choice(self.shape_vals[2], zero_cnt, replace=False)\n",
    "            mask.reshape(self.shape_vals[2])[zero_idx] = 0\n",
    "            mask.reshape(self.shape_vals[1])\n",
    "        return torch.tensor(masks, dtype=torch.float, device=device)"
   ]
  },
  {
   "cell_type": "markdown",
   "metadata": {},
   "source": [
    "#### Fine tune Resnet 18 for non RFN comparison: Unlock initial CONV block, final FC and CONV block"
   ]
  },
  {
   "cell_type": "code",
   "execution_count": 13,
   "metadata": {},
   "outputs": [],
   "source": [
    "model_ft = models.resnet18(pretrained=True)\n",
    "num_ftrs = model_ft.fc.in_features\n",
    "# Configure final fc layer to output num classes\n",
    "model_ft.fc = nn.Linear(num_ftrs, len(classes))"
   ]
  },
  {
   "cell_type": "code",
   "execution_count": 14,
   "metadata": {},
   "outputs": [
    {
     "data": {
      "text/plain": [
       "['conv1',\n",
       " 'bn1',\n",
       " 'relu',\n",
       " 'maxpool',\n",
       " 'layer1',\n",
       " 'layer2',\n",
       " 'layer3',\n",
       " 'layer4',\n",
       " 'avgpool',\n",
       " 'fc']"
      ]
     },
     "execution_count": 14,
     "metadata": {},
     "output_type": "execute_result"
    }
   ],
   "source": [
    "# Display layer names to use in unfreezing for finetuning\n",
    "[c[0] for c in model_ft.named_children()]"
   ]
  },
  {
   "cell_type": "code",
   "execution_count": 15,
   "metadata": {},
   "outputs": [],
   "source": [
    "freeze_all(model_ft.parameters())\n",
    "finetune_layers = ['conv1', 'layer4', 'fc']\n",
    "set_trainable(model_ft, finetune_layers)"
   ]
  },
  {
   "cell_type": "code",
   "execution_count": 16,
   "metadata": {},
   "outputs": [
    {
     "name": "stdout",
     "output_type": "stream",
     "text": [
      "Epoch 1/10: [********************] Val Loss: 0.4838, Val Acc: 0.8410 Elapsed (sec): 183.1\n",
      "Epoch 2/10: [********************] Val Loss: 0.3561, Val Acc: 0.8798 Elapsed (sec): 180.5\n",
      "Epoch 3/10: [********************] Val Loss: 0.3537, Val Acc: 0.8772 Elapsed (sec): 182.8\n",
      "Epoch 4/10: [********************] Val Loss: 0.3163, Val Acc: 0.8913 Elapsed (sec): 181.4\n",
      "Epoch 5/10: [********************] Val Loss: 0.2692, Val Acc: 0.9066 Elapsed (sec): 177.5\n",
      "Epoch 6/10: [********************] Val Loss: 0.2614, Val Acc: 0.9112 Elapsed (sec): 182.1\n",
      "Epoch 7/10: [********************] Val Loss: 0.2557, Val Acc: 0.9118 Elapsed (sec): 182.4\n",
      "Epoch 8/10: [********************] Val Loss: 0.2645, Val Acc: 0.9085 Elapsed (sec): 174.1\n",
      "Epoch 9/10: [********************] Val Loss: 0.2565, Val Acc: 0.9119 Elapsed (sec): 182.6\n",
      "Epoch 10/10: [********************] Val Loss: 0.2538, Val Acc: 0.9148 Elapsed (sec): 182.0\n"
     ]
    }
   ],
   "source": [
    "# Finetune model with no RFN\n",
    "epochs = 10\n",
    "model_ft = model_ft.to(device)\n",
    "loss_func = nn.CrossEntropyLoss()\n",
    "opt = optim.SGD(model_ft.parameters(), lr=0.001, momentum=0.9)\n",
    "fit(epochs, model_ft, loss_func, opt, train_dl, val_dl)"
   ]
  },
  {
   "cell_type": "code",
   "execution_count": 18,
   "metadata": {},
   "outputs": [],
   "source": [
    "torch.save(model_ft, './models/resnet18_ft_cifar10.pt')"
   ]
  },
  {
   "cell_type": "code",
   "execution_count": 186,
   "metadata": {},
   "outputs": [],
   "source": [
    "model_ft = torch.load('resnet18_ft_cifar10.pt')"
   ]
  },
  {
   "cell_type": "code",
   "execution_count": 19,
   "metadata": {},
   "outputs": [],
   "source": [
    "# Base is new instance of main model\n",
    "resnet_rfn = models.resnet18(pretrained=True)\n",
    "num_ftrs = resnet_rfn.fc.in_features\n",
    "# Configure final fc layer to output num classes\n",
    "resnet_rfn.fc = nn.Linear(num_ftrs, len(classes))\n",
    "\n",
    "# Freeze all layers except initial and final cnn block and final dense classification\n",
    "freeze_all(resnet_rfn.parameters())\n",
    "finetune_layers = ['conv1', 'layer4', 'fc']\n",
    "set_trainable(resnet_rfn, finetune_layers)"
   ]
  },
  {
   "cell_type": "code",
   "execution_count": 22,
   "metadata": {},
   "outputs": [
    {
     "data": {
      "text/plain": [
       "RFN(\n",
       "  (model): ResNet(\n",
       "    (conv1): Conv2d(3, 64, kernel_size=(7, 7), stride=(2, 2), padding=(3, 3), bias=False)\n",
       "    (bn1): BatchNorm2d(64, eps=1e-05, momentum=0.1, affine=True, track_running_stats=True)\n",
       "    (relu): ReLU(inplace=True)\n",
       "    (maxpool): MaxPool2d(kernel_size=3, stride=2, padding=1, dilation=1, ceil_mode=False)\n",
       "    (layer1): Sequential(\n",
       "      (0): BasicBlock(\n",
       "        (conv1): Conv2d(64, 64, kernel_size=(3, 3), stride=(1, 1), padding=(1, 1), bias=False)\n",
       "        (bn1): BatchNorm2d(64, eps=1e-05, momentum=0.1, affine=True, track_running_stats=True)\n",
       "        (relu): ReLU(inplace=True)\n",
       "        (conv2): Conv2d(64, 64, kernel_size=(3, 3), stride=(1, 1), padding=(1, 1), bias=False)\n",
       "        (bn2): BatchNorm2d(64, eps=1e-05, momentum=0.1, affine=True, track_running_stats=True)\n",
       "      )\n",
       "      (1): BasicBlock(\n",
       "        (conv1): Conv2d(64, 64, kernel_size=(3, 3), stride=(1, 1), padding=(1, 1), bias=False)\n",
       "        (bn1): BatchNorm2d(64, eps=1e-05, momentum=0.1, affine=True, track_running_stats=True)\n",
       "        (relu): ReLU(inplace=True)\n",
       "        (conv2): Conv2d(64, 64, kernel_size=(3, 3), stride=(1, 1), padding=(1, 1), bias=False)\n",
       "        (bn2): BatchNorm2d(64, eps=1e-05, momentum=0.1, affine=True, track_running_stats=True)\n",
       "      )\n",
       "    )\n",
       "    (layer2): Sequential(\n",
       "      (0): BasicBlock(\n",
       "        (conv1): Conv2d(64, 128, kernel_size=(3, 3), stride=(2, 2), padding=(1, 1), bias=False)\n",
       "        (bn1): BatchNorm2d(128, eps=1e-05, momentum=0.1, affine=True, track_running_stats=True)\n",
       "        (relu): ReLU(inplace=True)\n",
       "        (conv2): Conv2d(128, 128, kernel_size=(3, 3), stride=(1, 1), padding=(1, 1), bias=False)\n",
       "        (bn2): BatchNorm2d(128, eps=1e-05, momentum=0.1, affine=True, track_running_stats=True)\n",
       "        (downsample): Sequential(\n",
       "          (0): Conv2d(64, 128, kernel_size=(1, 1), stride=(2, 2), bias=False)\n",
       "          (1): BatchNorm2d(128, eps=1e-05, momentum=0.1, affine=True, track_running_stats=True)\n",
       "        )\n",
       "      )\n",
       "      (1): BasicBlock(\n",
       "        (conv1): Conv2d(128, 128, kernel_size=(3, 3), stride=(1, 1), padding=(1, 1), bias=False)\n",
       "        (bn1): BatchNorm2d(128, eps=1e-05, momentum=0.1, affine=True, track_running_stats=True)\n",
       "        (relu): ReLU(inplace=True)\n",
       "        (conv2): Conv2d(128, 128, kernel_size=(3, 3), stride=(1, 1), padding=(1, 1), bias=False)\n",
       "        (bn2): BatchNorm2d(128, eps=1e-05, momentum=0.1, affine=True, track_running_stats=True)\n",
       "      )\n",
       "    )\n",
       "    (layer3): Sequential(\n",
       "      (0): BasicBlock(\n",
       "        (conv1): Conv2d(128, 256, kernel_size=(3, 3), stride=(2, 2), padding=(1, 1), bias=False)\n",
       "        (bn1): BatchNorm2d(256, eps=1e-05, momentum=0.1, affine=True, track_running_stats=True)\n",
       "        (relu): ReLU(inplace=True)\n",
       "        (conv2): Conv2d(256, 256, kernel_size=(3, 3), stride=(1, 1), padding=(1, 1), bias=False)\n",
       "        (bn2): BatchNorm2d(256, eps=1e-05, momentum=0.1, affine=True, track_running_stats=True)\n",
       "        (downsample): Sequential(\n",
       "          (0): Conv2d(128, 256, kernel_size=(1, 1), stride=(2, 2), bias=False)\n",
       "          (1): BatchNorm2d(256, eps=1e-05, momentum=0.1, affine=True, track_running_stats=True)\n",
       "        )\n",
       "      )\n",
       "      (1): BasicBlock(\n",
       "        (conv1): Conv2d(256, 256, kernel_size=(3, 3), stride=(1, 1), padding=(1, 1), bias=False)\n",
       "        (bn1): BatchNorm2d(256, eps=1e-05, momentum=0.1, affine=True, track_running_stats=True)\n",
       "        (relu): ReLU(inplace=True)\n",
       "        (conv2): Conv2d(256, 256, kernel_size=(3, 3), stride=(1, 1), padding=(1, 1), bias=False)\n",
       "        (bn2): BatchNorm2d(256, eps=1e-05, momentum=0.1, affine=True, track_running_stats=True)\n",
       "      )\n",
       "    )\n",
       "    (layer4): Sequential(\n",
       "      (0): BasicBlock(\n",
       "        (conv1): Conv2d(256, 512, kernel_size=(3, 3), stride=(2, 2), padding=(1, 1), bias=False)\n",
       "        (bn1): BatchNorm2d(512, eps=1e-05, momentum=0.1, affine=True, track_running_stats=True)\n",
       "        (relu): ReLU(inplace=True)\n",
       "        (conv2): Conv2d(512, 512, kernel_size=(3, 3), stride=(1, 1), padding=(1, 1), bias=False)\n",
       "        (bn2): BatchNorm2d(512, eps=1e-05, momentum=0.1, affine=True, track_running_stats=True)\n",
       "        (downsample): Sequential(\n",
       "          (0): Conv2d(256, 512, kernel_size=(1, 1), stride=(2, 2), bias=False)\n",
       "          (1): BatchNorm2d(512, eps=1e-05, momentum=0.1, affine=True, track_running_stats=True)\n",
       "        )\n",
       "      )\n",
       "      (1): BasicBlock(\n",
       "        (conv1): Conv2d(512, 512, kernel_size=(3, 3), stride=(1, 1), padding=(1, 1), bias=False)\n",
       "        (bn1): BatchNorm2d(512, eps=1e-05, momentum=0.1, affine=True, track_running_stats=True)\n",
       "        (relu): ReLU(inplace=True)\n",
       "        (conv2): Conv2d(512, 512, kernel_size=(3, 3), stride=(1, 1), padding=(1, 1), bias=False)\n",
       "        (bn2): BatchNorm2d(512, eps=1e-05, momentum=0.1, affine=True, track_running_stats=True)\n",
       "      )\n",
       "    )\n",
       "    (avgpool): AdaptiveAvgPool2d(output_size=(1, 1))\n",
       "    (fc): Linear(in_features=512, out_features=10, bias=True)\n",
       "  )\n",
       ")"
      ]
     },
     "execution_count": 22,
     "metadata": {},
     "output_type": "execute_result"
    }
   ],
   "source": [
    "# Create instances of RFN wrapper, send both to gpu\n",
    "resnet_rfn.to(device)\n",
    "rfn_wrapper = RFN(resnet_rfn, mu=.2, sigma=.05)\n",
    "rfn_wrapper.to(device)"
   ]
  },
  {
   "cell_type": "code",
   "execution_count": 23,
   "metadata": {},
   "outputs": [
    {
     "name": "stdout",
     "output_type": "stream",
     "text": [
      "Epoch 1/10: [********************] Val Loss: 0.7098, Val Acc: 0.7575 Elapsed (sec): 640.1\n",
      "Epoch 2/10: [********************] Val Loss: 0.5655, Val Acc: 0.8042 Elapsed (sec): 639.9\n",
      "Epoch 3/10: [********************] Val Loss: 0.4936, Val Acc: 0.8293 Elapsed (sec): 608.7\n",
      "Epoch 4/10: [********************] Val Loss: 0.4668, Val Acc: 0.8358 Elapsed (sec): 635.8\n",
      "Epoch 5/10: [********************] Val Loss: 0.4369, Val Acc: 0.8485 Elapsed (sec): 636.3\n",
      "Epoch 6/10: [********************] Val Loss: 0.4257, Val Acc: 0.8475 Elapsed (sec): 628.5\n",
      "Epoch 7/10: [********************] Val Loss: 0.4185, Val Acc: 0.8519 Elapsed (sec): 611.7\n",
      "Epoch 8/10: [********************] Val Loss: 0.3961, Val Acc: 0.8627 Elapsed (sec): 640.7\n",
      "Epoch 9/10: [********************] Val Loss: 0.3772, Val Acc: 0.8639 Elapsed (sec): 639.4\n",
      "Epoch 10/10: [********************] Val Loss: 0.3876, Val Acc: 0.8644 Elapsed (sec): 625.9\n"
     ]
    }
   ],
   "source": [
    "# Finetune model with RFN\n",
    "epochs = 10\n",
    "loss_func = nn.CrossEntropyLoss()\n",
    "opt = optim.SGD(resnet_rfn.parameters(), lr=0.001, momentum=0.9)\n",
    "fit(epochs, rfn_wrapper, loss_func, opt, train_dl, val_dl)"
   ]
  },
  {
   "cell_type": "code",
   "execution_count": 24,
   "metadata": {},
   "outputs": [],
   "source": [
    "torch.save(resnet_rfn.state_dict(), f'./models/resnet_cifar_rfn_0.2.pt')"
   ]
  },
  {
   "cell_type": "markdown",
   "metadata": {},
   "source": [
    "## 2. Movie embeddings (40pt)"
   ]
  },
  {
   "cell_type": "markdown",
   "metadata": {},
   "source": [
    "#### 2.1. Compute data Xi,j from the movielens (small) dataset (data and description). Briefly describe your data prep workflow (you can use pandas if needed)."
   ]
  },
  {
   "cell_type": "markdown",
   "metadata": {},
   "source": [
    "The processing stategy to transform data follows:  \n",
    "1) Download ml-latest-small and unzip ratings and movie csv files  \n",
    "2) Calculate median rating per user to use as baseline for likes  \n",
    "3) Join user_medians df with ratings df and then create new 'liked' using rating >= median as a like  \n",
    "4) Drop unneeded columns from result df: ['timestamp','median','rating']  \n",
    "5) Use pd.merge to perform left join of movie df to new rating df to ensure all movies are included (even unrated ones)  \n",
    "6) Use pd.pivot_table to create a user vs movie matrix with values as likes. Essentially each row is a vector of each user's liked movies. Again, ensure all movies are included.  \n",
    "7) Perform dot product of pivot result with itself to get a matrix of MxM containing overlapping like counts for each movie pair  "
   ]
  },
  {
   "cell_type": "code",
   "execution_count": 31,
   "metadata": {},
   "outputs": [],
   "source": [
    "import pandas as pd\n",
    "import numpy as np\n",
    "import torch\n",
    "import torch.nn as nn\n",
    "import torch.nn.functional as F\n",
    "import torch.optim as optim\n",
    "import random\n",
    "import matplotlib.pyplot as plt"
   ]
  },
  {
   "cell_type": "code",
   "execution_count": 32,
   "metadata": {},
   "outputs": [
    {
     "data": {
      "text/plain": [
       "device(type='cuda', index=0)"
      ]
     },
     "execution_count": 32,
     "metadata": {},
     "output_type": "execute_result"
    }
   ],
   "source": [
    "# Set seed\n",
    "random.seed(0)\n",
    "\n",
    "# Check and set device\n",
    "device = torch.device(\"cuda:0\" if torch.cuda.is_available() else \"cpu\")\n",
    "device"
   ]
  },
  {
   "cell_type": "code",
   "execution_count": 33,
   "metadata": {},
   "outputs": [],
   "source": [
    "# Import ratings and movies data into pandas dataframes\n",
    "datapath = '/home/team3/HW2/ml-latest-small/'\n",
    "ratings = pd.read_csv(datapath+'ratings.csv',encoding='utf-8')\n",
    "movies = pd.read_csv(datapath+'movies.csv',encoding='utf-8')"
   ]
  },
  {
   "cell_type": "code",
   "execution_count": 34,
   "metadata": {},
   "outputs": [
    {
     "data": {
      "text/html": [
       "<div>\n",
       "<style scoped>\n",
       "    .dataframe tbody tr th:only-of-type {\n",
       "        vertical-align: middle;\n",
       "    }\n",
       "\n",
       "    .dataframe tbody tr th {\n",
       "        vertical-align: top;\n",
       "    }\n",
       "\n",
       "    .dataframe thead th {\n",
       "        text-align: right;\n",
       "    }\n",
       "</style>\n",
       "<table border=\"1\" class=\"dataframe\">\n",
       "  <thead>\n",
       "    <tr style=\"text-align: right;\">\n",
       "      <th></th>\n",
       "      <th>userId</th>\n",
       "      <th>movieId</th>\n",
       "      <th>rating</th>\n",
       "      <th>timestamp</th>\n",
       "    </tr>\n",
       "  </thead>\n",
       "  <tbody>\n",
       "    <tr>\n",
       "      <th>0</th>\n",
       "      <td>1</td>\n",
       "      <td>1</td>\n",
       "      <td>4.0</td>\n",
       "      <td>964982703</td>\n",
       "    </tr>\n",
       "    <tr>\n",
       "      <th>1</th>\n",
       "      <td>1</td>\n",
       "      <td>3</td>\n",
       "      <td>4.0</td>\n",
       "      <td>964981247</td>\n",
       "    </tr>\n",
       "    <tr>\n",
       "      <th>2</th>\n",
       "      <td>1</td>\n",
       "      <td>6</td>\n",
       "      <td>4.0</td>\n",
       "      <td>964982224</td>\n",
       "    </tr>\n",
       "    <tr>\n",
       "      <th>3</th>\n",
       "      <td>1</td>\n",
       "      <td>47</td>\n",
       "      <td>5.0</td>\n",
       "      <td>964983815</td>\n",
       "    </tr>\n",
       "    <tr>\n",
       "      <th>4</th>\n",
       "      <td>1</td>\n",
       "      <td>50</td>\n",
       "      <td>5.0</td>\n",
       "      <td>964982931</td>\n",
       "    </tr>\n",
       "  </tbody>\n",
       "</table>\n",
       "</div>"
      ],
      "text/plain": [
       "   userId  movieId  rating  timestamp\n",
       "0       1        1     4.0  964982703\n",
       "1       1        3     4.0  964981247\n",
       "2       1        6     4.0  964982224\n",
       "3       1       47     5.0  964983815\n",
       "4       1       50     5.0  964982931"
      ]
     },
     "execution_count": 34,
     "metadata": {},
     "output_type": "execute_result"
    }
   ],
   "source": [
    "ratings.head(5)"
   ]
  },
  {
   "cell_type": "code",
   "execution_count": 35,
   "metadata": {},
   "outputs": [
    {
     "data": {
      "text/html": [
       "<div>\n",
       "<style scoped>\n",
       "    .dataframe tbody tr th:only-of-type {\n",
       "        vertical-align: middle;\n",
       "    }\n",
       "\n",
       "    .dataframe tbody tr th {\n",
       "        vertical-align: top;\n",
       "    }\n",
       "\n",
       "    .dataframe thead th {\n",
       "        text-align: right;\n",
       "    }\n",
       "</style>\n",
       "<table border=\"1\" class=\"dataframe\">\n",
       "  <thead>\n",
       "    <tr style=\"text-align: right;\">\n",
       "      <th></th>\n",
       "      <th>movieId</th>\n",
       "      <th>title</th>\n",
       "      <th>genres</th>\n",
       "    </tr>\n",
       "  </thead>\n",
       "  <tbody>\n",
       "    <tr>\n",
       "      <th>0</th>\n",
       "      <td>1</td>\n",
       "      <td>Toy Story (1995)</td>\n",
       "      <td>Adventure|Animation|Children|Comedy|Fantasy</td>\n",
       "    </tr>\n",
       "    <tr>\n",
       "      <th>1</th>\n",
       "      <td>2</td>\n",
       "      <td>Jumanji (1995)</td>\n",
       "      <td>Adventure|Children|Fantasy</td>\n",
       "    </tr>\n",
       "    <tr>\n",
       "      <th>2</th>\n",
       "      <td>3</td>\n",
       "      <td>Grumpier Old Men (1995)</td>\n",
       "      <td>Comedy|Romance</td>\n",
       "    </tr>\n",
       "    <tr>\n",
       "      <th>3</th>\n",
       "      <td>4</td>\n",
       "      <td>Waiting to Exhale (1995)</td>\n",
       "      <td>Comedy|Drama|Romance</td>\n",
       "    </tr>\n",
       "    <tr>\n",
       "      <th>4</th>\n",
       "      <td>5</td>\n",
       "      <td>Father of the Bride Part II (1995)</td>\n",
       "      <td>Comedy</td>\n",
       "    </tr>\n",
       "  </tbody>\n",
       "</table>\n",
       "</div>"
      ],
      "text/plain": [
       "   movieId                               title  \\\n",
       "0        1                    Toy Story (1995)   \n",
       "1        2                      Jumanji (1995)   \n",
       "2        3             Grumpier Old Men (1995)   \n",
       "3        4            Waiting to Exhale (1995)   \n",
       "4        5  Father of the Bride Part II (1995)   \n",
       "\n",
       "                                        genres  \n",
       "0  Adventure|Animation|Children|Comedy|Fantasy  \n",
       "1                   Adventure|Children|Fantasy  \n",
       "2                               Comedy|Romance  \n",
       "3                         Comedy|Drama|Romance  \n",
       "4                                       Comedy  "
      ]
     },
     "execution_count": 35,
     "metadata": {},
     "output_type": "execute_result"
    }
   ],
   "source": [
    "movies.head(5)"
   ]
  },
  {
   "cell_type": "code",
   "execution_count": 36,
   "metadata": {},
   "outputs": [
    {
     "name": "stdout",
     "output_type": "stream",
     "text": [
      "Movie Count: 9742 9742 9742 9742\n",
      "User Count: 610\n"
     ]
    }
   ],
   "source": [
    "# Rename imported dataframes to preserve original and to shorten names for easier typing\n",
    "df_r = ratings\n",
    "df_m = movies\n",
    "\n",
    "# Determine total user and movie counts\n",
    "movie_ids = df_m['movieId']\n",
    "movie_titles = df_m['title']\n",
    "movie_idxs = df_m.index\n",
    "n_user = len(df_r['userId'].unique())\n",
    "n_movie = len(movie_ids)\n",
    "print('Movie Count:', n_movie, len(movie_ids), len(movie_titles), len(movie_idxs))\n",
    "print('User Count:', n_user)"
   ]
  },
  {
   "cell_type": "code",
   "execution_count": 37,
   "metadata": {},
   "outputs": [],
   "source": [
    "# Create dict to lookup titles from indices later\n",
    "index2movietitle = {i: m for i, m in enumerate(movie_titles)}"
   ]
  },
  {
   "cell_type": "code",
   "execution_count": 38,
   "metadata": {},
   "outputs": [
    {
     "data": {
      "text/plain": [
       "count    100836.000000\n",
       "mean          3.501557\n",
       "std           1.042529\n",
       "min           0.500000\n",
       "25%           3.000000\n",
       "50%           3.500000\n",
       "75%           4.000000\n",
       "max           5.000000\n",
       "Name: rating, dtype: float64"
      ]
     },
     "execution_count": 38,
     "metadata": {},
     "output_type": "execute_result"
    }
   ],
   "source": [
    "# Get statistics on ratings. At this point, we could just use the 50% or mean as the baseline for likes\n",
    "df_r['rating'].describe()"
   ]
  },
  {
   "cell_type": "code",
   "execution_count": 39,
   "metadata": {},
   "outputs": [],
   "source": [
    "# Determine median rating for each user and then join result with ratings df to cater likes to each user\n",
    "user_medians = df_r.groupby(['userId']).rating.agg(['median'])\n",
    "df_r = df_r.set_index('userId').join(user_medians)\n",
    "\n",
    "# Create new column 'liked' where a like is a rating >= to a user's median rating in joined table\n",
    "df_r['liked'] = np.where(df_r['rating'] >= df_r['median'], 1, 0)"
   ]
  },
  {
   "cell_type": "code",
   "execution_count": 40,
   "metadata": {},
   "outputs": [
    {
     "data": {
      "text/html": [
       "<div>\n",
       "<style scoped>\n",
       "    .dataframe tbody tr th:only-of-type {\n",
       "        vertical-align: middle;\n",
       "    }\n",
       "\n",
       "    .dataframe tbody tr th {\n",
       "        vertical-align: top;\n",
       "    }\n",
       "\n",
       "    .dataframe thead th {\n",
       "        text-align: right;\n",
       "    }\n",
       "</style>\n",
       "<table border=\"1\" class=\"dataframe\">\n",
       "  <thead>\n",
       "    <tr style=\"text-align: right;\">\n",
       "      <th></th>\n",
       "      <th>movieId</th>\n",
       "      <th>liked</th>\n",
       "    </tr>\n",
       "    <tr>\n",
       "      <th>userId</th>\n",
       "      <th></th>\n",
       "      <th></th>\n",
       "    </tr>\n",
       "  </thead>\n",
       "  <tbody>\n",
       "    <tr>\n",
       "      <th>1</th>\n",
       "      <td>1</td>\n",
       "      <td>0</td>\n",
       "    </tr>\n",
       "    <tr>\n",
       "      <th>1</th>\n",
       "      <td>3</td>\n",
       "      <td>0</td>\n",
       "    </tr>\n",
       "    <tr>\n",
       "      <th>1</th>\n",
       "      <td>6</td>\n",
       "      <td>0</td>\n",
       "    </tr>\n",
       "    <tr>\n",
       "      <th>1</th>\n",
       "      <td>47</td>\n",
       "      <td>1</td>\n",
       "    </tr>\n",
       "    <tr>\n",
       "      <th>1</th>\n",
       "      <td>50</td>\n",
       "      <td>1</td>\n",
       "    </tr>\n",
       "  </tbody>\n",
       "</table>\n",
       "</div>"
      ],
      "text/plain": [
       "        movieId  liked\n",
       "userId                \n",
       "1             1      0\n",
       "1             3      0\n",
       "1             6      0\n",
       "1            47      1\n",
       "1            50      1"
      ]
     },
     "execution_count": 40,
     "metadata": {},
     "output_type": "execute_result"
    }
   ],
   "source": [
    "# Now that liked has been determined, remove unneeded cols\n",
    "df_r = df_r.drop(['timestamp','median','rating'], axis=1)\n",
    "df_r.head()"
   ]
  },
  {
   "cell_type": "code",
   "execution_count": 41,
   "metadata": {},
   "outputs": [
    {
     "data": {
      "text/plain": [
       "9742"
      ]
     },
     "execution_count": 41,
     "metadata": {},
     "output_type": "execute_result"
    }
   ],
   "source": [
    "# Create userId column from index so that it's preserved after the join\n",
    "df_r['userId'] = df_r.index\n",
    "\n",
    "# Left join to ensure all movies included, even those unrated\n",
    "df_rm = pd.merge(df_m, df_r, on='movieId', how='left')\n",
    "len(df_rm['movieId'].unique())"
   ]
  },
  {
   "cell_type": "code",
   "execution_count": 42,
   "metadata": {},
   "outputs": [
    {
     "name": "stdout",
     "output_type": "stream",
     "text": [
      "torch.Size([610, 9742]) torch.float32 torch.cuda.FloatTensor\n"
     ]
    }
   ],
   "source": [
    "# Pivot on the joined dataframe to get users vs movies with 1s noted for liked movies, then move result to tensor on gpu for faster dot product\n",
    "df_um = df_rm.pivot_table(index='userId', columns='movieId', values='liked', fill_value=0, dropna=False)\n",
    "df_um = torch.tensor(df_um.values, dtype=torch.float).to(device)\n",
    "print(df_um.size(), df_um.dtype, df_um.type())"
   ]
  },
  {
   "cell_type": "code",
   "execution_count": 47,
   "metadata": {},
   "outputs": [
    {
     "name": "stdout",
     "output_type": "stream",
     "text": [
      "torch.Size([9742, 9742]) torch.float32 torch.cuda.FloatTensor False\n"
     ]
    }
   ],
   "source": [
    "# Dot product user vs movies transpose and itself to get sum of likes at each movie i,j position\n",
    "# Using torch and gpu to speed it up\n",
    "X = df_um.transpose(0,1) @ df_um\n",
    "print(X.size(), X.dtype, X.type(), X.requires_grad)"
   ]
  },
  {
   "cell_type": "markdown",
   "metadata": {},
   "source": [
    "#### 2.2. Optimize function c(v1, ..., vM ) over v1, ..., vM using gradient descent (using pytorch or tensorflow). Plot the loss as a function of iteration for various choices (learning rates, choice of optimizers etc)."
   ]
  },
  {
   "cell_type": "markdown",
   "metadata": {},
   "source": [
    "Below we extend the nn.Module to initialize our embedding tensor and to return the cost function. We also define a fit function and a plot function to minimize code reuse over several experiments"
   ]
  },
  {
   "cell_type": "code",
   "execution_count": 91,
   "metadata": {},
   "outputs": [],
   "source": [
    "class MovieCost(nn.Module):\n",
    "    def __init__(self):\n",
    "        super().__init__()\n",
    "        self.weights = nn.Parameter(torch.randn(100, n_movie))\n",
    "\n",
    "    def forward(self, X):\n",
    "        raw = ((self.weights.transpose(0,1) @ self.weights - X)**2)\n",
    "        dia = raw * torch.eye(n_movie, n_movie).to(device)\n",
    "        return torch.sum(raw - dia)"
   ]
  },
  {
   "cell_type": "code",
   "execution_count": 92,
   "metadata": {},
   "outputs": [],
   "source": [
    "def fit(X, model, opt, epochs):\n",
    "    costs =[]\n",
    "    for epoch in range(epochs):\n",
    "        cost = model.forward(X)\n",
    "        cost.backward()\n",
    "        opt.step()\n",
    "        opt.zero_grad()\n",
    "        if epoch % 20 == 0:\n",
    "              print('Step',epoch,'Cost',cost.item())\n",
    "        costs.append(cost.item())\n",
    "    return costs\n",
    "\n",
    "def plot_experiment(costs, steps, options, title, colors, cumulative=False):\n",
    "    plt.title(title+' Experiment')\n",
    "    plt.xlabel('Gradient Descent Iterations')\n",
    "    plt.ylabel('Log(Cost)')\n",
    "    all_steps = steps\n",
    "    for cost, option, color in zip(costs, options, colors):\n",
    "        start = all_steps - steps\n",
    "        plt.plot(np.arange(start,all_steps), np.log(cost), color, label=option)\n",
    "        if cumulative:\n",
    "            all_steps += steps\n",
    "    plt.legend()"
   ]
  },
  {
   "cell_type": "code",
   "execution_count": 76,
   "metadata": {},
   "outputs": [
    {
     "name": "stdout",
     "output_type": "stream",
     "text": [
      "LR: 2e-05\n",
      "Step 0 Cost 1102785664.0\n",
      "Step 20 Cost 21106830.0\n",
      "Step 40 Cost 14424562.0\n",
      "Step 60 Cost 10765262.0\n",
      "Step 80 Cost 9077812.0\n",
      "LR: 1e-05\n",
      "Step 0 Cost 1107306368.0\n",
      "Step 20 Cost 24835204.0\n",
      "Step 40 Cost 22001634.0\n",
      "Step 60 Cost 17287916.0\n",
      "Step 80 Cost 14126723.0\n",
      "LR: 5e-06\n",
      "Step 0 Cost 1098477056.0\n",
      "Step 20 Cost 102588176.0\n",
      "Step 40 Cost 25205036.0\n",
      "Step 60 Cost 23518340.0\n",
      "Step 80 Cost 22245036.0\n"
     ]
    }
   ],
   "source": [
    "# Try SGD with several LRs\n",
    "epochs = 100\n",
    "lrs = [.00002, .00001, .000005]\n",
    "costs =[]\n",
    "for lr in lrs:\n",
    "    model = MovieCost()\n",
    "    model.to(device)\n",
    "    print('LR:',lr)\n",
    "    opt = optim.SGD(model.parameters(), lr=lr)\n",
    "    costs.append(fit(X, model, opt, epochs))"
   ]
  },
  {
   "cell_type": "code",
   "execution_count": 77,
   "metadata": {},
   "outputs": [
    {
     "name": "stdout",
     "output_type": "stream",
     "text": [
      "Using Optimizer: SGD\n"
     ]
    },
    {
     "data": {
      "image/png": "[encoded data removed]",
      "text/plain": [
       "<Figure size 432x288 with 1 Axes>"
      ]
     },
     "metadata": {
      "needs_background": "light"
     },
     "output_type": "display_data"
    }
   ],
   "source": [
    "colors = ['r', 'b', 'g']\n",
    "title = 'Learning Rate'\n",
    "print('Using Optimizer:',opt.__class__.__name__)\n",
    "plot_experiment(costs, epochs, lrs, title, colors)"
   ]
  },
  {
   "cell_type": "code",
   "execution_count": 78,
   "metadata": {},
   "outputs": [
    {
     "name": "stdout",
     "output_type": "stream",
     "text": [
      "LR: 2e-05\n",
      "Step 0 Cost 1098758656.0\n",
      "Step 20 Cost 21943068.0\n",
      "Step 40 Cost 14047007.0\n",
      "Step 60 Cost 10528105.0\n",
      "Step 80 Cost 9124958.0\n",
      "Step 100 Cost 8456797.0\n",
      "Step 120 Cost 8211713.0\n",
      "Step 140 Cost 8147657.0\n",
      "Step 160 Cost 8120781.0\n",
      "Step 180 Cost 8104218.0\n",
      "Step 200 Cost 8093021.0\n",
      "Step 220 Cost 8085252.5\n",
      "Step 240 Cost 8079796.5\n",
      "Step 260 Cost 8075925.0\n",
      "Step 280 Cost 8073145.5\n",
      "Step 300 Cost 8071125.0\n",
      "Step 320 Cost 8069634.5\n",
      "Step 340 Cost 8068521.5\n",
      "Step 360 Cost 8067679.5\n",
      "Step 380 Cost 8067035.0\n",
      "Step 400 Cost 8066537.5\n",
      "Step 420 Cost 8066150.0\n",
      "Step 440 Cost 8065846.0\n",
      "Step 460 Cost 8065606.0\n",
      "Step 480 Cost 8065416.5\n"
     ]
    }
   ],
   "source": [
    "# Run best LR with SGD for more epochs to get best SGD v\n",
    "epochs = 500\n",
    "lrs = [.00002]\n",
    "costs =[]\n",
    "for lr in lrs:\n",
    "    model = MovieCost()\n",
    "    model.to(device)\n",
    "    print('LR:',lr)\n",
    "    opt = optim.SGD(model.parameters(), lr=lr)\n",
    "    costs.append(fit(X, model, opt, epochs))"
   ]
  },
  {
   "cell_type": "code",
   "execution_count": 79,
   "metadata": {},
   "outputs": [
    {
     "name": "stdout",
     "output_type": "stream",
     "text": [
      "Using Optimizer: SGD\n"
     ]
    },
    {
     "data": {
      "image/png": "[encoded data removed]",
      "text/plain": [
       "<Figure size 432x288 with 1 Axes>"
      ]
     },
     "metadata": {
      "needs_background": "light"
     },
     "output_type": "display_data"
    }
   ],
   "source": [
    "colors = ['r', 'b', 'g']\n",
    "title = 'Learning Rate'\n",
    "print('Using Optimizer:',opt.__class__.__name__)\n",
    "plot_experiment(costs, epochs, lrs, title, colors)"
   ]
  },
  {
   "cell_type": "code",
   "execution_count": 141,
   "metadata": {},
   "outputs": [
    {
     "name": "stdout",
     "output_type": "stream",
     "text": [
      "torch.Size([9742, 9742])\n"
     ]
    }
   ],
   "source": [
    "#Save best model parameters for SGD for use later: tensor v embedding our movie likes\n",
    "SGDbest_v = [p for p in model.parameters()][0]\n",
    "SGDbest_v.requires_grad=False\n",
    "print(SGDbest_v.size())"
   ]
  },
  {
   "cell_type": "code",
   "execution_count": 93,
   "metadata": {},
   "outputs": [
    {
     "name": "stdout",
     "output_type": "stream",
     "text": [
      "LR: 1\n",
      "Step 0 Cost 9651146752.0\n",
      "Step 20 Cost 214087888.0\n",
      "Step 40 Cost 26146722.0\n",
      "Step 60 Cost 7090647.0\n",
      "Step 80 Cost 2922103.0\n",
      "Step 100 Cost 1600506.75\n",
      "Step 120 Cost 1182372.25\n",
      "Step 140 Cost 1095166.5\n",
      "Step 160 Cost 1070258.0\n",
      "Step 180 Cost 1061098.25\n",
      "LR: 0.7\n",
      "Step 0 Cost 9650829312.0\n",
      "Step 20 Cost 160835568.0\n",
      "Step 40 Cost 22820898.0\n",
      "Step 60 Cost 6757683.0\n",
      "Step 80 Cost 3003609.5\n",
      "Step 100 Cost 1716388.875\n",
      "Step 120 Cost 1244033.75\n",
      "Step 140 Cost 1109289.75\n",
      "Step 160 Cost 1077213.25\n",
      "Step 180 Cost 1065698.0\n",
      "LR: 0.5\n",
      "Step 0 Cost 9655267328.0\n",
      "Step 20 Cost 153283872.0\n",
      "Step 40 Cost 21694720.0\n",
      "Step 60 Cost 6988811.0\n",
      "Step 80 Cost 3329576.25\n",
      "Step 100 Cost 1983600.625\n",
      "Step 120 Cost 1407242.0\n",
      "Step 140 Cost 1173841.375\n",
      "Step 160 Cost 1101364.0\n",
      "Step 180 Cost 1079909.25\n"
     ]
    }
   ],
   "source": [
    "# Try Adam with several LRs\n",
    "epochs = 200\n",
    "lrs = [1, .7, .5]\n",
    "costs =[]\n",
    "for lr in lrs:\n",
    "    model = MovieCost()\n",
    "    model.to(device)\n",
    "    print('LR:',lr)\n",
    "    opt = optim.Adam(model.parameters(), lr=lr)\n",
    "    costs.append(fit(X, model, opt, epochs))"
   ]
  },
  {
   "cell_type": "code",
   "execution_count": 94,
   "metadata": {},
   "outputs": [
    {
     "name": "stdout",
     "output_type": "stream",
     "text": [
      "Using Optimizer: Adam\n"
     ]
    },
    {
     "data": {
      "image/png": "[encoded data removed]",
      "text/plain": [
       "<Figure size 432x288 with 1 Axes>"
      ]
     },
     "metadata": {
      "needs_background": "light"
     },
     "output_type": "display_data"
    }
   ],
   "source": [
    "colors = ['r', 'b', 'g', 'm']\n",
    "title = 'Learning Rate'\n",
    "print('Using Optimizer:',opt.__class__.__name__)\n",
    "plot_experiment(costs, epochs, lrs, title, colors)"
   ]
  },
  {
   "cell_type": "markdown",
   "metadata": {},
   "source": [
    "From the above experiments, Adam with LR=.5 is best, not only in raw performance over 100 epochs, but also in that Adam can take much higher LRs than than SGD (a LR greater than .002 causes divergence) and thus converges much faster. Consequently, next we further train using Adam, LR=.5 and 500 epochs."
   ]
  },
  {
   "cell_type": "code",
   "execution_count": 144,
   "metadata": {},
   "outputs": [
    {
     "name": "stdout",
     "output_type": "stream",
     "text": [
      "LR: 0.5\n",
      "Step 0 Cost 242560608.0\n",
      "Step 20 Cost 10574404.0\n",
      "Step 40 Cost 1358980.375\n",
      "Step 60 Cost 176011.953125\n",
      "Step 80 Cost 23600.005859375\n",
      "Step 100 Cost 3153.533203125\n",
      "Step 120 Cost 590.6942138671875\n",
      "Step 140 Cost 303.9716796875\n",
      "Step 160 Cost 325.2000427246094\n",
      "Step 180 Cost 380.2244873046875\n",
      "Step 200 Cost 436.64862060546875\n",
      "Step 220 Cost 503.97467041015625\n",
      "Step 240 Cost 787.1342163085938\n",
      "Step 260 Cost 845.3270263671875\n",
      "Step 280 Cost 871.69775390625\n",
      "Step 300 Cost 869.3186645507812\n",
      "Step 320 Cost 912.54541015625\n",
      "Step 340 Cost 918.2579345703125\n",
      "Step 360 Cost 924.7154541015625\n",
      "Step 380 Cost 903.2702026367188\n",
      "Step 400 Cost 897.050048828125\n",
      "Step 420 Cost 897.6204833984375\n",
      "Step 440 Cost 863.269287109375\n",
      "Step 460 Cost 853.2183837890625\n",
      "Step 480 Cost 858.2890014648438\n"
     ]
    }
   ],
   "source": [
    "# Improve best model (Adam, LR=.5) with more epochs\n",
    "epochs = 500\n",
    "lrs = [.5]\n",
    "costs =[]\n",
    "for lr in lrs:\n",
    "    model = MovieCost()\n",
    "    model.to(device)\n",
    "    print('LR:',lr)\n",
    "    opt = optim.Adam(model.parameters(), lr=lr)\n",
    "    costs.append(fit(X, model, opt, epochs))"
   ]
  },
  {
   "cell_type": "code",
   "execution_count": 145,
   "metadata": {},
   "outputs": [
    {
     "name": "stdout",
     "output_type": "stream",
     "text": [
      "Using Optimizer: Adam\n"
     ]
    },
    {
     "data": {
      "image/png": "[encoded data removed]",
      "text/plain": [
       "<Figure size 432x288 with 1 Axes>"
      ]
     },
     "metadata": {
      "needs_background": "light"
     },
     "output_type": "display_data"
    }
   ],
   "source": [
    "colors = ['r', 'b', 'g', 'm']\n",
    "title = 'Learning Rate'\n",
    "print('Using Optimizer:',opt.__class__.__name__)\n",
    "plot_experiment(costs, epochs, lrs, title, colors)"
   ]
  },
  {
   "cell_type": "code",
   "execution_count": 146,
   "metadata": {},
   "outputs": [
    {
     "name": "stdout",
     "output_type": "stream",
     "text": [
      "LR: 0.5\n",
      "Step 0 Cost 242454256.0\n",
      "Step 20 Cost 10667440.0\n",
      "Step 40 Cost 1359373.625\n",
      "Step 60 Cost 177841.625\n",
      "Step 80 Cost 23311.017578125\n",
      "Step 100 Cost 3144.6767578125\n"
     ]
    }
   ],
   "source": [
    "# Trying again, with epochs = 120 to match the minima above\n",
    "epochs = 120\n",
    "lrs = [.5]\n",
    "costs =[]\n",
    "for lr in lrs:\n",
    "    model = MovieCost()\n",
    "    model.to(device)\n",
    "    print('LR:',lr)\n",
    "    opt = optim.Adam(model.parameters(), lr=lr)\n",
    "    costs.append(fit(X, model, opt, epochs))"
   ]
  },
  {
   "cell_type": "code",
   "execution_count": 147,
   "metadata": {},
   "outputs": [
    {
     "name": "stdout",
     "output_type": "stream",
     "text": [
      "Using Optimizer: Adam\n"
     ]
    },
    {
     "data": {
      "image/png": "[encoded data removed]",
      "text/plain": [
       "<Figure size 432x288 with 1 Axes>"
      ]
     },
     "metadata": {
      "needs_background": "light"
     },
     "output_type": "display_data"
    }
   ],
   "source": [
    "colors = ['r', 'b', 'g', 'm']\n",
    "title = 'Learning Rate'\n",
    "print('Using Optimizer:',opt.__class__.__name__)\n",
    "plot_experiment(costs, epochs, lrs, title, colors)"
   ]
  },
  {
   "cell_type": "code",
   "execution_count": 95,
   "metadata": {},
   "outputs": [
    {
     "name": "stdout",
     "output_type": "stream",
     "text": [
      "torch.Size([100, 9742])\n"
     ]
    }
   ],
   "source": [
    "#Save best model parameters: tensor v embedding our movie likes\n",
    "best_v = [p for p in model.parameters()][0]\n",
    "best_v.requires_grad=False\n",
    "print(best_v.size())"
   ]
  },
  {
   "cell_type": "markdown",
   "metadata": {},
   "source": [
    "#### 2.3. Recommend top 10 movies (not vectors or indices but movie names) given movies (a) ‘Apollo 13’, (b) ‘Toy Story’, and (c) ‘Home Alone’ . Describe your recommendation strategy. Do the recommendations change when you change learning rates or optimizers? Why or why not?"
   ]
  },
  {
   "cell_type": "code",
   "execution_count": 96,
   "metadata": {},
   "outputs": [
    {
     "data": {
      "text/plain": [
       "torch.Size([9742, 9742])"
      ]
     },
     "execution_count": 96,
     "metadata": {},
     "output_type": "execute_result"
    }
   ],
   "source": [
    "# The similarity matrix is simply the dot product of the v and it's transpose  \n",
    "dot_sim_matrix = best_v.transpose(0,1) @ best_v\n",
    "mask = mask.to(device)\n",
    "dot_sim_matrix.masked_fill_(mask, 0)\n",
    "dot_sim_matrix.shape"
   ]
  },
  {
   "cell_type": "markdown",
   "metadata": {},
   "source": [
    "#### 2.3.(a,b,c) Top 10s for given movies"
   ]
  },
  {
   "cell_type": "code",
   "execution_count": 122,
   "metadata": {},
   "outputs": [],
   "source": [
    "def topksimilar(keys, similarity_matrix, index2namedict, k=10):\n",
    "    for key in keys:\n",
    "        # Determine index corresponding to partial title in key\n",
    "        key_idx = df_m.index[df_m['title'].str.contains(key+' \\(')]\n",
    "\n",
    "        # Extract matching row from similarity matrix and get top 10 values and indices\n",
    "        a = similarity_matrix[key_idx]\n",
    "        values, indices = torch.topk(a, k)\n",
    "\n",
    "        # Print results\n",
    "        print('Top {0} Matches for {1}'.format(k, key))\n",
    "        for i, (score, idx) in enumerate(zip(values[0], indices[0])):\n",
    "            # Use dict defined earlier to convert from index to title\n",
    "            title = index2namedict[idx.item()]\n",
    "            print('{0:4} {1:6.1f} {2:3} - {3}'.format(idx.item(), np.trunc(score.item()), i+1, title))\n",
    "        print()"
   ]
  },
  {
   "cell_type": "code",
   "execution_count": 125,
   "metadata": {},
   "outputs": [
    {
     "name": "stdout",
     "output_type": "stream",
     "text": [
      "Top 100 Matches for Fargo\n",
      " 257  110.0   1 - Pulp Fiction (1994)\n",
      " 510   99.0   2 - Silence of the Lambs, The (1991)\n",
      " 277   96.0   3 - Shawshank Redemption, The (1994)\n",
      "  46   92.0   4 - Usual Suspects, The (1995)\n",
      " 224   90.0   5 - Star Wars: Episode IV - A New Hope (1977)\n",
      " 659   86.0   6 - Godfather, The (1972)\n",
      " 314   81.0   7 - Forrest Gump (1994)\n",
      "2226   80.0   8 - Fight Club (1999)\n",
      "2145   79.0   9 - American Beauty (1999)\n",
      "1939   78.0  10 - Matrix, The (1999)\n",
      " 898   77.0  11 - Star Wars: Episode V - The Empire Strikes Back (1980)\n",
      " 900   76.0  12 - Raiders of the Lost Ark (Indiana Jones and the Raiders of the Lost Ark) (1981)\n",
      "  43   75.0  13 - Seven (a.k.a. Se7en) (1995)\n",
      "  31   75.0  14 - Twelve Monkeys (a.k.a. 12 Monkeys) (1995)\n",
      " 828   74.0  15 - Reservoir Dogs (1992)\n",
      " 461   74.0  16 - Schindler's List (1993)\n",
      " 863   70.0  17 - Monty Python and the Holy Grail (1975)\n",
      "   0   68.0  18 - Toy Story (1995)\n",
      " 507   68.0  19 - Terminator 2: Judgment Day (1991)\n",
      " 914   67.0  20 - Goodfellas (1990)\n",
      " 911   67.0  21 - Star Wars: Episode VI - Return of the Jedi (1983)\n",
      "3141   65.0  22 - Memento (2000)\n",
      " 922   65.0  23 - Godfather: Part II, The (1974)\n",
      " 915   64.0  24 - Alien (1979)\n",
      " 896   63.0  25 - One Flew Over the Cuckoo's Nest (1975)\n",
      "  97   63.0  26 - Braveheart (1995)\n",
      " 964   61.0  27 - Groundhog Day (1993)\n",
      " 909   61.0  28 - Apocalypse Now (1979)\n",
      "1503   61.0  29 - Saving Private Ryan (1998)\n",
      " 907   60.0  30 - Clockwork Orange, A (1971)\n",
      " 418   60.0  31 - Jurassic Park (1993)\n",
      " 899   59.0  32 - Princess Bride, The (1987)\n",
      "2078   59.0  33 - Sixth Sense, The (1999)\n",
      " 398   58.0  34 - Fugitive, The (1993)\n",
      " 990   58.0  35 - Indiana Jones and the Last Crusade (1989)\n",
      "  98   57.0  36 - Taxi Driver (1976)\n",
      " 474   57.0  37 - Blade Runner (1982)\n",
      "1218   57.0  38 - L.A. Confidential (1997)\n",
      " 254   57.0  39 - Léon: The Professional (a.k.a. The Professional) (Léon) (1994)\n",
      " 923   54.0  40 - Full Metal Jacket (1987)\n",
      "3638   54.0  41 - Lord of the Rings: The Fellowship of the Ring, The (2001)\n",
      " 969   54.0  42 - Back to the Future (1985)\n",
      " 793   54.0  43 - Die Hard (1988)\n",
      " 613   54.0  44 - Trainspotting (1996)\n",
      " 939   53.0  45 - Terminator, The (1984)\n",
      " 957   53.0  46 - Shining, The (1980)\n",
      "4800   53.0  47 - Lord of the Rings: The Return of the King, The (2003)\n",
      " 602   52.0  48 - Dr. Strangelove or: How I Learned to Stop Worrying and Love the Bomb (1964)\n",
      " 902   52.0  49 - Aliens (1986)\n",
      "4137   52.0  50 - Lord of the Rings: The Two Towers, The (2002)\n",
      "2259   51.0  51 - Being John Malkovich (1999)\n",
      "1734   51.0  52 - American History X (1998)\n",
      " 706   50.0  53 - 2001: A Space Odyssey (1968)\n",
      "1298   50.0  54 - Big Lebowski, The (1998)\n",
      "4909   50.0  55 - Eternal Sunshine of the Spotless Mind (2004)\n",
      " 694   50.0  56 - Casablanca (1942)\n",
      " 123   50.0  57 - Apollo 13 (1995)\n",
      "3622   49.0  58 - Amelie (Fabuleux destin d'Amélie Poulain, Le) (2001)\n",
      "3194   49.0  59 - Shrek (2001)\n",
      " 820   47.0  60 - Monty Python's Life of Brian (1979)\n",
      "4615   47.0  61 - Kill Bill: Vol. 1 (2003)\n",
      " 920   46.0  62 - Psycho (1960)\n",
      "1267   46.0  63 - Truman Show, The (1998)\n",
      "1284   46.0  64 - Good Will Hunting (1997)\n",
      "   5   46.0  65 - Heat (1995)\n",
      "2195   46.0  66 - Ferris Bueller's Day Off (1986)\n",
      " 686   45.0  67 - Rear Window (1954)\n",
      " 958   45.0  68 - Stand by Me (1986)\n",
      " 506   45.0  69 - Aladdin (1992)\n",
      "2674   44.0  70 - Gladiator (2000)\n",
      " 322   44.0  71 - Lion King, The (1994)\n",
      " 705   43.0  72 - Citizen Kane (1941)\n",
      "4360   43.0  73 - Finding Nemo (2003)\n",
      "1445   43.0  74 - Breakfast Club, The (1985)\n",
      " 509   43.0  75 - Batman (1989)\n",
      " 815   43.0  76 - Willy Wonka & the Chocolate Factory (1971)\n",
      "5374   43.0  77 - Incredibles, The (2004)\n",
      "6315   43.0  78 - Departed, The (2006)\n",
      " 946   42.0  79 - Graduate, The (1967)\n",
      "2038   42.0  80 - Ghostbusters (a.k.a. Ghost Busters) (1984)\n",
      "2372   42.0  81 - Green Mile, The (1999)\n",
      " 615   41.0  82 - Independence Day (a.k.a. ID4) (1996)\n",
      "2996   41.0  83 - Snatch (2000)\n",
      "1183   41.0  84 - Men in Black (a.k.a. MIB) (1997)\n",
      "3562   41.0  85 - Donnie Darko (2001)\n",
      "1883   41.0  86 - Office Space (1999)\n",
      "1067   41.0  87 - Jaws (1975)\n",
      "1438   41.0  88 - Rain Man (1988)\n",
      "3010   41.0  89 - O Brother, Where Art Thou? (2000)\n",
      "4159   41.0  90 - Catch Me If You Can (2002)\n",
      " 836   40.0  91 - E.T. the Extra-Terrestrial (1982)\n",
      "2945   40.0  92 - Requiem for a Dream (2000)\n",
      "4935   40.0  93 - Kill Bill: Vol. 2 (2004)\n",
      " 903   40.0  94 - Good, the Bad and the Ugly, The (Buono, il brutto, il cattivo, Il) (1966)\n",
      "1576   40.0  95 - Indiana Jones and the Temple of Doom (1984)\n",
      "2983   39.0  96 - Crouching Tiger, Hidden Dragon (Wo hu cang long) (2000)\n",
      " 987   39.0  97 - This Is Spinal Tap (1984)\n",
      "4427   39.0  98 - Pirates of the Caribbean: The Curse of the Black Pearl (2003)\n",
      "6710   39.0  99 - Dark Knight, The (2008)\n",
      "3640   39.0 100 - Beautiful Mind, A (2001)\n",
      "\n"
     ]
    }
   ],
   "source": [
    "keys = ['Fargo']\n",
    "index2namedict = index2movietitle\n",
    "similarity_matrix = dot_sim_matrix\n",
    "topksimilar(keys, similarity_matrix, index2namedict, k=100)"
   ]
  },
  {
   "cell_type": "code",
   "execution_count": 152,
   "metadata": {},
   "outputs": [
    {
     "name": "stdout",
     "output_type": "stream",
     "text": [
      "Top 10 Matches for Apollo 13\n",
      "257 1739.0 \t 1 - Pulp Fiction (1994)\n",
      "1211 1323.0 \t 2 - Hunt for Red October, The (1990)\n",
      "6062 1269.0 \t 3 - Harry Potter and the Goblet of Fire (2005)\n",
      "2372 1196.0 \t 4 - Green Mile, The (1999)\n",
      "990 1190.0 \t 5 - Indiana Jones and the Last Crusade (1989)\n",
      "485 1127.0 \t 6 - Tombstone (1993)\n",
      "905 1118.0 \t 7 - 12 Angry Men (1957)\n",
      "958 1048.0 \t 8 - Stand by Me (1986)\n",
      "943 1048.0 \t 9 - Manhattan (1979)\n",
      "2996 1009.0 \t 10 - Snatch (2000)\n",
      "\n",
      "Top 10 Matches for Toy Story\n",
      "136 1784.0 \t 1 - Desperado (1995)\n",
      "2222 1725.0 \t 2 - Fistful of Dollars, A (Per un pugno di dollari) (1964)\n",
      "2982 1660.0 \t 3 - Unbreakable (2000)\n",
      "780 1524.0 \t 4 - Cinderella (1950)\n",
      "1067 1427.0 \t 5 - Jaws (1975)\n",
      "911 1368.0 \t 6 - Star Wars: Episode VI - Return of the Jedi (1983)\n",
      "969 1325.0 \t 7 - Back to the Future (1985)\n",
      "6330 1318.0 \t 8 - Children of Men (2006)\n",
      "2250 1283.0 \t 9 - Who Framed Roger Rabbit? (1988)\n",
      "4360 1276.0 \t 10 - Finding Nemo (2003)\n",
      "\n",
      "Top 10 Matches for Home Alone\n",
      "3141 1272.0 \t 1 - Memento (2000)\n",
      "383 1168.0 \t 2 - Dave (1993)\n",
      "46 1095.0 \t 3 - Usual Suspects, The (1995)\n",
      "3638 1094.0 \t 4 - Lord of the Rings: The Fellowship of the Ring, The (2001)\n",
      "939 990.0 \t 5 - Terminator, The (1984)\n",
      "4360 954.0 \t 6 - Finding Nemo (2003)\n",
      "3873 948.0 \t 7 - Minority Report (2002)\n",
      "957 945.0 \t 8 - Shining, The (1980)\n",
      "5260 852.0 \t 9 - Spider-Man 2 (2004)\n",
      "5269 842.0 \t 10 - Bourne Supremacy, The (2004)\n",
      "\n"
     ]
    }
   ],
   "source": [
    "keys = ['Apollo 13', 'Toy Story', 'Home Alone']\n",
    "\n",
    "for key in keys:\n",
    "    # Determine index corresponding to partial title in key\n",
    "    key_idx = df_m.index[df_m['title'].str.contains(key+' \\(')]\n",
    "\n",
    "    # Extract matching row from similarity matrix and get top 10 values and indices\n",
    "    a = dot_sim_matrix[key_idx]\n",
    "    values, indices = torch.topk(a, 10)\n",
    "\n",
    "    # Print results\n",
    "    print('Top 10 Matches for', key)\n",
    "    for i, (score, idx) in enumerate(zip(values[0], indices[0])):\n",
    "        # Use dict defined earlier to convert from index to title\n",
    "        title = index2movietitle[idx.item()]\n",
    "        print(idx.item(), np.trunc(score.item()),'\\t',i+1,'-', title)\n",
    "    print()"
   ]
  },
  {
   "cell_type": "markdown",
   "metadata": {},
   "source": [
    "#### Try again with best SGD v"
   ]
  },
  {
   "cell_type": "code",
   "execution_count": 153,
   "metadata": {},
   "outputs": [
    {
     "data": {
      "text/plain": [
       "tensor([[   0.0000, -360.9445,  505.0954,  ...,   31.1583, -216.9703,\n",
       "          222.6164],\n",
       "        [-360.9445,    0.0000, -489.1485,  ..., -142.0982, -206.3832,\n",
       "         -101.9904],\n",
       "        [ 505.0954, -489.1485,    0.0000,  ...,   64.5142,   48.5351,\n",
       "          -28.4190],\n",
       "        ...,\n",
       "        [  31.1583, -142.0982,   64.5142,  ...,    0.0000,  -75.0963,\n",
       "          170.2028],\n",
       "        [-216.9703, -206.3832,   48.5351,  ...,  -75.0963,    0.0000,\n",
       "          -45.8920],\n",
       "        [ 222.6164, -101.9904,  -28.4190,  ...,  170.2028,  -45.8920,\n",
       "            0.0000]], device='cuda:0')"
      ]
     },
     "execution_count": 153,
     "metadata": {},
     "output_type": "execute_result"
    }
   ],
   "source": [
    "# The similarity matrix is simply the dot product of the v and it's transpose  \n",
    "dot_sim_matrix = SGDbest_v.transpose(0,1) @ SGDbest_v\n",
    "dot_sim_matrix.masked_fill_(mask, 0)"
   ]
  },
  {
   "cell_type": "code",
   "execution_count": 154,
   "metadata": {},
   "outputs": [
    {
     "name": "stdout",
     "output_type": "stream",
     "text": [
      "Top 10 Matches for Apollo 13\n",
      "43 1975.0 \t 1 - Seven (a.k.a. Se7en) (1995)\n",
      "2145 1661.0 \t 2 - American Beauty (1999)\n",
      "964 1638.0 \t 3 - Groundhog Day (1993)\n",
      "911 1429.0 \t 4 - Star Wars: Episode VI - Return of the Jedi (1983)\n",
      "613 1402.0 \t 5 - Trainspotting (1996)\n",
      "914 1356.0 \t 6 - Goodfellas (1990)\n",
      "1071 1180.0 \t 7 - Mars Attacks! (1996)\n",
      "659 1170.0 \t 8 - Godfather, The (1972)\n",
      "969 1151.0 \t 9 - Back to the Future (1985)\n",
      "2226 1134.0 \t 10 - Fight Club (1999)\n",
      "\n",
      "Top 10 Matches for Toy Story\n",
      "4615 1839.0 \t 1 - Kill Bill: Vol. 1 (2003)\n",
      "939 1770.0 \t 2 - Terminator, The (1984)\n",
      "990 1767.0 \t 3 - Indiana Jones and the Last Crusade (1989)\n",
      "97 1471.0 \t 4 - Braveheart (1995)\n",
      "506 1457.0 \t 5 - Aladdin (1992)\n",
      "337 1292.0 \t 6 - True Lies (1994)\n",
      "903 1249.0 \t 7 - Good, the Bad and the Ugly, The (Buono, il brutto, il cattivo, Il) (1966)\n",
      "969 1240.0 \t 8 - Back to the Future (1985)\n",
      "43 1201.0 \t 9 - Seven (a.k.a. Se7en) (1995)\n",
      "1022 1164.0 \t 10 - Birds, The (1963)\n",
      "\n",
      "Top 10 Matches for Home Alone\n",
      "1939 1093.0 \t 1 - Matrix, The (1999)\n",
      "898 921.0 \t 2 - Star Wars: Episode V - The Empire Strikes Back (1980)\n",
      "315 875.0 \t 3 - Four Weddings and a Funeral (1994)\n",
      "1445 875.0 \t 4 - Breakfast Club, The (1985)\n",
      "828 874.0 \t 5 - Reservoir Dogs (1992)\n",
      "474 843.0 \t 6 - Blade Runner (1982)\n",
      "527 825.0 \t 7 - Aristocats, The (1970)\n",
      "4529 814.0 \t 8 - Lost in Translation (2003)\n",
      "4334 791.0 \t 9 - X2: X-Men United (2003)\n",
      "949 778.0 \t 10 - Bridge on the River Kwai, The (1957)\n",
      "\n"
     ]
    }
   ],
   "source": [
    "keys = ['Apollo 13', 'Toy Story', 'Home Alone']\n",
    "\n",
    "for key in keys:\n",
    "    # Determine index corresponding to partial title in key\n",
    "    key_idx = df_m.index[df_m['title'].str.contains(key+' \\(')]\n",
    "\n",
    "    # Extract matching row from similarity matrix and get top 10 values and indices\n",
    "    a = dot_sim_matrix[key_idx]\n",
    "    values, indices = torch.topk(a, 10)\n",
    "\n",
    "    # Print results\n",
    "    print('Top 10 Matches for', key)\n",
    "    for i, (score, idx) in enumerate(zip(values[0], indices[0])):\n",
    "        # Use dict defined earlier to convert from index to title\n",
    "        title = index2movietitle[idx.item()]\n",
    "        print(idx.item(), np.trunc(score.item()),'\\t',i+1,'-', title)\n",
    "    print()"
   ]
  },
  {
   "cell_type": "markdown",
   "metadata": {},
   "source": [
    "In general, the Adam optimized parameters seem to predict more logical movies than the SGD based parameters. This is likely due to the much better cost reduction by Adam (<1000) vs SGD (~300K). I expect that SGD could achieve similar results to Adam if a lower LR was used with many, many more gradient descent steps. Given the observed difference in performance between the two, I'm very much inclined to start with Adam next time!"
   ]
  },
  {
   "cell_type": "code",
   "execution_count": null,
   "metadata": {},
   "outputs": [],
   "source": []
  }
 ],
 "metadata": {
  "kernelspec": {
   "display_name": "Python 3",
   "language": "python",
   "name": "python3"
  },
  "language_info": {
   "codemirror_mode": {
    "name": "ipython",
    "version": 3
   },
   "file_extension": ".py",
   "mimetype": "text/x-python",
   "name": "python",
   "nbconvert_exporter": "python",
   "pygments_lexer": "ipython3",
   "version": "3.7.3"
  }
 },
 "nbformat": 4,
 "nbformat_minor": 2
}
