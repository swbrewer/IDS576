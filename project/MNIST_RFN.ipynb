{
 "cells": [
  {
   "cell_type": "markdown",
   "metadata": {},
   "source": [
    "## IDS576 - Team 3\n",
    "#### Training MNIST with Basic CNN and Random Feature Nullification"
   ]
  },
  {
   "cell_type": "code",
   "execution_count": 1,
   "metadata": {},
   "outputs": [],
   "source": [
    "import torch\n",
    "import torch.nn as nn\n",
    "import torch.optim as optim\n",
    "from torch.optim import lr_scheduler\n",
    "from torch.utils.data import SubsetRandomSampler, TensorDataset, DataLoader\n",
    "import torch.nn.functional as F\n",
    "from torchvision import datasets, models, transforms\n",
    "import numpy as np\n",
    "import matplotlib.pyplot as plt\n",
    "import time"
   ]
  },
  {
   "cell_type": "code",
   "execution_count": 2,
   "metadata": {},
   "outputs": [
    {
     "data": {
      "text/plain": [
       "device(type='cuda', index=0)"
      ]
     },
     "execution_count": 2,
     "metadata": {},
     "output_type": "execute_result"
    }
   ],
   "source": [
    "%config IPCompleter.greedy = True\n",
    "random_seed = 0\n",
    "device = torch.device(\"cuda:0\" if torch.cuda.is_available() else \"cpu\")\n",
    "device"
   ]
  },
  {
   "cell_type": "code",
   "execution_count": 3,
   "metadata": {},
   "outputs": [],
   "source": [
    "import numpy as np\n",
    "def get_train_data_stats(train_data):\n",
    "    # use np.concatenate to stick all the images together to form a 1600000 X 32 X 3 array\\\n",
    "    x = np.concatenate([np.asarray(train_data[i][0]) for i in range(len(train_data))])\n",
    "    print(x.shape)\n",
    "    # calculate the mean and std along the (0, 1) axes\n",
    "    train_mean = np.mean(x, axis=(0, 1))\n",
    "    train_std = np.std(x, axis=(0, 1))\n",
    "    print(train_mean, train_std)\n",
    "    return train_mean, train_std"
   ]
  },
  {
   "cell_type": "code",
   "execution_count": 4,
   "metadata": {},
   "outputs": [
    {
     "name": "stdout",
     "output_type": "stream",
     "text": [
      "(1680000, 28)\n",
      "33.318421449829934 78.56748998339798\n",
      "0.1306604762738429 0.30810780385646264\n"
     ]
    }
   ],
   "source": [
    "# load the training data for determination of mean and std\n",
    "data_path = '~/IDS576/data'\n",
    "train_data = datasets.MNIST(root=data_path, train=True, download=True)\n",
    "train_mean, train_std = get_train_data_stats(train_data)\n",
    "print(train_mean/255, train_std/255)"
   ]
  },
  {
   "cell_type": "code",
   "execution_count": 39,
   "metadata": {},
   "outputs": [],
   "source": [
    "train_transform = transforms.Compose([\n",
    "        transforms.ToTensor()])\n",
    "    \n",
    "val_transform = transforms.Compose([\n",
    "        transforms.ToTensor()])"
   ]
  },
  {
   "cell_type": "code",
   "execution_count": 40,
   "metadata": {},
   "outputs": [],
   "source": [
    "# Download train and test data\n",
    "data_path = '~/IDS576/data'\n",
    "trainset = datasets.MNIST(root=data_path, train=True, download=True, transform=train_transform)\n",
    "valset = datasets.MNIST(root=data_path, train=True, download=True, transform=val_transform)\n",
    "testset = datasets.MNIST(root=data_path, train=False, download=True, transform=val_transform)"
   ]
  },
  {
   "cell_type": "code",
   "execution_count": 111,
   "metadata": {},
   "outputs": [],
   "source": [
    "# Split train data in to train and validation data using torch dataset and utils.data modules\n",
    "\n",
    "val_size = .2\n",
    "n_train = len(trainset)\n",
    "\n",
    "# get train set indices and split point based on val size\n",
    "indices = list(range(n_train))\n",
    "split = int(np.floor(val_size * n_train))\n",
    "\n",
    "# shuffle trainset indices\n",
    "np.random.seed(random_seed)\n",
    "np.random.shuffle(indices)\n",
    "\n",
    "# split train into train and val with shuffled indices at split point. \n",
    "train_idx, val_idx = indices[split:], indices[:split]\n",
    "\n",
    "# Create train and val samplers based in split indices for use with DataLoader batch sampling\n",
    "train_sampler = SubsetRandomSampler(train_idx)\n",
    "val_sampler = SubsetRandomSampler(val_idx)\n",
    "\n",
    "batch_size = 20\n",
    "n_trn = n_train*(1-val_size)\n",
    "batches = n_trn/batch_size\n",
    "\n",
    "# CUDA settings\n",
    "num_workers = 0 # allows preload of next batch, but greater than zero isn't recommended for cuda ops\n",
    "pin_memory = True\n",
    "\n",
    "train_dl = DataLoader(\n",
    "    trainset, batch_size=batch_size, sampler=train_sampler,\n",
    "    num_workers=num_workers, pin_memory=pin_memory)\n",
    "\n",
    "val_dl = DataLoader(\n",
    "    valset, batch_size=batch_size, sampler=val_sampler,\n",
    "    num_workers=num_workers, pin_memory=pin_memory)\n",
    "\n",
    "def single_dl(xy, batch_size=1):\n",
    "    return DataLoader(xy, batch_size=batch_size, num_workers=1, pin_memory=pin_memory)"
   ]
  },
  {
   "cell_type": "code",
   "execution_count": 114,
   "metadata": {},
   "outputs": [
    {
     "name": "stdout",
     "output_type": "stream",
     "text": [
      "['0 - zero', '1 - one', '2 - two', '3 - three', '4 - four', '5 - five', '6 - six', '7 - seven', '8 - eight', '9 - nine']\n"
     ]
    }
   ],
   "source": [
    "classes = trainset.classes\n",
    "classdict = {label: name for label, name in enumerate(classes)}\n",
    "print(classes)"
   ]
  },
  {
   "cell_type": "code",
   "execution_count": 122,
   "metadata": {},
   "outputs": [],
   "source": [
    "def loss_batch(model, loss_func, xb, yb, opt=None):\n",
    "    xb = xb.to(device)\n",
    "    yb = yb.to(device)\n",
    "    correct = 0\n",
    "    output = model(xb)\n",
    "    _, preds = torch.max(output, 1)\n",
    "    correct = torch.sum(preds == yb)\n",
    "    acc = correct.double()/len(yb)\n",
    "    loss = loss_func(output, yb)\n",
    "    if opt is not None:\n",
    "        loss.backward()\n",
    "        opt.step()\n",
    "        opt.zero_grad()\n",
    "    return loss.item(), len(xb), acc   \n",
    "\n",
    "def fit(epochs, model, loss_func, opt, train_dl, val_dl):\n",
    "    mod = n_trn/(batch_size*20)\n",
    "    running_corrects = 0\n",
    "    val_accs = []\n",
    "    val_losses = []\n",
    "    for epoch in range(epochs):\n",
    "        since = time.time()\n",
    "        model.train()\n",
    "        #i=0\n",
    "        print(f'Epoch {epoch+1}/{epochs}: [', end='')\n",
    "        for i, (xb, yb) in enumerate(train_dl):\n",
    "            if not i % mod:\n",
    "                print('*', end='')\n",
    "            loss_batch(model, loss_func, xb, yb, opt)\n",
    "            #i+=1\n",
    "        print(']', end='')\n",
    "        model.eval()\n",
    "        print(' Val Loss: ', end='')\n",
    "        with torch.no_grad():\n",
    "            losses, nums, acc = zip(*[loss_batch(model, loss_func, xb, yb) for xb, yb in val_dl])\n",
    "        val_loss = np.sum(np.multiply(losses, nums)) / np.sum(nums)\n",
    "        val_acc = np.sum(np.multiply(acc, nums)) / np.sum(nums)\n",
    "        \n",
    "        # Save history\n",
    "        val_losses.append(val_loss)\n",
    "        val_accs.append(val_acc)\n",
    "\n",
    "        print(f'{val_loss:6.4f}, Val Acc: {val_acc:6.4f} ', end='')\n",
    "        until = time.time()\n",
    "        print(f'Elapsed (sec): {until-since:<5.1f}')\n",
    "    return val_accs, val_losses"
   ]
  },
  {
   "cell_type": "code",
   "execution_count": 123,
   "metadata": {},
   "outputs": [],
   "source": [
    "class MNIST(nn.Module):\n",
    "    \n",
    "    def __init__(self):\n",
    "        super(MNIST, self).__init__()\n",
    "        self.conv1 = nn.Conv2d(1, 28, 3) #1 in channel, 28 filters, 3x3 filter size\n",
    "        self.pool = nn.MaxPool2d(2, 2)\n",
    "        self.fc1 = nn.Linear(28 * 13 * 13, 128)\n",
    "        self.dropout = nn.Dropout(p=.2)\n",
    "        self.fc2 = nn.Linear(128, 10)\n",
    "                             \n",
    "    def forward(self, x):\n",
    "        x = self.pool(F.relu(self.conv1(x)))\n",
    "        x = x.view(-1, 28 * 13 * 13) # Flattens from 28 13*13 (post pool, no pad) 1d 28*13*13 tensor\n",
    "        x = F.relu(self.fc1(x)) # 28*13*13 inputs, 128 outputs\n",
    "        x = self.dropout(x)\n",
    "        x = F.relu(self.fc2(x)) # 128 inputs, 10 outputs to match num classes\n",
    "        return x\n"
   ]
  },
  {
   "cell_type": "code",
   "execution_count": 131,
   "metadata": {},
   "outputs": [],
   "source": [
    "import torch.nn as nn\n",
    "import torch\n",
    "import numpy as np\n",
    "\n",
    "class RFN(nn.Module):\n",
    "    '''Wrapper class that takes any nn.Module based model and adds an RFN layer prior to all other layers.'''\n",
    "    \n",
    "    \n",
    "    def __init__(self, model, mu=.1, sigma=.05, rfn_flag=True):\n",
    "        super(RFN, self).__init__()\n",
    "        self.model = model\n",
    "        self.mu = mu\n",
    "        self.sigma = sigma\n",
    "        self.rfn_flag = rfn_flag\n",
    "        self.shape_vals = None\n",
    "\n",
    "    def forward(self, x):\n",
    "        if self.rfn_flag:\n",
    "            x = self.random_masks(x) * x\n",
    "            x = self.model(x)\n",
    "        else:\n",
    "            x = self.model(x)\n",
    "        return x\n",
    "    \n",
    "    \n",
    "    def random_masks(self, x):\n",
    "        # Set various shape values once to speed processing\n",
    "        if self.shape_vals is None:\n",
    "            self.shape_vals = x.size(), x[0].size(), x[0].nelement()\n",
    "            #print(self.shape_vals)\n",
    "\n",
    "        # Create ones array of size (batch,channel,horiz,vert)\n",
    "        masks = np.ones(self.shape_vals[0])\n",
    "\n",
    "        # Create random masks for each sample in the batch\n",
    "        for mask in masks:\n",
    "            zero_cnt = np.absolute(int(np.ceil((self.sigma * np.random.randn() + self.mu) * self.shape_vals[2])))\n",
    "            zero_idx = np.random.choice(self.shape_vals[2], zero_cnt, replace=False)\n",
    "            mask.reshape(self.shape_vals[2])[zero_idx] = 0\n",
    "            mask.reshape(self.shape_vals[1])\n",
    "        return torch.tensor(masks, dtype=torch.float, device=device)"
   ]
  },
  {
   "cell_type": "code",
   "execution_count": 125,
   "metadata": {},
   "outputs": [],
   "source": [
    "from collections import defaultdict\n",
    "# Create history dict for all models with validation accuracy and loss per epoch\n",
    "history = defaultdict(list)"
   ]
  },
  {
   "cell_type": "code",
   "execution_count": 101,
   "metadata": {},
   "outputs": [
    {
     "name": "stdout",
     "output_type": "stream",
     "text": [
      "Epoch 1/10: [********************] Val Loss: 0.2730, Val Acc: 0.9172 Elapsed (sec): 16.2 \n",
      "Epoch 2/10: [********************] Val Loss: 0.1681, Val Acc: 0.9519 Elapsed (sec): 16.4 \n",
      "Epoch 3/10: [********************] Val Loss: 0.1347, Val Acc: 0.9591 Elapsed (sec): 16.4 \n",
      "Epoch 4/10: [********************] Val Loss: 0.1202, Val Acc: 0.9627 Elapsed (sec): 16.3 \n",
      "Epoch 5/10: [********************] Val Loss: 0.1047, Val Acc: 0.9684 Elapsed (sec): 16.4 \n",
      "Epoch 6/10: [********************] Val Loss: 0.0940, Val Acc: 0.9708 Elapsed (sec): 16.3 \n",
      "Epoch 7/10: [********************] Val Loss: 0.0870, Val Acc: 0.9723 Elapsed (sec): 16.5 \n",
      "Epoch 8/10: [********************] Val Loss: 0.0810, Val Acc: 0.9761 Elapsed (sec): 16.5 \n",
      "Epoch 9/10: [********************] Val Loss: 0.0776, Val Acc: 0.9749 Elapsed (sec): 16.5 \n",
      "Epoch 10/10: [********************] Val Loss: 0.0752, Val Acc: 0.9768 Elapsed (sec): 16.3 \n"
     ]
    }
   ],
   "source": [
    "# Train MNIST without RFN as reference\n",
    "epochs = 10\n",
    "mnist_ref = MNIST()\n",
    "mnist_ref.to(device)\n",
    "loss_func = nn.CrossEntropyLoss()\n",
    "opt = optim.SGD(mnist_ref.parameters(), lr=0.001, momentum=0.9)\n",
    "fit(epochs, mnist_ref, loss_func, opt, train_dl, val_dl)"
   ]
  },
  {
   "cell_type": "code",
   "execution_count": 102,
   "metadata": {},
   "outputs": [],
   "source": [
    "PATH = './models/MNIST_ref.pth'\n",
    "torch.save(mnist_ref.state_dict(), PATH)"
   ]
  },
  {
   "cell_type": "code",
   "execution_count": 132,
   "metadata": {},
   "outputs": [
    {
     "name": "stdout",
     "output_type": "stream",
     "text": [
      "Training RFN, mu=0:\n",
      "Epoch 1/10: [********************] Val Loss: 0.2523, Val Acc: 0.9245 Elapsed (sec): 16.1 \n",
      "Epoch 2/10: [********************] Val Loss: 0.1721, Val Acc: 0.9484 Elapsed (sec): 16.2 \n",
      "Epoch 3/10: [********************] Val Loss: 0.1391, Val Acc: 0.9587 Elapsed (sec): 16.2 \n",
      "Epoch 4/10: [********************] Val Loss: 0.1176, Val Acc: 0.9632 Elapsed (sec): 16.3 \n",
      "Epoch 5/10: [********************] Val Loss: 0.1038, Val Acc: 0.9688 Elapsed (sec): 16.3 \n",
      "Epoch 6/10: [********************] Val Loss: 0.0965, Val Acc: 0.9727 Elapsed (sec): 16.4 \n",
      "Epoch 7/10: [********************] Val Loss: 0.0861, Val Acc: 0.9741 Elapsed (sec): 16.4 \n",
      "Epoch 8/10: [********************] Val Loss: 0.0847, Val Acc: 0.9738 Elapsed (sec): 16.5 \n",
      "Epoch 9/10: [********************] Val Loss: 0.0767, Val Acc: 0.9762 Elapsed (sec): 16.5 \n",
      "Epoch 10/10: [********************] Val Loss: 0.0792, Val Acc: 0.9765 Elapsed (sec): 15.8 \n",
      "Training RFN, mu=0.1:\n",
      "Epoch 1/10: [********************] Val Loss: 0.2724, Val Acc: 0.9187 Elapsed (sec): 20.5 \n",
      "Epoch 2/10: [********************] Val Loss: 0.2009, Val Acc: 0.9384 Elapsed (sec): 20.6 \n",
      "Epoch 3/10: [********************] Val Loss: 0.1572, Val Acc: 0.9531 Elapsed (sec): 22.5 \n",
      "Epoch 4/10: [********************] Val Loss: 0.1319, Val Acc: 0.9600 Elapsed (sec): 29.2 \n",
      "Epoch 5/10: [********************] Val Loss: 0.1180, Val Acc: 0.9630 Elapsed (sec): 29.5 \n",
      "Epoch 6/10: [********************] Val Loss: 0.1090, Val Acc: 0.9658 Elapsed (sec): 29.6 \n",
      "Epoch 7/10: [********************] Val Loss: 0.0979, Val Acc: 0.9699 Elapsed (sec): 29.2 \n",
      "Epoch 8/10: [********************] Val Loss: 0.0935, Val Acc: 0.9703 Elapsed (sec): 29.5 \n",
      "Epoch 9/10: [********************] Val Loss: 0.0871, Val Acc: 0.9734 Elapsed (sec): 29.8 \n",
      "Epoch 10/10: [********************] Val Loss: 0.0845, Val Acc: 0.9740 Elapsed (sec): 29.7 \n",
      "Training RFN, mu=0.2:\n",
      "Epoch 1/10: [********************] Val Loss: 0.2680, Val Acc: 0.9189 Elapsed (sec): 29.3 \n",
      "Epoch 2/10: [********************] Val Loss: 0.2042, Val Acc: 0.9388 Elapsed (sec): 29.1 \n",
      "Epoch 3/10: [********************] Val Loss: 0.1661, Val Acc: 0.9476 Elapsed (sec): 29.3 \n",
      "Epoch 4/10: [********************] Val Loss: 0.1302, Val Acc: 0.9611 Elapsed (sec): 29.4 \n",
      "Epoch 5/10: [********************] Val Loss: 0.1167, Val Acc: 0.9644 Elapsed (sec): 29.4 \n",
      "Epoch 6/10: [********************] Val Loss: 0.1116, Val Acc: 0.9668 Elapsed (sec): 29.5 \n",
      "Epoch 7/10: [********************] Val Loss: 0.1004, Val Acc: 0.9700 Elapsed (sec): 29.5 \n",
      "Epoch 8/10: [********************] Val Loss: 0.1031, Val Acc: 0.9679 Elapsed (sec): 29.3 \n",
      "Epoch 9/10: [********************] Val Loss: 0.0917, Val Acc: 0.9717 Elapsed (sec): 29.8 \n",
      "Epoch 10/10: [********************] Val Loss: 0.0844, Val Acc: 0.9752 Elapsed (sec): 29.4 \n",
      "Training RFN, mu=0.3:\n",
      "Epoch 1/10: [********************] Val Loss: 0.2656, Val Acc: 0.9207 Elapsed (sec): 28.9 \n",
      "Epoch 2/10: [********************] Val Loss: 0.1894, Val Acc: 0.9447 Elapsed (sec): 29.5 \n",
      "Epoch 3/10: [********************] Val Loss: 0.1504, Val Acc: 0.9547 Elapsed (sec): 29.4 \n",
      "Epoch 4/10: [********************] Val Loss: 0.1290, Val Acc: 0.9607 Elapsed (sec): 29.4 \n",
      "Epoch 5/10: [********************] Val Loss: 0.1314, Val Acc: 0.9578 Elapsed (sec): 29.4 \n",
      "Epoch 6/10: [********************] Val Loss: 0.1061, Val Acc: 0.9677 Elapsed (sec): 29.3 \n",
      "Epoch 7/10: [********************] Val Loss: 0.1007, Val Acc: 0.9687 Elapsed (sec): 29.7 \n",
      "Epoch 8/10: [********************] Val Loss: 0.0905, Val Acc: 0.9710 Elapsed (sec): 29.5 \n",
      "Epoch 9/10: [********************] Val Loss: 0.0878, Val Acc: 0.9731 Elapsed (sec): 29.8 \n",
      "Epoch 10/10: [********************] Val Loss: 0.0931, Val Acc: 0.9717 Elapsed (sec): 29.4 \n",
      "Training RFN, mu=0.4:\n",
      "Epoch 1/10: [********************] Val Loss: 0.2939, Val Acc: 0.9100 Elapsed (sec): 29.1 \n",
      "Epoch 2/10: [********************] Val Loss: 0.1886, Val Acc: 0.9450 Elapsed (sec): 29.1 \n",
      "Epoch 3/10: [********************] Val Loss: 0.1518, Val Acc: 0.9551 Elapsed (sec): 29.1 \n",
      "Epoch 4/10: [********************] Val Loss: 0.1277, Val Acc: 0.9621 Elapsed (sec): 29.2 \n",
      "Epoch 5/10: [********************] Val Loss: 0.1116, Val Acc: 0.9661 Elapsed (sec): 29.5 \n",
      "Epoch 6/10: [********************] Val Loss: 0.1025, Val Acc: 0.9692 Elapsed (sec): 29.1 \n",
      "Epoch 7/10: [********************] Val Loss: 0.0945, Val Acc: 0.9713 Elapsed (sec): 29.7 \n",
      "Epoch 8/10: [********************] Val Loss: 0.0900, Val Acc: 0.9717 Elapsed (sec): 29.3 \n",
      "Epoch 9/10: [********************] Val Loss: 0.0865, Val Acc: 0.9735 Elapsed (sec): 29.7 \n",
      "Epoch 10/10: [********************] Val Loss: 0.0816, Val Acc: 0.9752 Elapsed (sec): 29.5 \n",
      "Training RFN, mu=0.5:\n",
      "Epoch 1/10: [********************] Val Loss: 0.5078, Val Acc: 0.8297 Elapsed (sec): 28.9 \n",
      "Epoch 2/10: [********************] Val Loss: 0.2013, Val Acc: 0.9391 Elapsed (sec): 29.2 \n",
      "Epoch 3/10: [********************] Val Loss: 0.1651, Val Acc: 0.9491 Elapsed (sec): 29.4 \n",
      "Epoch 4/10: [********************] Val Loss: 0.1406, Val Acc: 0.9570 Elapsed (sec): 29.5 \n",
      "Epoch 5/10: [********************] Val Loss: 0.1155, Val Acc: 0.9645 Elapsed (sec): 29.6 \n",
      "Epoch 6/10: [********************] Val Loss: 0.1056, Val Acc: 0.9687 Elapsed (sec): 29.3 \n",
      "Epoch 7/10: [********************] Val Loss: 0.0975, Val Acc: 0.9688 Elapsed (sec): 29.7 \n",
      "Epoch 8/10: [********************] Val Loss: 0.0945, Val Acc: 0.9703 Elapsed (sec): 29.3 \n",
      "Epoch 9/10: [********************] Val Loss: 0.0868, Val Acc: 0.9733 Elapsed (sec): 29.7 \n",
      "Epoch 10/10: [********************] Val Loss: 0.0845, Val Acc: 0.9738 Elapsed (sec): 29.5 \n"
     ]
    }
   ],
   "source": [
    "# Train MNIST models: reference and several RFN mu values\n",
    "\n",
    "rfn_mu_vals = [0, .1, .2, .3, .4, .5]\n",
    "epochs = 10\n",
    "\n",
    "for mu in rfn_mu_vals:\n",
    "    print(f'Training RFN, mu={mu}:')\n",
    "    \n",
    "    # Set whether RFN will be used in training\n",
    "    if mu == 0:\n",
    "        rfn_flag = False\n",
    "    else:\n",
    "        rfn_flag = True\n",
    "             \n",
    "    mnist_rfn = MNIST()\n",
    "    mnist_rfn.to(device)\n",
    "    rfn_wrapper = RFN(mnist_rfn, mu=.1, sigma=.05, rfn_flag=rfn_flag)\n",
    "    rfn_wrapper.to(device)\n",
    "    \n",
    "    loss_func = nn.CrossEntropyLoss()\n",
    "    opt = optim.SGD(mnist_rfn.parameters(), lr=0.001, momentum=0.9)\n",
    "    \n",
    "    history[mu] = fit(epochs, rfn_wrapper, loss_func, opt, train_dl, val_dl)\n",
    "    \n",
    "    # Save model\n",
    "    PATH = f'./models/MNIST_rfn_{mu}.pth'\n",
    "    torch.save(mnist_ref.state_dict(), PATH)"
   ]
  },
  {
   "cell_type": "code",
   "execution_count": 135,
   "metadata": {},
   "outputs": [],
   "source": [
    "import pickle\n",
    "with open('./models/mnist_history.pkl', 'wb') as f:\n",
    "    pickle.dump(history, f)"
   ]
  },
  {
   "cell_type": "code",
   "execution_count": 146,
   "metadata": {},
   "outputs": [],
   "source": [
    "with open('./models/mnist_history.pkl', 'rb') as f:\n",
    "    history = pickle.load(f)"
   ]
  },
  {
   "cell_type": "code",
   "execution_count": 147,
   "metadata": {},
   "outputs": [
    {
     "data": {
      "text/plain": [
       "<matplotlib.legend.Legend at 0x7f1df5dba278>"
      ]
     },
     "execution_count": 147,
     "metadata": {},
     "output_type": "execute_result"
    },
    {
     "data": {
      "image/png": "[encoded data removed]",
      "text/plain": [
       "<Figure size 936x360 with 2 Axes>"
      ]
     },
     "metadata": {
      "needs_background": "light"
     },
     "output_type": "display_data"
    }
   ],
   "source": [
    "import matplotlib.pyplot as plt\n",
    "\n",
    "colors = ['k', 'r', 'b', 'g', 'm', 'c']\n",
    "\n",
    "fig, ax = plt.subplots(nrows=1, ncols=2, figsize=(13,5))\n",
    "fig.suptitle('MNIST Training History')\n",
    "ax[0].set_title('Validation Accuracy')\n",
    "ax[1].set_title('Validation Loss')\n",
    "for c, (k, v) in zip(colors, history.items()):\n",
    "    ax[0].plot(range(10), v[0], c+'--', label=str(k))\n",
    "    ax[1].plot(range(10), v[1], c+'--', label=str(k))\n",
    "ax[0].legend(title='RFN Rate')\n",
    "ax[1].legend(title='RFN Rate')"
   ]
  },
  {
   "cell_type": "code",
   "execution_count": null,
   "metadata": {},
   "outputs": [],
   "source": []
  },
  {
   "cell_type": "code",
   "execution_count": 1,
   "metadata": {},
   "outputs": [
    {
     "name": "stdout",
     "output_type": "stream",
     "text": [
      "Wed Nov 27 15:59:55 2019       \r\n",
      "+-----------------------------------------------------------------------------+\r\n",
      "| NVIDIA-SMI 415.27       Driver Version: 415.27       CUDA Version: 10.0     |\r\n",
      "|-------------------------------+----------------------+----------------------+\r\n",
      "| GPU  Name        Persistence-M| Bus-Id        Disp.A | Volatile Uncorr. ECC |\r\n",
      "| Fan  Temp  Perf  Pwr:Usage/Cap|         Memory-Usage | GPU-Util  Compute M. |\r\n",
      "|===============================+======================+======================|\r\n",
      "|   0  GeForce GTX 1080    Off  | 00000000:01:00.0 Off |                  N/A |\r\n",
      "| 54%   82C    P2   146W / 180W |   3974MiB /  8117MiB |     68%      Default |\r\n",
      "+-------------------------------+----------------------+----------------------+\r\n",
      "                                                                               \r\n",
      "+-----------------------------------------------------------------------------+\r\n",
      "| Processes:                                                       GPU Memory |\r\n",
      "|  GPU       PID   Type   Process name                             Usage      |\r\n",
      "|=============================================================================|\r\n",
      "|    0      2254      G   /usr/lib/xorg/Xorg                            33MiB |\r\n",
      "|    0      2288      G   /usr/bin/gnome-shell                          60MiB |\r\n",
      "|    0      9020      C   /home/team3/anaconda3/bin/python            1075MiB |\r\n",
      "|    0     18665      C   /home/team3/anaconda3/bin/python            1705MiB |\r\n",
      "|    0     18996      C   /home/team3/anaconda3/bin/python             579MiB |\r\n",
      "|    0     27269      C   /home/team3/anaconda3/bin/python             509MiB |\r\n",
      "+-----------------------------------------------------------------------------+\r\n"
     ]
    }
   ],
   "source": [
    "!nvidia-smi"
   ]
  },
  {
   "cell_type": "code",
   "execution_count": null,
   "metadata": {},
   "outputs": [],
   "source": []
  }
 ],
 "metadata": {
  "kernelspec": {
   "display_name": "Python 3",
   "language": "python",
   "name": "python3"
  },
  "language_info": {
   "codemirror_mode": {
    "name": "ipython",
    "version": 3
   },
   "file_extension": ".py",
   "mimetype": "text/x-python",
   "name": "python",
   "nbconvert_exporter": "python",
   "pygments_lexer": "ipython3",
   "version": "3.7.3"
  }
 },
 "nbformat": 4,
 "nbformat_minor": 2
}
