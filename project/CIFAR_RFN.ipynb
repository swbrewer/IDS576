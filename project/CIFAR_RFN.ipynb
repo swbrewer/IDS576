{
 "cells": [
  {
   "cell_type": "markdown",
   "metadata": {},
   "source": [
    "## IDS576 - Team 3\n",
    "#### Training CIFAR with Basic CNN and Random Feature Nullification"
   ]
  },
  {
   "cell_type": "code",
   "execution_count": 7,
   "metadata": {},
   "outputs": [],
   "source": [
    "import torch\n",
    "import torch.nn as nn\n",
    "import torch.optim as optim\n",
    "from torch.optim import lr_scheduler\n",
    "from torch.utils.data import SubsetRandomSampler, TensorDataset, DataLoader\n",
    "import torch.nn.functional as F\n",
    "from torchvision import datasets, models, transforms\n",
    "import numpy as np\n",
    "import matplotlib.pyplot as plt\n",
    "import time"
   ]
  },
  {
   "cell_type": "code",
   "execution_count": 8,
   "metadata": {},
   "outputs": [
    {
     "data": {
      "text/plain": [
       "device(type='cuda', index=0)"
      ]
     },
     "execution_count": 8,
     "metadata": {},
     "output_type": "execute_result"
    }
   ],
   "source": [
    "%config IPCompleter.greedy = True\n",
    "random_seed = 0\n",
    "device = torch.device(\"cuda:0\" if torch.cuda.is_available() else \"cpu\")\n",
    "device"
   ]
  },
  {
   "cell_type": "code",
   "execution_count": 9,
   "metadata": {},
   "outputs": [],
   "source": [
    "import numpy as np\n",
    "def get_train_data_stats(train_data):\n",
    "    # use np.concatenate to stick all the images together to form a 1600000 X 32 X 3 array\\\n",
    "    x = np.concatenate([np.asarray(train_data[i][0]) for i in range(len(train_data))])\n",
    "    print(x.shape)\n",
    "    # calculate the mean and std along the (0, 1) axes\n",
    "    train_mean = np.mean(x, axis=(0, 1))\n",
    "    train_std = np.std(x, axis=(0, 1))\n",
    "    print(train_mean, train_std)\n",
    "    return train_mean, train_std"
   ]
  },
  {
   "cell_type": "code",
   "execution_count": 10,
   "metadata": {},
   "outputs": [
    {
     "name": "stdout",
     "output_type": "stream",
     "text": [
      "Files already downloaded and verified\n",
      "(1600000, 32, 3)\n",
      "[125.30691805 122.95039414 113.86538318] [62.99321928 62.08870764 66.70489964]\n",
      "[0.49139968 0.48215841 0.44653091] [0.24703223 0.24348513 0.26158784]\n"
     ]
    }
   ],
   "source": [
    "# load the training data for determination of mean and std\n",
    "data_path = '~/IDS576/data'\n",
    "train_data = datasets.CIFAR10(root=data_path, train=True, download=True)\n",
    "train_mean, train_std = get_train_data_stats(train_data)\n",
    "print(train_mean/255, train_std/255)"
   ]
  },
  {
   "cell_type": "code",
   "execution_count": 11,
   "metadata": {},
   "outputs": [],
   "source": [
    "normalize = transforms.Normalize(\n",
    "    mean=train_mean/255,\n",
    "    std=train_std/255)\n",
    "\n",
    "train_transform = transforms.Compose([\n",
    "        transforms.ToTensor(),\n",
    "        normalize])\n",
    "    \n",
    "val_transform = transforms.Compose([\n",
    "        transforms.ToTensor(),\n",
    "        normalize])"
   ]
  },
  {
   "cell_type": "code",
   "execution_count": 12,
   "metadata": {},
   "outputs": [
    {
     "name": "stdout",
     "output_type": "stream",
     "text": [
      "Files already downloaded and verified\n",
      "Files already downloaded and verified\n",
      "Files already downloaded and verified\n"
     ]
    }
   ],
   "source": [
    "# Download train and test data\n",
    "data_path = '~/IDS576/data'\n",
    "trainset = datasets.CIFAR10(root=data_path, train=True, download=True, transform=train_transform)\n",
    "valset = datasets.CIFAR10(root=data_path, train=True, download=True, transform=val_transform)\n",
    "testset = datasets.CIFAR10(root=data_path, train=False, download=True, transform=val_transform)"
   ]
  },
  {
   "cell_type": "code",
   "execution_count": 13,
   "metadata": {},
   "outputs": [],
   "source": [
    "# Split train data in to train and validation data using torch dataset and utils.data modules\n",
    "\n",
    "val_size = .2\n",
    "n_train = len(trainset)\n",
    "\n",
    "# get train set indices and split point based on val size\n",
    "indices = list(range(n_train))\n",
    "split = int(np.floor(val_size * n_train))\n",
    "\n",
    "# shuffle trainset indices\n",
    "np.random.seed(random_seed)\n",
    "np.random.shuffle(indices)\n",
    "\n",
    "# split train into train and val with shuffled indices at split point. \n",
    "train_idx, val_idx = indices[split:], indices[:split]\n",
    "\n",
    "# Create train and val samplers based in split indices for use with DataLoader batch sampling\n",
    "train_sampler = SubsetRandomSampler(train_idx)\n",
    "val_sampler = SubsetRandomSampler(val_idx)\n",
    "\n",
    "batch_size = 20\n",
    "n_trn = n_train*(1-val_size)\n",
    "batches = n_trn/batch_size\n",
    "\n",
    "# CUDA settings\n",
    "num_workers = 0 # allows preload of next batch, but greater than zero isn't recommended for cuda ops\n",
    "pin_memory = True\n",
    "\n",
    "train_dl = DataLoader(\n",
    "    trainset, batch_size=batch_size, sampler=train_sampler,\n",
    "    num_workers=num_workers, pin_memory=pin_memory)\n",
    "\n",
    "val_dl = DataLoader(\n",
    "    valset, batch_size=batch_size, sampler=val_sampler,\n",
    "    num_workers=num_workers, pin_memory=pin_memory)\n",
    "\n",
    "def single_dl(xy, batch_size=1):\n",
    "    return DataLoader(xy, batch_size=batch_size, num_workers=1, pin_memory=pin_memory)"
   ]
  },
  {
   "cell_type": "code",
   "execution_count": 14,
   "metadata": {},
   "outputs": [
    {
     "name": "stdout",
     "output_type": "stream",
     "text": [
      "['airplane', 'automobile', 'bird', 'cat', 'deer', 'dog', 'frog', 'horse', 'ship', 'truck']\n"
     ]
    }
   ],
   "source": [
    "classes = trainset.classes\n",
    "classdict = {label: name for label, name in enumerate(classes)}\n",
    "print(classes)"
   ]
  },
  {
   "cell_type": "code",
   "execution_count": 15,
   "metadata": {},
   "outputs": [],
   "source": [
    "def loss_batch(model, loss_func, xb, yb, opt=None):\n",
    "    xb = xb.to(device)\n",
    "    yb = yb.to(device)\n",
    "    correct = 0\n",
    "    output = model(xb)\n",
    "    _, preds = torch.max(output, 1)\n",
    "    correct = torch.sum(preds == yb)\n",
    "    acc = correct.double()/len(yb)\n",
    "    loss = loss_func(output, yb)\n",
    "    if opt is not None:\n",
    "        loss.backward()\n",
    "        opt.step()\n",
    "        opt.zero_grad()\n",
    "    return loss.item(), len(xb), acc   \n",
    "\n",
    "def fit(epochs, model, loss_func, opt, train_dl, val_dl):\n",
    "    mod = n_trn/(batch_size*20)\n",
    "    running_corrects = 0\n",
    "    val_accs = []\n",
    "    val_losses = []\n",
    "    for epoch in range(epochs):\n",
    "        since = time.time()\n",
    "        model.train()\n",
    "        #i=0\n",
    "        print(f'Epoch {epoch+1}/{epochs}: [', end='')\n",
    "        for i, (xb, yb) in enumerate(train_dl):\n",
    "            if not i % mod:\n",
    "                print('*', end='')\n",
    "            loss_batch(model, loss_func, xb, yb, opt)\n",
    "            #i+=1\n",
    "        print(']', end='')\n",
    "        model.eval()\n",
    "        print(' Val Loss: ', end='')\n",
    "        with torch.no_grad():\n",
    "            losses, nums, acc = zip(*[loss_batch(model, loss_func, xb, yb) for xb, yb in val_dl])\n",
    "        val_loss = np.sum(np.multiply(losses, nums)) / np.sum(nums)\n",
    "        val_acc = np.sum(np.multiply(acc, nums)) / np.sum(nums)\n",
    "        \n",
    "        # Save history\n",
    "        val_losses.append(val_loss)\n",
    "        val_accs.append(val_acc)\n",
    "\n",
    "        print(f'{val_loss:6.4f}, Val Acc: {val_acc:6.4f} ', end='')\n",
    "        until = time.time()\n",
    "        print(f'Elapsed (sec): {until-since:<5.1f}')\n",
    "    return val_accs, val_losses"
   ]
  },
  {
   "cell_type": "code",
   "execution_count": 68,
   "metadata": {},
   "outputs": [],
   "source": [
    "class CIFAR(nn.Module):\n",
    "    \n",
    "    def __init__(self):\n",
    "        super(CIFAR, self).__init__()\n",
    "        self.conv1 = nn.Conv2d(3, 32, 5, padding=2)\n",
    "        self.batchnorm1 = nn.BatchNorm2d(32, affine=False)\n",
    "        self.conv2 = nn.Conv2d(32, 64, 3, padding=1)\n",
    "        self.batchnorm2 = nn.BatchNorm2d(64, affine=False)\n",
    "        self.conv3 = nn.Conv2d(64, 128, 3, padding=1)\n",
    "        self.batchnorm3 = nn.BatchNorm2d(128, affine=False)\n",
    "        self.fc1 = nn.Linear(128 * 4 * 4, 128)\n",
    "        self.dropout = nn.Dropout(p=.2)\n",
    "        self.fc2 = nn.Linear(128, 64)\n",
    "        self.fc3 = nn.Linear(64, 10)\n",
    "        self.pool = nn.MaxPool2d(2, 2)\n",
    "                             \n",
    "    def forward(self, x):\n",
    "        x = self.batchnorm1(self.conv1(x))\n",
    "        x = self.pool(F.relu(x))\n",
    "        x = self.batchnorm2(self.conv2(x))\n",
    "        x = self.pool(F.relu(x))\n",
    "        x = self.batchnorm3(self.conv3(x))\n",
    "        x = self.pool(F.relu(x))\n",
    "        x = x.view(-1, 128 * 4 * 4) \n",
    "        x = F.relu(self.fc1(x)) \n",
    "        x = self.dropout(x)\n",
    "        x = F.relu(self.fc2(x))\n",
    "        x = F.relu(self.fc3(x))\n",
    "        return x\n"
   ]
  },
  {
   "cell_type": "code",
   "execution_count": 65,
   "metadata": {},
   "outputs": [],
   "source": [
    "import torch.nn as nn\n",
    "import torch\n",
    "import numpy as np\n",
    "\n",
    "class RFN(nn.Module):\n",
    "    '''Wrapper class that takes any nn.Module based model and adds an RFN layer prior to all other layers.'''\n",
    "    \n",
    "    \n",
    "    def __init__(self, model, mu=.1, sigma=.05, rfn_flag=True):\n",
    "        super(RFN, self).__init__()\n",
    "        self.model = model\n",
    "        self.mu = mu\n",
    "        self.sigma = sigma\n",
    "        self.rfn_flag = rfn_flag\n",
    "        self.shape_vals = None\n",
    "\n",
    "    def forward(self, x):\n",
    "        if self.rfn_flag:\n",
    "            x = self.random_masks(x) * x\n",
    "            x = self.model(x)\n",
    "        else:\n",
    "            x = self.model(x)\n",
    "        return x\n",
    "    \n",
    "    \n",
    "    def random_masks(self, x):\n",
    "        # Set various shape values once to speed processing\n",
    "        if self.shape_vals is None:\n",
    "            self.shape_vals = x.size(), x[0].size(), x[0].nelement()\n",
    "            #print(self.shape_vals)\n",
    "\n",
    "        # Create ones array of size (batch,channel,horiz,vert)\n",
    "        masks = np.ones(self.shape_vals[0])\n",
    "\n",
    "        # Create random masks for each sample in the batch\n",
    "        for mask in masks:\n",
    "            zero_cnt = np.absolute(int(np.ceil((self.sigma * np.random.randn() + self.mu) * self.shape_vals[2])))\n",
    "            zero_idx = np.random.choice(self.shape_vals[2], zero_cnt, replace=False)\n",
    "            mask.reshape(self.shape_vals[2])[zero_idx] = 0\n",
    "            mask.reshape(self.shape_vals[1])\n",
    "        return torch.tensor(masks, dtype=torch.float, device=device)"
   ]
  },
  {
   "cell_type": "code",
   "execution_count": 66,
   "metadata": {},
   "outputs": [],
   "source": [
    "from collections import defaultdict\n",
    "# Create history dict for all models with validation accuracy and loss per epoch\n",
    "history = defaultdict(list)"
   ]
  },
  {
   "cell_type": "code",
   "execution_count": 74,
   "metadata": {},
   "outputs": [
    {
     "name": "stdout",
     "output_type": "stream",
     "text": [
      "Epoch 1/5: [********************] Val Loss: 1.5766, Val Acc: 0.4800 Elapsed (sec): 24.3 \n",
      "Epoch 2/5: [********************] Val Loss: 1.0576, Val Acc: 0.6263 Elapsed (sec): 23.3 \n",
      "Epoch 3/5: [********************] Val Loss: 0.9663, Val Acc: 0.6576 Elapsed (sec): 22.7 \n",
      "Epoch 4/5: [********************] Val Loss: 0.8586, Val Acc: 0.6939 Elapsed (sec): 22.9 \n",
      "Epoch 5/5: [********************] Val Loss: 0.8168, Val Acc: 0.7130 Elapsed (sec): 23.0 \n"
     ]
    }
   ],
   "source": [
    "# Train CIFAR without RFN as reference\n",
    "epochs = 5\n",
    "mnist_ref = CIFAR()\n",
    "mnist_ref.to(device)\n",
    "loss_func = nn.CrossEntropyLoss()\n",
    "opt = optim.SGD(mnist_ref.parameters(), lr=0.001, momentum=0.9)\n",
    "history[0] = fit(epochs, mnist_ref, loss_func, opt, train_dl, val_dl)"
   ]
  },
  {
   "cell_type": "code",
   "execution_count": 75,
   "metadata": {},
   "outputs": [
    {
     "name": "stdout",
     "output_type": "stream",
     "text": [
      "Epoch 1/5: [********************] Val Loss: 1.2870, Val Acc: 0.5254 Elapsed (sec): 36.1 \n",
      "Epoch 2/5: [********************] Val Loss: 1.0752, Val Acc: 0.6165 Elapsed (sec): 34.7 \n",
      "Epoch 3/5: [********************] Val Loss: 0.9893, Val Acc: 0.6452 Elapsed (sec): 34.4 \n",
      "Epoch 4/5: [********************] Val Loss: 0.9430, Val Acc: 0.6598 Elapsed (sec): 35.3 \n",
      "Epoch 5/5: [********************] Val Loss: 0.8745, Val Acc: 0.6917 Elapsed (sec): 35.0 \n"
     ]
    }
   ],
   "source": [
    "# Train CIFAR without RFN as reference\n",
    "epochs = 5\n",
    "mnist_ref = CIFAR()\n",
    "mnist_ref.to(device)\n",
    "rfn_wrapper = RFN(mnist_ref, mu=.1, sigma=.05, rfn_flag=True)\n",
    "loss_func = nn.CrossEntropyLoss()\n",
    "opt = optim.SGD(mnist_ref.parameters(), lr=0.001, momentum=0.9)\n",
    "history[0] = fit(epochs, rfn_wrapper, loss_func, opt, train_dl, val_dl)"
   ]
  },
  {
   "cell_type": "code",
   "execution_count": 70,
   "metadata": {},
   "outputs": [
    {
     "name": "stdout",
     "output_type": "stream",
     "text": [
      "Training RFN, mu=0:\n",
      "Epoch 1/10: [********************] Val Loss: 1.3365, Val Acc: 0.5138 Elapsed (sec): 22.9 \n",
      "Epoch 2/10: [********************] Val Loss: 1.0245, Val Acc: 0.6290 Elapsed (sec): 23.0 \n",
      "Epoch 3/10: [********************] Val Loss: 0.9395, Val Acc: 0.6663 Elapsed (sec): 23.2 \n",
      "Epoch 4/10: [********************] Val Loss: 0.8430, Val Acc: 0.7022 Elapsed (sec): 23.3 \n",
      "Epoch 5/10: [********************] Val Loss: 0.8264, Val Acc: 0.7063 Elapsed (sec): 23.0 \n",
      "Epoch 6/10: [********************] Val Loss: 0.8001, Val Acc: 0.7201 Elapsed (sec): 23.3 \n",
      "Epoch 7/10: [********************] Val Loss: 0.7289, Val Acc: 0.7437 Elapsed (sec): 22.9 \n",
      "Epoch 8/10: [********************] Val Loss: 0.6973, Val Acc: 0.7618 Elapsed (sec): 23.3 \n",
      "Epoch 9/10: [********************] Val Loss: 0.7215, Val Acc: 0.7527 Elapsed (sec): 23.1 \n",
      "Epoch 10/10: [********************] Val Loss: 0.6790, Val Acc: 0.7689 Elapsed (sec): 23.5 \n",
      "Training RFN, mu=0.1:\n",
      "Epoch 1/10: [********************] Val Loss: 1.2508, Val Acc: 0.5505 Elapsed (sec): 34.3 \n",
      "Epoch 2/10: [********************] Val Loss: 1.0753, Val Acc: 0.6122 Elapsed (sec): 34.7 \n",
      "Epoch 3/10: [********************] Val Loss: 0.9796, Val Acc: 0.6532 Elapsed (sec): 33.5 \n",
      "Epoch 4/10: [********************] Val Loss: 0.9149, Val Acc: 0.6821 Elapsed (sec): 35.4 \n",
      "Epoch 5/10: [********************] Val Loss: 0.9083, Val Acc: 0.6766 Elapsed (sec): 30.5 \n",
      "Epoch 6/10: [********************] Val Loss: 0.8323, Val Acc: 0.7075 Elapsed (sec): 26.6 \n",
      "Epoch 7/10: [********************] Val Loss: 0.8613, Val Acc: 0.7001 Elapsed (sec): 29.2 \n",
      "Epoch 8/10: [********************] Val Loss: 0.7965, Val Acc: 0.7190 Elapsed (sec): 34.6 \n",
      "Epoch 9/10: [********************] Val Loss: 0.7696, Val Acc: 0.7346 Elapsed (sec): 35.2 \n",
      "Epoch 10/10: [********************] Val Loss: 0.7944, Val Acc: 0.7282 Elapsed (sec): 34.0 \n",
      "Training RFN, mu=0.2:\n",
      "Epoch 1/10: [********************] Val Loss: 1.2803, Val Acc: 0.5396 Elapsed (sec): 34.3 \n",
      "Epoch 2/10: [********************] Val Loss: 1.1316, Val Acc: 0.5899 Elapsed (sec): 34.1 \n",
      "Epoch 3/10: [********************] Val Loss: 1.0136, Val Acc: 0.6367 Elapsed (sec): 34.4 \n",
      "Epoch 4/10: [********************] Val Loss: 0.8838, Val Acc: 0.6837 Elapsed (sec): 34.7 \n",
      "Epoch 5/10: [********************] Val Loss: 0.8602, Val Acc: 0.6968 Elapsed (sec): 35.0 \n",
      "Epoch 6/10: [********************] Val Loss: 0.8431, Val Acc: 0.7000 Elapsed (sec): 34.8 \n",
      "Epoch 7/10: [********************] Val Loss: 0.8507, Val Acc: 0.7045 Elapsed (sec): 35.1 \n",
      "Epoch 8/10: [********************] Val Loss: 0.7997, Val Acc: 0.7210 Elapsed (sec): 36.0 \n",
      "Epoch 9/10: [********************] Val Loss: 0.8373, Val Acc: 0.7147 Elapsed (sec): 34.4 \n",
      "Epoch 10/10: [********************] Val Loss: 0.7661, Val Acc: 0.7356 Elapsed (sec): 34.5 \n",
      "Training RFN, mu=0.3:\n",
      "Epoch 1/10: [********************] Val Loss: 1.4566, Val Acc: 0.4978 Elapsed (sec): 34.4 \n",
      "Epoch 2/10: [********************] Val Loss: 1.2884, Val Acc: 0.5506 Elapsed (sec): 34.2 \n",
      "Epoch 3/10: [********************] Val Loss: 1.0172, Val Acc: 0.6461 Elapsed (sec): 34.7 \n",
      "Epoch 4/10: [********************] Val Loss: 0.9104, Val Acc: 0.6791 Elapsed (sec): 34.4 \n",
      "Epoch 5/10: [********************] Val Loss: 0.8882, Val Acc: 0.6862 Elapsed (sec): 34.5 \n",
      "Epoch 6/10: [********************] Val Loss: 0.8190, Val Acc: 0.7128 Elapsed (sec): 34.7 \n",
      "Epoch 7/10: [********************] Val Loss: 0.8235, Val Acc: 0.7093 Elapsed (sec): 34.4 \n",
      "Epoch 8/10: [********************] Val Loss: 0.7903, Val Acc: 0.7262 Elapsed (sec): 34.3 \n",
      "Epoch 9/10: [********************] Val Loss: 0.7868, Val Acc: 0.7291 Elapsed (sec): 35.0 \n",
      "Epoch 10/10: [********************] Val Loss: 0.8310, Val Acc: 0.7108 Elapsed (sec): 35.6 \n",
      "Training RFN, mu=0.4:\n",
      "Epoch 1/10: [********************] Val Loss: 1.2941, Val Acc: 0.5210 Elapsed (sec): 34.1 \n",
      "Epoch 2/10: [********************] Val Loss: 1.0911, Val Acc: 0.6154 Elapsed (sec): 35.1 \n",
      "Epoch 3/10: [********************] Val Loss: 0.9798, Val Acc: 0.6512 Elapsed (sec): 36.0 \n",
      "Epoch 4/10: [********************] Val Loss: 0.9764, Val Acc: 0.6532 Elapsed (sec): 35.3 \n",
      "Epoch 5/10: [********************] Val Loss: 0.8794, Val Acc: 0.6875 Elapsed (sec): 34.6 \n",
      "Epoch 6/10: [********************] Val Loss: 0.8961, Val Acc: 0.6863 Elapsed (sec): 34.0 \n",
      "Epoch 7/10: [********************] Val Loss: 0.8075, Val Acc: 0.7210 Elapsed (sec): 35.4 \n",
      "Epoch 8/10: [********************] Val Loss: 0.8358, Val Acc: 0.7114 Elapsed (sec): 35.1 \n",
      "Epoch 9/10: [********************] Val Loss: 0.8073, Val Acc: 0.7206 Elapsed (sec): 34.1 \n",
      "Epoch 10/10: [********************] Val Loss: 0.7872, Val Acc: 0.7277 Elapsed (sec): 34.1 \n",
      "Training RFN, mu=0.5:\n",
      "Epoch 1/10: [********************] Val Loss: 1.4715, Val Acc: 0.4775 Elapsed (sec): 34.8 \n",
      "Epoch 2/10: [********************] Val Loss: 1.2834, Val Acc: 0.5565 Elapsed (sec): 35.9 \n",
      "Epoch 3/10: [********************] Val Loss: 1.1688, Val Acc: 0.5921 Elapsed (sec): 34.1 \n",
      "Epoch 4/10: [********************] Val Loss: 1.1524, Val Acc: 0.6005 Elapsed (sec): 35.5 \n",
      "Epoch 5/10: [********************] Val Loss: 1.1011, Val Acc: 0.6143 Elapsed (sec): 35.1 \n",
      "Epoch 6/10: [********************] Val Loss: 1.0682, Val Acc: 0.6293 Elapsed (sec): 34.2 \n",
      "Epoch 7/10: [********************] Val Loss: 1.0509, Val Acc: 0.6306 Elapsed (sec): 35.4 \n",
      "Epoch 8/10: [********************] Val Loss: 1.0384, Val Acc: 0.6386 Elapsed (sec): 34.8 \n",
      "Epoch 9/10: [********************] Val Loss: 1.0138, Val Acc: 0.6482 Elapsed (sec): 34.5 \n",
      "Epoch 10/10: [********************] Val Loss: 1.0376, Val Acc: 0.6522 Elapsed (sec): 35.1 \n"
     ]
    }
   ],
   "source": [
    "# Bulk Train CIFAR models: reference and several RFN mu values\n",
    "\n",
    "rfn_mu_vals = [0, .1, .2, .3, .4, .5]\n",
    "epochs = 10\n",
    "\n",
    "for mu in rfn_mu_vals:\n",
    "    print(f'Training RFN, mu={mu}:')\n",
    "    \n",
    "    # Set whether RFN will be used in training\n",
    "    if mu == 0:\n",
    "        rfn_flag = False\n",
    "    else:\n",
    "        rfn_flag = True\n",
    "             \n",
    "    cifar_rfn = CIFAR()\n",
    "    cifar_rfn.to(device)\n",
    "    rfn_wrapper = RFN(cifar_rfn, mu=.1, sigma=.05, rfn_flag=rfn_flag)\n",
    "    rfn_wrapper.to(device)\n",
    "    \n",
    "    loss_func = nn.CrossEntropyLoss()\n",
    "    opt = optim.SGD(cifar_rfn.parameters(), lr=0.001, momentum=0.9)\n",
    "    \n",
    "    history[mu] = fit(epochs, rfn_wrapper, loss_func, opt, train_dl, val_dl)\n",
    "    \n",
    "    # Save model\n",
    "    PATH = f'./models/CIFAR_rfn_{mu}.pth'\n",
    "    torch.save(mnist_ref.state_dict(), PATH)"
   ]
  },
  {
   "cell_type": "code",
   "execution_count": 71,
   "metadata": {},
   "outputs": [],
   "source": [
    "import pickle\n",
    "with open('./models/cifar_history.pkl', 'wb') as f:\n",
    "    pickle.dump(history, f)"
   ]
  },
  {
   "cell_type": "code",
   "execution_count": 72,
   "metadata": {},
   "outputs": [],
   "source": [
    "with open('./models/cifar_history.pkl', 'rb') as f:\n",
    "    history = pickle.load(f)"
   ]
  },
  {
   "cell_type": "code",
   "execution_count": 73,
   "metadata": {},
   "outputs": [
    {
     "data": {
      "text/plain": [
       "<matplotlib.legend.Legend at 0x7fdb0053ac50>"
      ]
     },
     "execution_count": 73,
     "metadata": {},
     "output_type": "execute_result"
    },
    {
     "data": {
      "image/png": "[encoded data removed]",
      "text/plain": [
       "<Figure size 936x360 with 2 Axes>"
      ]
     },
     "metadata": {
      "needs_background": "light"
     },
     "output_type": "display_data"
    }
   ],
   "source": [
    "import matplotlib.pyplot as plt\n",
    "\n",
    "colors = ['k', 'r', 'b', 'g', 'm', 'c']\n",
    "\n",
    "fig, ax = plt.subplots(nrows=1, ncols=2, figsize=(13,5))\n",
    "fig.suptitle('CIFAR-10 Training History')\n",
    "ax[0].set_title('Validation Accuracy')\n",
    "ax[1].set_title('Validation Loss')\n",
    "for c, (k, v) in zip(colors, history.items()):\n",
    "    ax[0].plot(range(10), v[0], c+'--', label=str(k))\n",
    "    ax[1].plot(range(10), v[1], c+'--', label=str(k))\n",
    "ax[0].legend(title='RFN Rate')\n",
    "ax[1].legend(title='RFN Rate')"
   ]
  },
  {
   "cell_type": "code",
   "execution_count": null,
   "metadata": {},
   "outputs": [],
   "source": []
  }
 ],
 "metadata": {
  "kernelspec": {
   "display_name": "Python 3",
   "language": "python",
   "name": "python3"
  },
  "language_info": {
   "codemirror_mode": {
    "name": "ipython",
    "version": 3
   },
   "file_extension": ".py",
   "mimetype": "text/x-python",
   "name": "python",
   "nbconvert_exporter": "python",
   "pygments_lexer": "ipython3",
   "version": "3.7.3"
  }
 },
 "nbformat": 4,
 "nbformat_minor": 2
}
